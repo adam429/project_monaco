{
 "cells": [
  {
   "cell_type": "code",
   "execution_count": 21,
   "id": "d8e19da3-d878-44e6-80bd-846aadd961bc",
   "metadata": {
    "tags": []
   },
   "outputs": [
    {
     "data": {
      "text/html": [
       "<script src='http://unpkg.com/vue/dist/vue.js'></script><script src='http://unpkg.com/jquery@3.6.0/dist/jquery.js'></script><script src='http://www.gstatic.com/charts/loader.js'></script><script src='http://unpkg.com/chart.js@2.9.3/dist/Chart.bundle.js'></script><script src='http://unpkg.com/chartkick@2.3.0/chartkick.js'></script><script src='http://unpkg.com/vue-chartkick@0.5.1/dist/vue-chartkick.js'></script><script src='http://unpkg.com/element-ui/lib/index.js'></script>"
      ],
      "text/plain": [
       "\"<script src='http://unpkg.com/vue/dist/vue.js'></script><script src='http://unpkg.com/jquery@3.6.0/dist/jquery.js'></script><script src='http://www.gstatic.com/charts/loader.js'></script><script src='http://unpkg.com/chart.js@2.9.3/dist/Chart.bundle.js'></script><script src='http://unpkg.com/chartkick@2.3.0/chartkick.js'></script><script src='http://unpkg.com/vue-chartkick@0.5.1/dist/vue-chartkick.js'></script><script src='http://unpkg.com/element-ui/lib/index.js'></script>\""
      ]
     },
     "metadata": {},
     "output_type": "display_data"
    },
    {
     "data": {
      "text/html": [
       "<link rel='stylesheet' href='https://unpkg.com/element-ui/lib/theme-chalk/index.css'>"
      ],
      "text/plain": [
       "\"<link rel='stylesheet' href='https://unpkg.com/element-ui/lib/theme-chalk/index.css'>\""
      ]
     },
     "metadata": {},
     "output_type": "display_data"
    }
   ],
   "source": [
    "## 基础库加载\n",
    "\n",
    "load './wtcube/wtcube.rb'\n",
    "\n",
    "# Load JS & CSS\n",
    "\n",
    "puts (include_js)\n",
    "puts (include_css)\n",
    "\n",
    "nil"
   ]
  },
  {
   "cell_type": "code",
   "execution_count": 22,
   "id": "ee8d4522-8d34-46fa-80a5-782447402328",
   "metadata": {},
   "outputs": [],
   "source": [
    "# 模拟相关的参数设置\n",
    "\n",
    "load './helper.rb'\n",
    "\n",
    "#世界模拟器\n",
    "world = {\n",
    "    #配置项目\n",
    "    :config => {\n",
    "        # 模拟时长 60个月 = 5年\n",
    "        :sim_time => 60\n",
    "    },\n",
    "\n",
    "    #参数表\n",
    "    :table => {},\n",
    "\n",
    "    #实体\n",
    "    :entity => {},\n",
    "\n",
    "    #状态表\n",
    "    :states => {},\n",
    "}\n",
    "\n",
    "\n",
    "nil"
   ]
  },
  {
   "cell_type": "markdown",
   "id": "5cb4e663-df63-4258-8b6b-2d4619eef5b8",
   "metadata": {
    "tags": []
   },
   "source": [
    "# Project Monaco\n",
    "\n",
    "说明：这里定义参数表，并完成参数表的模拟 和 调整"
   ]
  },
  {
   "cell_type": "markdown",
   "id": "88bcf435-2fcf-406e-9b4f-dff29d789e2b",
   "metadata": {},
   "source": [
    "## 鱼的状态"
   ]
  },
  {
   "cell_type": "markdown",
   "id": "d9278d60-9175-4b1f-afa6-c9ce6250b95e",
   "metadata": {},
   "source": [
    "### A 鱼的年龄\n",
    "\n",
    "年龄：作为生物，鱼在最巅峰状态被捞起来，但是随着年龄，鱼会逐渐变老（但是在Monaco这个长生不老的星球，永远不会死去）。深海科学考察渔船 收环境可持续公约限制，不会捞小鱼苗，只会捞最巅峰状态的青年鱼。因为每次下沉需要消耗Mona燃料，成本极其高，所以从深海科学考察渔船最大化收益的角度，也不会捞年老的鱼（占同样的船舱位置但是工作能力下降），所以捞起来的鱼在开盲盒的时候，年龄都是统一的。\n",
    "\n",
    "鱼的年龄对应的年龄buff是一个衰减的变量，3年从100%到50%，然后长期维持在50%"
   ]
  },
  {
   "cell_type": "code",
   "execution_count": 23,
   "id": "d96ec821-41db-4a46-8d8e-a80893bb67fe",
   "metadata": {},
   "outputs": [],
   "source": [
    "#参数表\n",
    "fish_age_buff = []\n",
    "\n",
    "#衰减率 2%\n",
    "reduction_rate = 0.02\n",
    "\n",
    "#长期维持\n",
    "long_term = 0.5\n",
    "\n",
    "#初始值 100%\n",
    "cur_value = 1\n",
    "\n",
    "world[:config][:sim_time].times do |month|\n",
    "  fish_age_buff.push ([month,cur_value])\n",
    "  next_value = cur_value * (1-reduction_rate)\n",
    "  if next_value > long_term then\n",
    "    cur_value= next_value\n",
    "  else\n",
    "    cur_value = long_term\n",
    "  end\n",
    "end\n",
    "\n",
    "world[:table][:fish_age_buff]=fish_age_buff\n",
    "\n",
    "nil"
   ]
  },
  {
   "cell_type": "code",
   "execution_count": 24,
   "id": "ae864c43-9fa7-4135-92ff-f458422eaeab",
   "metadata": {},
   "outputs": [
    {
     "data": {
      "text/html": [
       "<h4>鱼工作效率随年龄衰减</h4>"
      ],
      "text/plain": [
       "\"<h4>鱼工作效率随年龄衰减</h4>\""
      ]
     },
     "metadata": {},
     "output_type": "display_data"
    },
    {
     "data": {
      "text/html": [
       "\n",
       "\n",
       "<div id=\"app_MWtongTaVU\">\n",
       "\n",
       "<el-container>\n",
       "  <el-main>\n",
       "   \n",
       "    <el-row :gutter=\"24\" type=\"flex\" align=\"middle\" justify=\"center\">\n",
       "    <el-col :span=\"1\" style=\"text-align:center\">\n",
       "      <b></b>\n",
       "    </el-col>\n",
       "    \n",
       "      \n",
       "        <el-col :span=\"11\" style=\"text-align:center\">\n",
       "          <b>值</b>\n",
       "          <div id=\"chart-13\" style=\"height: 300px; width: 100%; text-align: center; color: #999; line-height: 300px; font-size: 14px; font-family: 'Lucida Grande', 'Lucida Sans Unicode', Verdana, Arial, Helvetica, sans-serif;\">Loading...</div>\n",
       "\n",
       "\n",
       "        </el-col>\n",
       "      \n",
       "        <el-col :span=\"11\" style=\"text-align:center\">\n",
       "          <b>一阶变化值</b>\n",
       "          <div id=\"chart-14\" style=\"height: 300px; width: 100%; text-align: center; color: #999; line-height: 300px; font-size: 14px; font-family: 'Lucida Grande', 'Lucida Sans Unicode', Verdana, Arial, Helvetica, sans-serif;\">Loading...</div>\n",
       "\n",
       "\n",
       "        </el-col>\n",
       "      \n",
       "    </el-row>\n",
       "   \n",
       "  </el-main>\n",
       "</el-container>\n",
       "</div>\n",
       "\n",
       "\n",
       "<script>\n",
       "  Vue.use(VueChartkick.use(Chart))\n",
       "\n",
       "  app = new Vue({\n",
       "    el: '#app_MWtongTaVU',\n",
       "  })\n",
       "</script><script>\n",
       "  (function() {\n",
       "    if (document.documentElement.hasAttribute(\"data-turbolinks-preview\")) return;\n",
       "    if (document.documentElement.hasAttribute(\"data-turbo-preview\")) return;\n",
       "\n",
       "    var createChart = function() { new Chartkick[\"LineChart\"](\"chart-14\", [[0,-0.020000000000000018],[1,-0.020000000000000063],[2,-0.020000000000000004],[3,-0.02000000000000004],[4,-0.020000000000000073],[5,-0.02000000000000002],[6,-0.019999999999999987],[7,-0.02000000000000005],[8,-0.019999999999999997],[9,-0.01999999999999999],[10,-0.020000000000000025],[11,-0.019999999999999976],[12,-0.020000000000000052],[13,-0.020000000000000018],[14,-0.02000000000000003],[15,-0.01999999999999999],[16,-0.019999999999999983],[17,-0.020000000000000077],[18,-0.020000000000000007],[19,-0.01999999999999998],[20,-0.020000000000000066],[21,-0.02000000000000001],[22,-0.020000000000000087],[23,-0.019999999999999973],[24,-0.020000000000000087],[25,-0.019999999999999997],[26,-0.019999999999999955],[27,-0.019999999999999983],[28,-0.019999999999999952],[29,-0.019999999999999993],[30,-0.02000000000000007],[31,-0.02000000000000002],[32,-0.019999999999999945],[33,-0.020000000000000014],[34,-0.006235609154297861],[35,0.0],[36,0.0],[37,0.0],[38,0.0],[39,0.0],[40,0.0],[41,0.0],[42,0.0],[43,0.0],[44,0.0],[45,0.0],[46,0.0],[47,0.0],[48,0.0],[49,0.0],[50,0.0],[51,0.0],[52,0.0],[53,0.0],[54,0.0],[55,0.0],[56,0.0],[57,0.0],[58,0.0]], {\"points\":false}); };\n",
       "    if (\"Chartkick\" in window) {\n",
       "      createChart();\n",
       "    } else {\n",
       "      window.addEventListener(\"chartkick:load\", createChart, true);\n",
       "    }\n",
       "  })();\n",
       "</script><script>\n",
       "  (function() {\n",
       "    if (document.documentElement.hasAttribute(\"data-turbolinks-preview\")) return;\n",
       "    if (document.documentElement.hasAttribute(\"data-turbo-preview\")) return;\n",
       "\n",
       "    var createChart = function() { new Chartkick[\"LineChart\"](\"chart-13\", [[0,1],[1,0.98],[2,0.9603999999999999],[3,0.9411919999999999],[4,0.9223681599999999],[5,0.9039207967999998],[6,0.8858423808639998],[7,0.8681255332467198],[8,0.8507630225817854],[9,0.8337477621301497],[10,0.8170728068875467],[11,0.8007313507497957],[12,0.7847167237347998],[13,0.7690223892601038],[14,0.7536419414749017],[15,0.7385691026454037],[16,0.7237977205924956],[17,0.7093217661806457],[18,0.6951353308570327],[19,0.6812326242398921],[20,0.6676079717550942],[21,0.6542558123199923],[22,0.6411706960735924],[23,0.6283472821521205],[24,0.6157803365090782],[25,0.6034647297788965],[26,0.5913954351833186],[27,0.5795675264796523],[28,0.5679761759500592],[29,0.5566166524310581],[30,0.5454843193824369],[31,0.5345746329947881],[32,0.5238831403348924],[33,0.5134054775281945],[34,0.5031373679776306],[35,0.5],[36,0.5],[37,0.5],[38,0.5],[39,0.5],[40,0.5],[41,0.5],[42,0.5],[43,0.5],[44,0.5],[45,0.5],[46,0.5],[47,0.5],[48,0.5],[49,0.5],[50,0.5],[51,0.5],[52,0.5],[53,0.5],[54,0.5],[55,0.5],[56,0.5],[57,0.5],[58,0.5],[59,0.5]], {\"points\":false}); };\n",
       "    if (\"Chartkick\" in window) {\n",
       "      createChart();\n",
       "    } else {\n",
       "      window.addEventListener(\"chartkick:load\", createChart, true);\n",
       "    }\n",
       "  })();\n",
       "</script>"
      ],
      "text/plain": [
       "\"\\n\\n<div id=\\\"app_MWtongTaVU\\\">\\n\\n<el-container>\\n  <el-main>\\n   \\n    <el-row :gutter=\\\"24\\\" type=\\\"flex\\\" align=\\\"middle\\\" justify=\\\"center\\\">\\n    <el-col :span=\\\"1\\\" style=\\\"text-align:center\\\">\\n      <b></b>\\n    </el-col>\\n    \\n      \\n        <el-col :span=\\\"11\\\" style=\\\"text-align:center\\\">\\n          <b>值</b>\\n          <div id=\\\"chart-13\\\" style=\\\"height: 300px; width: 100%; text-align: center; color: #999; line-height: 300px; font-size: 14px; font-family: 'Lucida Grande', 'Lucida Sans Unicode', Verdana, Arial, Helvetica, sans-serif;\\\">Loading...</div>\\n\\n\\n        </el-col>\\n      \\n        <el-col :span=\\\"11\\\" style=\\\"text-align:center\\\">\\n          <b>一阶变化值</b>\\n          <div id=\\\"chart-14\\\" style=\\\"height: 300px; width: 100%; text-align: center; color: #999; line-height: 300px; font-size: 14px; font-family: 'Lucida Grande', 'Lucida Sans Unicode', Verdana, Arial, Helvetica, sans-serif;\\\">Loading...</div>\\n\\n\\n        </el-col>\\n      \\n    </el-row>\\n   \\n  </el-main>\\n</el-container>\\n</div>\\n\\n\\n<script>\\n  Vue.use(VueChartkick.use(Chart))\\n\\n  app = new Vue({\\n    el: '#app_MWtongTaVU',\\n  })\\n</script><script>\\n  (function() {\\n    if (document.documentElement.hasAttribute(\\\"data-turbolinks-preview\\\")) return;\\n    if (document.documentElement.hasAttribute(\\\"data-turbo-preview\\\")) return;\\n\\n    var createChart = function() { new Chartkick[\\\"LineChart\\\"](\\\"chart-14\\\", [[0,-0.020000000000000018],[1,-0.020000000000000063],[2,-0.020000000000000004],[3,-0.02000000000000004],[4,-0.020000000000000073],[5,-0.02000000000000002],[6,-0.019999999999999987],[7,-0.02000000000000005],[8,-0.019999999999999997],[9,-0.01999999999999999],[10,-0.020000000000000025],[11,-0.019999999999999976],[12,-0.020000000000000052],[13,-0.020000000000000018],[14,-0.02000000000000003],[15,-0.01999999999999999],[16,-0.019999999999999983],[17,-0.020000000000000077],[18,-0.020000000000000007],[19,-0.01999999999999998],[20,-0.020000000000000066],[21,-0.02000000000000001],[22,-0.020000000000000087],[23,-0.019999999999999973],[24,-0.020000000000000087],[25,-0.019999999999999997],[26,-0.019999999999999955],[27,-0.019999999999999983],[28,-0.019999999999999952],[29,-0.019999999999999993],[30,-0.02000000000000007],[31,-0.02000000000000002],[32,-0.019999999999999945],[33,-0.020000000000000014],[34,-0.006235609154297861],[35,0.0],[36,0.0],[37,0.0],[38,0.0],[39,0.0],[40,0.0],[41,0.0],[42,0.0],[43,0.0],[44,0.0],[45,0.0],[46,0.0],[47,0.0],[48,0.0],[49,0.0],[50,0.0],[51,0.0],[52,0.0],[53,0.0],[54,0.0],[55,0.0],[56,0.0],[57,0.0],[58,0.0]], {\\\"points\\\":false}); };\\n    if (\\\"Chartkick\\\" in window) {\\n      createChart();\\n    } else {\\n      window.addEventListener(\\\"chartkick:load\\\", createChart, true);\\n    }\\n  })();\\n</script><script>\\n  (function() {\\n    if (document.documentElement.hasAttribute(\\\"data-turbolinks-preview\\\")) return;\\n    if (document.documentElement.hasAttribute(\\\"data-turbo-preview\\\")) return;\\n\\n    var createChart = function() { new Chartkick[\\\"LineChart\\\"](\\\"chart-13\\\", [[0,1],[1,0.98],[2,0.9603999999999999],[3,0.9411919999999999],[4,0.9223681599999999],[5,0.9039207967999998],[6,0.8858423808639998],[7,0.8681255332467198],[8,0.8507630225817854],[9,0.8337477621301497],[10,0.8170728068875467],[11,0.8007313507497957],[12,0.7847167237347998],[13,0.7690223892601038],[14,0.7536419414749017],[15,0.7385691026454037],[16,0.7237977205924956],[17,0.7093217661806457],[18,0.6951353308570327],[19,0.6812326242398921],[20,0.6676079717550942],[21,0.6542558123199923],[22,0.6411706960735924],[23,0.6283472821521205],[24,0.6157803365090782],[25,0.6034647297788965],[26,0.5913954351833186],[27,0.5795675264796523],[28,0.5679761759500592],[29,0.5566166524310581],[30,0.5454843193824369],[31,0.5345746329947881],[32,0.5238831403348924],[33,0.5134054775281945],[34,0.5031373679776306],[35,0.5],[36,0.5],[37,0.5],[38,0.5],[39,0.5],[40,0.5],[41,0.5],[42,0.5],[43,0.5],[44,0.5],[45,0.5],[46,0.5],[47,0.5],[48,0.5],[49,0.5],[50,0.5],[51,0.5],[52,0.5],[53,0.5],[54,0.5],[55,0.5],[56,0.5],[57,0.5],[58,0.5],[59,0.5]], {\\\"points\\\":false}); };\\n    if (\\\"Chartkick\\\" in window) {\\n      createChart();\\n    } else {\\n      window.addEventListener(\\\"chartkick:load\\\", createChart, true);\\n    }\\n  })();\\n</script>\""
      ]
     },
     "metadata": {},
     "output_type": "display_data"
    }
   ],
   "source": [
    "puts_header \"鱼工作效率随年龄衰减\", :level=>4\n",
    "delta_chart(fish_age_buff)\n"
   ]
  },
  {
   "cell_type": "code",
   "execution_count": 25,
   "id": "c8418a8e-ff97-4d9c-9bd5-9e6ca5da5451",
   "metadata": {},
   "outputs": [
    {
     "data": {
      "text/html": [
       "<table><tr><td>0</td><td>1</td></tr><tr><td>1</td><td>0.98</td></tr><tr><td>2</td><td>0.9603999999999999</td></tr><tr><td>3</td><td>0.9411919999999999</td></tr><tr><td>4</td><td>0.9223681599999999</td></tr><tr><td>5</td><td>0.9039207967999998</td></tr><tr><td>6</td><td>0.8858423808639998</td></tr><tr><td>7</td><td>0.8681255332467198</td></tr><tr><td>8</td><td>0.8507630225817854</td></tr><tr><td>9</td><td>0.8337477621301497</td></tr><tr><td>10</td><td>0.8170728068875467</td></tr><tr><td>11</td><td>0.8007313507497957</td></tr><tr><td>12</td><td>0.7847167237347998</td></tr><tr><td>13</td><td>0.7690223892601038</td></tr><tr><td>14</td><td>0.7536419414749017</td></tr><tr><td>15</td><td>0.7385691026454037</td></tr><tr><td>16</td><td>0.7237977205924956</td></tr><tr><td>17</td><td>0.7093217661806457</td></tr><tr><td>18</td><td>0.6951353308570327</td></tr><tr><td>19</td><td>0.6812326242398921</td></tr><tr><td>20</td><td>0.6676079717550942</td></tr><tr><td>21</td><td>0.6542558123199923</td></tr><tr><td>22</td><td>0.6411706960735924</td></tr><tr><td>23</td><td>0.6283472821521205</td></tr><tr><td>24</td><td>0.6157803365090782</td></tr><tr><td>25</td><td>0.6034647297788965</td></tr><tr><td>26</td><td>0.5913954351833186</td></tr><tr><td>27</td><td>0.5795675264796523</td></tr><tr><td>28</td><td>0.5679761759500592</td></tr><tr><td>29</td><td>0.5566166524310581</td></tr><tr><td>30</td><td>0.5454843193824369</td></tr><tr><td>31</td><td>0.5345746329947881</td></tr><tr><td>32</td><td>0.5238831403348924</td></tr><tr><td>33</td><td>0.5134054775281945</td></tr><tr><td>34</td><td>0.5031373679776306</td></tr><tr><td>35</td><td>0.5</td></tr><tr><td>36</td><td>0.5</td></tr><tr><td>37</td><td>0.5</td></tr><tr><td>38</td><td>0.5</td></tr><tr><td>39</td><td>0.5</td></tr><tr><td>40</td><td>0.5</td></tr></table>"
      ],
      "text/plain": [
       "\"<table><tr><td>0</td><td>1</td></tr><tr><td>1</td><td>0.98</td></tr><tr><td>2</td><td>0.9603999999999999</td></tr><tr><td>3</td><td>0.9411919999999999</td></tr><tr><td>4</td><td>0.9223681599999999</td></tr><tr><td>5</td><td>0.9039207967999998</td></tr><tr><td>6</td><td>0.8858423808639998</td></tr><tr><td>7</td><td>0.8681255332467198</td></tr><tr><td>8</td><td>0.8507630225817854</td></tr><tr><td>9</td><td>0.8337477621301497</td></tr><tr><td>10</td><td>0.8170728068875467</td></tr><tr><td>11</td><td>0.8007313507497957</td></tr><tr><td>12</td><td>0.7847167237347998</td></tr><tr><td>13</td><td>0.7690223892601038</td></tr><tr><td>14</td><td>0.7536419414749017</td></tr><tr><td>15</td><td>0.7385691026454037</td></tr><tr><td>16</td><td>0.7237977205924956</td></tr><tr><td>17</td><td>0.7093217661806457</td></tr><tr><td>18</td><td>0.6951353308570327</td></tr><tr><td>19</td><td>0.6812326242398921</td></tr><tr><td>20</td><td>0.6676079717550942</td></tr><tr><td>21</td><td>0.6542558123199923</td></tr><tr><td>22</td><td>0.6411706960735924</td></tr><tr><td>23</td><td>0.6283472821521205</td></tr><tr><td>24</td><td>0.6157803365090782</td></tr><tr><td>25</td><td>0.6034647297788965</td></tr><tr><td>26</td><td>0.5913954351833186</td></tr><tr><td>27</td><td>0.5795675264796523</td></tr><tr><td>28</td><td>0.5679761759500592</td></tr><tr><td>29</td><td>0.5566166524310581</td></tr><tr><td>30</td><td>0.5454843193824369</td></tr><tr><td>31</td><td>0.5345746329947881</td></tr><tr><td>32</td><td>0.5238831403348924</td></tr><tr><td>33</td><td>0.5134054775281945</td></tr><tr><td>34</td><td>0.5031373679776306</td></tr><tr><td>35</td><td>0.5</td></tr><tr><td>36</td><td>0.5</td></tr><tr><td>37</td><td>0.5</td></tr><tr><td>38</td><td>0.5</td></tr><tr><td>39</td><td>0.5</td></tr><tr><td>40</td><td>0.5</td></tr></table>\""
      ]
     },
     "metadata": {},
     "output_type": "display_data"
    }
   ],
   "source": [
    "puts_table(fish_age_buff[0..40],{maxrows:50})"
   ]
  },
  {
   "cell_type": "markdown",
   "id": "eeb1739c-0a48-45fa-ac49-9a68dd0448c2",
   "metadata": {
    "tags": []
   },
   "source": [
    "### P 鱼的熟练度\n",
    "\n",
    "随着鱼工作越来越多，鱼的熟练度会增加。  鱼的熟练度是“完整挖矿”，每一个完整挖矿鱼的熟练度会提升，首个完整挖矿产出增加10%，边际效用递减.\n",
    "\n",
    "矿场开放时间t，完整挖矿代表鱼用t的时间挖矿。如果少于t，那么鱼按照比例拿到挖矿的工作。比如鱼只挖矿了1/2的矿场开放时间，那么鱼只算1/2个完整挖矿。"
   ]
  },
  {
   "cell_type": "code",
   "execution_count": 26,
   "id": "4b4c53fb-5d8e-4c31-b287-e42e20298f96",
   "metadata": {},
   "outputs": [],
   "source": [
    "#参数表\n",
    "fish_proficiency_buff = []\n",
    "\n",
    "#初始值 100%\n",
    "cur_value = 1\n",
    "\n",
    "#初始增加 10%\n",
    "add_value = 0.1\n",
    "\n",
    "#增加量的边际递减 30%\n",
    "diminishing = 0.25\n",
    "\n",
    "\n",
    "world[:config][:sim_time].times do |month|\n",
    "  fish_proficiency_buff.push ([month,cur_value])\n",
    "  next_value = cur_value * (1+add_value)\n",
    "  add_value = add_value * (1-diminishing)\n",
    "  cur_value= next_value\n",
    "end\n",
    "\n",
    "world[:table][:fish_proficiency_buff]=fish_proficiency_buff\n",
    "\n",
    "nil"
   ]
  },
  {
   "cell_type": "code",
   "execution_count": 28,
   "id": "13c1a098-7735-4359-a587-1edd242c8aca",
   "metadata": {},
   "outputs": [
    {
     "data": {
      "text/html": [
       "<h4>鱼工作效率随熟练度而增加</h4>"
      ],
      "text/plain": [
       "\"<h4>鱼工作效率随熟练度而增加</h4>\""
      ]
     },
     "metadata": {},
     "output_type": "display_data"
    },
    {
     "data": {
      "text/html": [
       "\n",
       "\n",
       "<div id=\"app_QaPjtgiTHn\">\n",
       "\n",
       "<el-container>\n",
       "  <el-main>\n",
       "   \n",
       "    <el-row :gutter=\"24\" type=\"flex\" align=\"middle\" justify=\"center\">\n",
       "    <el-col :span=\"1\" style=\"text-align:center\">\n",
       "      <b></b>\n",
       "    </el-col>\n",
       "    \n",
       "      \n",
       "        <el-col :span=\"11\" style=\"text-align:center\">\n",
       "          <b>值</b>\n",
       "          <div id=\"chart-15\" style=\"height: 300px; width: 100%; text-align: center; color: #999; line-height: 300px; font-size: 14px; font-family: 'Lucida Grande', 'Lucida Sans Unicode', Verdana, Arial, Helvetica, sans-serif;\">Loading...</div>\n",
       "\n",
       "\n",
       "        </el-col>\n",
       "      \n",
       "        <el-col :span=\"11\" style=\"text-align:center\">\n",
       "          <b>一阶变化值</b>\n",
       "          <div id=\"chart-16\" style=\"height: 300px; width: 100%; text-align: center; color: #999; line-height: 300px; font-size: 14px; font-family: 'Lucida Grande', 'Lucida Sans Unicode', Verdana, Arial, Helvetica, sans-serif;\">Loading...</div>\n",
       "\n",
       "\n",
       "        </el-col>\n",
       "      \n",
       "    </el-row>\n",
       "   \n",
       "  </el-main>\n",
       "</el-container>\n",
       "</div>\n",
       "\n",
       "\n",
       "<script>\n",
       "  Vue.use(VueChartkick.use(Chart))\n",
       "\n",
       "  app = new Vue({\n",
       "    el: '#app_QaPjtgiTHn',\n",
       "  })\n",
       "</script><script>\n",
       "  (function() {\n",
       "    if (document.documentElement.hasAttribute(\"data-turbolinks-preview\")) return;\n",
       "    if (document.documentElement.hasAttribute(\"data-turbo-preview\")) return;\n",
       "\n",
       "    var createChart = function() { new Chartkick[\"LineChart\"](\"chart-16\", [[0,0.10000000000000009],[1,0.07500000000000001],[2,0.056249999999999876],[3,0.04218750000000013],[4,0.03164062500000017],[5,0.023730468749999952],[6,0.017797851562499866],[7,0.013348388671875001],[8,0.0100112915039064],[9,0.0075084686279297055],[10,0.005631351470947229],[11,0.004223513603210466],[12,0.00316763520240786],[13,0.002375726401805774],[14,0.0017817948013542923],[15,0.0013363461010158157],[16,0.0010022595757619652],[17,0.0007516946818214049],[18,0.0005637710113659911],[19,0.00042282825852458226],[20,0.00031712119389354463],[21,0.00023784089542002742],[22,0.00017838067156497036],[23,0.0001337855036738457],[24,0.00010033912775537307],[25,7.525434581642059e-05],[26,5.6440759362348875e-05],[27,4.233056952187448e-05],[28,3.1747927141481596e-05],[29,2.3810945356014476e-05],[30,1.7858209016918307e-05],[31,1.3393656762723302e-05],[32,1.0045242572001095e-05],[33,7.533931929038416e-06],[34,5.650448946746173e-06],[35,4.237836709980776e-06],[36,3.1783775324497594e-06],[37,2.3837831493038707e-06],[38,1.7878373622300273e-06],[39,1.3408780214442033e-06],[40,1.0056585162885217e-06],[41,7.542438870769749e-07],[42,5.656829153417334e-07],[43,4.2426218643355244e-07],[44,3.1819663998636194e-07],[45,2.386474800028266e-07],[46,1.789856099459702e-07],[47,1.342392075830601e-07],[48,1.0067940545116523e-07],[49,7.550955412247774e-08],[50,5.6632165641605504e-08],[51,4.247412419570716e-08],[52,3.1855593298443235e-08],[53,2.3891694814628803e-08],[54,1.7918771171889673e-08],[55,1.3439078363810655e-08],[56,1.0079308750253955e-08],[57,7.559481448878592e-09],[58,5.6696111566522045e-09]], {\"points\":false}); };\n",
       "    if (\"Chartkick\" in window) {\n",
       "      createChart();\n",
       "    } else {\n",
       "      window.addEventListener(\"chartkick:load\", createChart, true);\n",
       "    }\n",
       "  })();\n",
       "</script><script>\n",
       "  (function() {\n",
       "    if (document.documentElement.hasAttribute(\"data-turbolinks-preview\")) return;\n",
       "    if (document.documentElement.hasAttribute(\"data-turbo-preview\")) return;\n",
       "\n",
       "    var createChart = function() { new Chartkick[\"LineChart\"](\"chart-15\", [[0,1],[1,1.1],[2,1.1825],[3,1.249015625],[4,1.3017084716796876],[5,1.342895341291428],[6,1.3747628772224647],[7,1.3992307028449054],[8,1.4179081781081],[9,1.432103270204913],[10,1.4428561726812021],[11,1.4509814029115957],[12,1.4571096426047982],[13,1.4617252344024811],[14,1.4651978936340369],[15,1.4678085756238692],[16,1.4697700758909418],[17,1.4712431670236719],[18,1.4723490926879896],[19,1.4731791604250581],[20,1.4738020622039554],[21,1.4742694360734843],[22,1.4746200776362504],[23,1.4748831213560023],[24,1.475080439337253],[25,1.475228447621905],[26,1.4753394649736606],[27,1.475422734253381],[28,1.4754851897380075],[29,1.4755320333343096],[30,1.4755671671469264],[31,1.4755935181338158],[32,1.475613281726919],[33,1.4756281046202764],[34,1.4756392219019692],[35,1.4756475599260563],[36,1.4756538134794568],[37,1.4756585036643832],[38,1.4756620213142584],[39,1.4756646595579541],[40,1.4756666382442631],[41,1.475668122260985],[42,1.4756692352746457],[43,1.4756700700355208],[44,1.4756706961065311],[45,1.4756711656599883],[46,1.4756715178251933],[47,1.47567178194916],[48,1.4756719800421707],[49,1.4756721286119483],[50,1.4756722400392928],[51,1.4756723236098075],[52,1.475672386287697],[53,1.4756724332961164],[54,1.4756724685524318],[55,1.4756724949946691],[56,1.4756725148263474],[57,1.4756725297001063],[58,1.4756725408554254],[59,1.475672549221915]], {\"points\":false}); };\n",
       "    if (\"Chartkick\" in window) {\n",
       "      createChart();\n",
       "    } else {\n",
       "      window.addEventListener(\"chartkick:load\", createChart, true);\n",
       "    }\n",
       "  })();\n",
       "</script>"
      ],
      "text/plain": [
       "\"\\n\\n<div id=\\\"app_QaPjtgiTHn\\\">\\n\\n<el-container>\\n  <el-main>\\n   \\n    <el-row :gutter=\\\"24\\\" type=\\\"flex\\\" align=\\\"middle\\\" justify=\\\"center\\\">\\n    <el-col :span=\\\"1\\\" style=\\\"text-align:center\\\">\\n      <b></b>\\n    </el-col>\\n    \\n      \\n        <el-col :span=\\\"11\\\" style=\\\"text-align:center\\\">\\n          <b>值</b>\\n          <div id=\\\"chart-15\\\" style=\\\"height: 300px; width: 100%; text-align: center; color: #999; line-height: 300px; font-size: 14px; font-family: 'Lucida Grande', 'Lucida Sans Unicode', Verdana, Arial, Helvetica, sans-serif;\\\">Loading...</div>\\n\\n\\n        </el-col>\\n      \\n        <el-col :span=\\\"11\\\" style=\\\"text-align:center\\\">\\n          <b>一阶变化值</b>\\n          <div id=\\\"chart-16\\\" style=\\\"height: 300px; width: 100%; text-align: center; color: #999; line-height: 300px; font-size: 14px; font-family: 'Lucida Grande', 'Lucida Sans Unicode', Verdana, Arial, Helvetica, sans-serif;\\\">Loading...</div>\\n\\n\\n        </el-col>\\n      \\n    </el-row>\\n   \\n  </el-main>\\n</el-container>\\n</div>\\n\\n\\n<script>\\n  Vue.use(VueChartkick.use(Chart))\\n\\n  app = new Vue({\\n    el: '#app_QaPjtgiTHn',\\n  })\\n</script><script>\\n  (function() {\\n    if (document.documentElement.hasAttribute(\\\"data-turbolinks-preview\\\")) return;\\n    if (document.documentElement.hasAttribute(\\\"data-turbo-preview\\\")) return;\\n\\n    var createChart = function() { new Chartkick[\\\"LineChart\\\"](\\\"chart-16\\\", [[0,0.10000000000000009],[1,0.07500000000000001],[2,0.056249999999999876],[3,0.04218750000000013],[4,0.03164062500000017],[5,0.023730468749999952],[6,0.017797851562499866],[7,0.013348388671875001],[8,0.0100112915039064],[9,0.0075084686279297055],[10,0.005631351470947229],[11,0.004223513603210466],[12,0.00316763520240786],[13,0.002375726401805774],[14,0.0017817948013542923],[15,0.0013363461010158157],[16,0.0010022595757619652],[17,0.0007516946818214049],[18,0.0005637710113659911],[19,0.00042282825852458226],[20,0.00031712119389354463],[21,0.00023784089542002742],[22,0.00017838067156497036],[23,0.0001337855036738457],[24,0.00010033912775537307],[25,7.525434581642059e-05],[26,5.6440759362348875e-05],[27,4.233056952187448e-05],[28,3.1747927141481596e-05],[29,2.3810945356014476e-05],[30,1.7858209016918307e-05],[31,1.3393656762723302e-05],[32,1.0045242572001095e-05],[33,7.533931929038416e-06],[34,5.650448946746173e-06],[35,4.237836709980776e-06],[36,3.1783775324497594e-06],[37,2.3837831493038707e-06],[38,1.7878373622300273e-06],[39,1.3408780214442033e-06],[40,1.0056585162885217e-06],[41,7.542438870769749e-07],[42,5.656829153417334e-07],[43,4.2426218643355244e-07],[44,3.1819663998636194e-07],[45,2.386474800028266e-07],[46,1.789856099459702e-07],[47,1.342392075830601e-07],[48,1.0067940545116523e-07],[49,7.550955412247774e-08],[50,5.6632165641605504e-08],[51,4.247412419570716e-08],[52,3.1855593298443235e-08],[53,2.3891694814628803e-08],[54,1.7918771171889673e-08],[55,1.3439078363810655e-08],[56,1.0079308750253955e-08],[57,7.559481448878592e-09],[58,5.6696111566522045e-09]], {\\\"points\\\":false}); };\\n    if (\\\"Chartkick\\\" in window) {\\n      createChart();\\n    } else {\\n      window.addEventListener(\\\"chartkick:load\\\", createChart, true);\\n    }\\n  })();\\n</script><script>\\n  (function() {\\n    if (document.documentElement.hasAttribute(\\\"data-turbolinks-preview\\\")) return;\\n    if (document.documentElement.hasAttribute(\\\"data-turbo-preview\\\")) return;\\n\\n    var createChart = function() { new Chartkick[\\\"LineChart\\\"](\\\"chart-15\\\", [[0,1],[1,1.1],[2,1.1825],[3,1.249015625],[4,1.3017084716796876],[5,1.342895341291428],[6,1.3747628772224647],[7,1.3992307028449054],[8,1.4179081781081],[9,1.432103270204913],[10,1.4428561726812021],[11,1.4509814029115957],[12,1.4571096426047982],[13,1.4617252344024811],[14,1.4651978936340369],[15,1.4678085756238692],[16,1.4697700758909418],[17,1.4712431670236719],[18,1.4723490926879896],[19,1.4731791604250581],[20,1.4738020622039554],[21,1.4742694360734843],[22,1.4746200776362504],[23,1.4748831213560023],[24,1.475080439337253],[25,1.475228447621905],[26,1.4753394649736606],[27,1.475422734253381],[28,1.4754851897380075],[29,1.4755320333343096],[30,1.4755671671469264],[31,1.4755935181338158],[32,1.475613281726919],[33,1.4756281046202764],[34,1.4756392219019692],[35,1.4756475599260563],[36,1.4756538134794568],[37,1.4756585036643832],[38,1.4756620213142584],[39,1.4756646595579541],[40,1.4756666382442631],[41,1.475668122260985],[42,1.4756692352746457],[43,1.4756700700355208],[44,1.4756706961065311],[45,1.4756711656599883],[46,1.4756715178251933],[47,1.47567178194916],[48,1.4756719800421707],[49,1.4756721286119483],[50,1.4756722400392928],[51,1.4756723236098075],[52,1.475672386287697],[53,1.4756724332961164],[54,1.4756724685524318],[55,1.4756724949946691],[56,1.4756725148263474],[57,1.4756725297001063],[58,1.4756725408554254],[59,1.475672549221915]], {\\\"points\\\":false}); };\\n    if (\\\"Chartkick\\\" in window) {\\n      createChart();\\n    } else {\\n      window.addEventListener(\\\"chartkick:load\\\", createChart, true);\\n    }\\n  })();\\n</script>\""
      ]
     },
     "metadata": {},
     "output_type": "display_data"
    }
   ],
   "source": [
    "puts_header \"鱼工作效率随熟练度而增加\", :level=>4\n",
    "delta_chart(fish_proficiency_buff)"
   ]
  },
  {
   "cell_type": "markdown",
   "id": "ef213fd6-c058-424f-9bc1-68c4ebce048b",
   "metadata": {},
   "source": [
    "### W 鱼的工作产出曲线变化.  W = A + P\n",
    "\n",
    "假设每个月一个项目，勤奋的鱼每个月都参与完整的挖矿提升熟练度。那么这种情况下，鱼的产出变化值情况"
   ]
  },
  {
   "cell_type": "code",
   "execution_count": 12,
   "id": "d28946b1-bf2e-41b6-a598-662d5e79d12f",
   "metadata": {},
   "outputs": [],
   "source": [
    "## == 模拟 ==\n",
    "\n",
    "#每月一次开矿\n",
    "work_freq = 1 \n",
    "\n",
    "# 鱼的产出时间表\n",
    "product = []\n",
    "\n",
    "# 开矿参与程度 100%\n",
    "involve = 1\n",
    "\n",
    "[1,0.8,0.5].each do |involve| \n",
    "    # 鱼的累积工作值\n",
    "    acc_work = 0\n",
    "    \n",
    "    world=world_init(world)\n",
    "    world=world_add_user(world)\n",
    "    user=world_get_rand_user(world)\n",
    "    world=world_add_fish(world,user)\n",
    "    fish=world_get_rand_fish(world)\n",
    "    \n",
    "    curr_product = []\n",
    "    world[:config][:sim_time].times do |month|   \n",
    "        production = world_fish_get_production_lite(world,fish)\n",
    "        curr_product.push ([month,production])\n",
    "        \n",
    "        # next month logic\n",
    "        fish[:age]=fish[:age] + 1        \n",
    "        fish[:proficiency]=fish[:proficiency]+ work_freq * involve\n",
    "    end\n",
    "    product.push(curr_product)\n",
    "\n",
    "end\n",
    "\n",
    "nil"
   ]
  },
  {
   "cell_type": "code",
   "execution_count": 13,
   "id": "6c0c5813-4167-400d-a5d6-a737074f5c77",
   "metadata": {},
   "outputs": [
    {
     "data": {
      "text/html": [
       "<h4>鱼工作总产出系数（年龄+熟练）</h4>"
      ],
      "text/plain": [
       "\"<h4>鱼工作总产出系数（年龄+熟练）</h4>\""
      ]
     },
     "metadata": {},
     "output_type": "display_data"
    },
    {
     "data": {
      "text/html": [
       "\n",
       "\n",
       "<div id=\"app_ryz8OmWTJd\">\n",
       "\n",
       "<el-container>\n",
       "  <el-main>\n",
       "   \n",
       "    <el-row :gutter=\"24\" type=\"flex\" align=\"middle\" justify=\"center\">\n",
       "    <el-col :span=\"1\" style=\"text-align:center\">\n",
       "      <b>100%</b>\n",
       "    </el-col>\n",
       "    \n",
       "      \n",
       "        <el-col :span=\"11\" style=\"text-align:center\">\n",
       "          <b>值</b>\n",
       "          <div id=\"chart-5\" style=\"height: 300px; width: 100%; text-align: center; color: #999; line-height: 300px; font-size: 14px; font-family: 'Lucida Grande', 'Lucida Sans Unicode', Verdana, Arial, Helvetica, sans-serif;\">Loading...</div>\n",
       "\n",
       "\n",
       "        </el-col>\n",
       "      \n",
       "        <el-col :span=\"11\" style=\"text-align:center\">\n",
       "          <b>一阶变化值</b>\n",
       "          <div id=\"chart-6\" style=\"height: 300px; width: 100%; text-align: center; color: #999; line-height: 300px; font-size: 14px; font-family: 'Lucida Grande', 'Lucida Sans Unicode', Verdana, Arial, Helvetica, sans-serif;\">Loading...</div>\n",
       "\n",
       "\n",
       "        </el-col>\n",
       "      \n",
       "    </el-row>\n",
       "   \n",
       "  </el-main>\n",
       "</el-container>\n",
       "</div>\n",
       "\n",
       "\n",
       "<script>\n",
       "  Vue.use(VueChartkick.use(Chart))\n",
       "\n",
       "  app = new Vue({\n",
       "    el: '#app_ryz8OmWTJd',\n",
       "  })\n",
       "</script><script>\n",
       "  (function() {\n",
       "    if (document.documentElement.hasAttribute(\"data-turbolinks-preview\")) return;\n",
       "    if (document.documentElement.hasAttribute(\"data-turbo-preview\")) return;\n",
       "\n",
       "    var createChart = function() { new Chartkick[\"LineChart\"](\"chart-6\", [[0,0.07800000000000007],[1,0.05349999999999987],[2,0.035124999999999906],[3,0.021343750000000196],[4,0.011007812500000031],[5,0.003255859374999942],[6,-0.0025581054687500568],[7,-0.006918579101562545],[8,-0.010188934326171765],[9,-0.01264170074462899],[10,-0.014481275558471647],[11,-0.01586095666885375],[12,-0.0168957175016404],[13,-0.017671788126230385],[14,-0.018253841094672794],[15,-0.018690380821004535],[16,-0.01901778561575322],[17,-0.01926333921181507],[18,-0.019447504408861324],[19,-0.019585628306645838],[20,-0.01968922122998441],[21,-0.019766915922488363],[22,-0.01982518694186652],[23,-0.01986889020639959],[24,-0.01990166765479977],[25,-0.019926250741099875],[26,-0.019944688055824847],[27,-0.019958516041868553],[28,-0.019968887031401397],[29,-0.019976665273551023],[30,-0.019982498955163523],[31,-0.0199868742163725],[32,-0.019990155662279376],[33,-0.019992616746709532],[34,-0.006229993939342365],[35,4.237836709980776e-06],[36,3.1783775324497594e-06],[37,2.3837831493038707e-06],[38,1.7878373622300273e-06],[39,1.3408780214442033e-06],[40,1.0056585162885217e-06],[41,7.542438870769749e-07],[42,5.656829153417334e-07],[43,4.2426218643355244e-07],[44,3.1819663998636194e-07],[45,2.386474800028266e-07],[46,1.789856099459702e-07],[47,1.342392075830601e-07],[48,1.0067940545116523e-07],[49,7.550955412247774e-08],[50,5.6632165641605504e-08],[51,4.247412419570716e-08],[52,3.1855593298443235e-08],[53,2.3891694814628803e-08],[54,1.7918771171889673e-08],[55,1.3439078363810655e-08],[56,1.0079308750253955e-08],[57,7.559481448878592e-09],[58,5.6696111566522045e-09]], {}); };\n",
       "    if (\"Chartkick\" in window) {\n",
       "      createChart();\n",
       "    } else {\n",
       "      window.addEventListener(\"chartkick:load\", createChart, true);\n",
       "    }\n",
       "  })();\n",
       "</script><script>\n",
       "  (function() {\n",
       "    if (document.documentElement.hasAttribute(\"data-turbolinks-preview\")) return;\n",
       "    if (document.documentElement.hasAttribute(\"data-turbo-preview\")) return;\n",
       "\n",
       "    var createChart = function() { new Chartkick[\"LineChart\"](\"chart-5\", [[0,1],[1,1.078],[2,1.135673],[3,1.1755635141249998],[4,1.2006544478796055],[5,1.2138710269191553],[6,1.2178232202821908],[7,1.2147079000424161],[8,1.2063038473506797],[9,1.1940128966726153],[10,1.1789185429476525],[11,1.1618462986662357],[12,1.1434183048672224],[13,1.1240994322019813],[14,1.104234585203292],[15,1.0840780625537492],[16,1.0638162307249228],[17,1.0435848017144376],[18,1.0234818736827176],[19,1.0035777054318833],[20,0.9839220055164579],[21,0.9645493474767944],[22,0.9454831816221296],[23,0.9267388007960802],[24,0.9083255293130524],[25,0.890248336506294],[26,0.8725090249312225],[27,0.8551071046030774],[28,0.8380404357383411],[29,0.8213057009493357],[30,0.8048987518742117],[31,0.7888148634058728],[32,0.7730489199509746],[33,0.7575955517065976],[34,0.7424492341923157],[35,0.7378237799630282],[36,0.7378269067397284],[37,0.7378292518321916],[38,0.7378310106571292],[39,0.7378323297789771],[40,0.7378333191221316],[41,0.7378340611304925],[42,0.7378346176373228],[43,0.7378350350177604],[44,0.7378353480532656],[45,0.7378355828299942],[46,0.7378357589125967],[47,0.73783589097458],[48,0.7378359900210854],[49,0.7378360643059741],[50,0.7378361200196464],[51,0.7378361618049037],[52,0.7378361931438485],[53,0.7378362166480582],[54,0.7378362342762159],[55,0.7378362474973346],[56,0.7378362574131737],[57,0.7378362648500532],[58,0.7378362704277127],[59,0.7378362746109575]], {}); };\n",
       "    if (\"Chartkick\" in window) {\n",
       "      createChart();\n",
       "    } else {\n",
       "      window.addEventListener(\"chartkick:load\", createChart, true);\n",
       "    }\n",
       "  })();\n",
       "</script>"
      ],
      "text/plain": [
       "\"\\n\\n<div id=\\\"app_ryz8OmWTJd\\\">\\n\\n<el-container>\\n  <el-main>\\n   \\n    <el-row :gutter=\\\"24\\\" type=\\\"flex\\\" align=\\\"middle\\\" justify=\\\"center\\\">\\n    <el-col :span=\\\"1\\\" style=\\\"text-align:center\\\">\\n      <b>100%</b>\\n    </el-col>\\n    \\n      \\n        <el-col :span=\\\"11\\\" style=\\\"text-align:center\\\">\\n          <b>值</b>\\n          <div id=\\\"chart-5\\\" style=\\\"height: 300px; width: 100%; text-align: center; color: #999; line-height: 300px; font-size: 14px; font-family: 'Lucida Grande', 'Lucida Sans Unicode', Verdana, Arial, Helvetica, sans-serif;\\\">Loading...</div>\\n\\n\\n        </el-col>\\n      \\n        <el-col :span=\\\"11\\\" style=\\\"text-align:center\\\">\\n          <b>一阶变化值</b>\\n          <div id=\\\"chart-6\\\" style=\\\"height: 300px; width: 100%; text-align: center; color: #999; line-height: 300px; font-size: 14px; font-family: 'Lucida Grande', 'Lucida Sans Unicode', Verdana, Arial, Helvetica, sans-serif;\\\">Loading...</div>\\n\\n\\n        </el-col>\\n      \\n    </el-row>\\n   \\n  </el-main>\\n</el-container>\\n</div>\\n\\n\\n<script>\\n  Vue.use(VueChartkick.use(Chart))\\n\\n  app = new Vue({\\n    el: '#app_ryz8OmWTJd',\\n  })\\n</script><script>\\n  (function() {\\n    if (document.documentElement.hasAttribute(\\\"data-turbolinks-preview\\\")) return;\\n    if (document.documentElement.hasAttribute(\\\"data-turbo-preview\\\")) return;\\n\\n    var createChart = function() { new Chartkick[\\\"LineChart\\\"](\\\"chart-6\\\", [[0,0.07800000000000007],[1,0.05349999999999987],[2,0.035124999999999906],[3,0.021343750000000196],[4,0.011007812500000031],[5,0.003255859374999942],[6,-0.0025581054687500568],[7,-0.006918579101562545],[8,-0.010188934326171765],[9,-0.01264170074462899],[10,-0.014481275558471647],[11,-0.01586095666885375],[12,-0.0168957175016404],[13,-0.017671788126230385],[14,-0.018253841094672794],[15,-0.018690380821004535],[16,-0.01901778561575322],[17,-0.01926333921181507],[18,-0.019447504408861324],[19,-0.019585628306645838],[20,-0.01968922122998441],[21,-0.019766915922488363],[22,-0.01982518694186652],[23,-0.01986889020639959],[24,-0.01990166765479977],[25,-0.019926250741099875],[26,-0.019944688055824847],[27,-0.019958516041868553],[28,-0.019968887031401397],[29,-0.019976665273551023],[30,-0.019982498955163523],[31,-0.0199868742163725],[32,-0.019990155662279376],[33,-0.019992616746709532],[34,-0.006229993939342365],[35,4.237836709980776e-06],[36,3.1783775324497594e-06],[37,2.3837831493038707e-06],[38,1.7878373622300273e-06],[39,1.3408780214442033e-06],[40,1.0056585162885217e-06],[41,7.542438870769749e-07],[42,5.656829153417334e-07],[43,4.2426218643355244e-07],[44,3.1819663998636194e-07],[45,2.386474800028266e-07],[46,1.789856099459702e-07],[47,1.342392075830601e-07],[48,1.0067940545116523e-07],[49,7.550955412247774e-08],[50,5.6632165641605504e-08],[51,4.247412419570716e-08],[52,3.1855593298443235e-08],[53,2.3891694814628803e-08],[54,1.7918771171889673e-08],[55,1.3439078363810655e-08],[56,1.0079308750253955e-08],[57,7.559481448878592e-09],[58,5.6696111566522045e-09]], {}); };\\n    if (\\\"Chartkick\\\" in window) {\\n      createChart();\\n    } else {\\n      window.addEventListener(\\\"chartkick:load\\\", createChart, true);\\n    }\\n  })();\\n</script><script>\\n  (function() {\\n    if (document.documentElement.hasAttribute(\\\"data-turbolinks-preview\\\")) return;\\n    if (document.documentElement.hasAttribute(\\\"data-turbo-preview\\\")) return;\\n\\n    var createChart = function() { new Chartkick[\\\"LineChart\\\"](\\\"chart-5\\\", [[0,1],[1,1.078],[2,1.135673],[3,1.1755635141249998],[4,1.2006544478796055],[5,1.2138710269191553],[6,1.2178232202821908],[7,1.2147079000424161],[8,1.2063038473506797],[9,1.1940128966726153],[10,1.1789185429476525],[11,1.1618462986662357],[12,1.1434183048672224],[13,1.1240994322019813],[14,1.104234585203292],[15,1.0840780625537492],[16,1.0638162307249228],[17,1.0435848017144376],[18,1.0234818736827176],[19,1.0035777054318833],[20,0.9839220055164579],[21,0.9645493474767944],[22,0.9454831816221296],[23,0.9267388007960802],[24,0.9083255293130524],[25,0.890248336506294],[26,0.8725090249312225],[27,0.8551071046030774],[28,0.8380404357383411],[29,0.8213057009493357],[30,0.8048987518742117],[31,0.7888148634058728],[32,0.7730489199509746],[33,0.7575955517065976],[34,0.7424492341923157],[35,0.7378237799630282],[36,0.7378269067397284],[37,0.7378292518321916],[38,0.7378310106571292],[39,0.7378323297789771],[40,0.7378333191221316],[41,0.7378340611304925],[42,0.7378346176373228],[43,0.7378350350177604],[44,0.7378353480532656],[45,0.7378355828299942],[46,0.7378357589125967],[47,0.73783589097458],[48,0.7378359900210854],[49,0.7378360643059741],[50,0.7378361200196464],[51,0.7378361618049037],[52,0.7378361931438485],[53,0.7378362166480582],[54,0.7378362342762159],[55,0.7378362474973346],[56,0.7378362574131737],[57,0.7378362648500532],[58,0.7378362704277127],[59,0.7378362746109575]], {}); };\\n    if (\\\"Chartkick\\\" in window) {\\n      createChart();\\n    } else {\\n      window.addEventListener(\\\"chartkick:load\\\", createChart, true);\\n    }\\n  })();\\n</script>\""
      ]
     },
     "metadata": {},
     "output_type": "display_data"
    },
    {
     "data": {
      "text/html": [
       "<div id=\"chart-7\" style=\"height: 300px; width: 100%; text-align: center; color: #999; line-height: 300px; font-size: 14px; font-family: 'Lucida Grande', 'Lucida Sans Unicode', Verdana, Arial, Helvetica, sans-serif;\">Loading...</div>\n",
       "<script>\n",
       "  (function() {\n",
       "    if (document.documentElement.hasAttribute(\"data-turbolinks-preview\")) return;\n",
       "    if (document.documentElement.hasAttribute(\"data-turbo-preview\")) return;\n",
       "\n",
       "    var createChart = function() { new Chartkick[\"LineChart\"](\"chart-7\", [{\"name\":\"100%\",\"data\":[[0,1],[1,1.078],[2,1.135673],[3,1.1755635141249998],[4,1.2006544478796055],[5,1.2138710269191553],[6,1.2178232202821908],[7,1.2147079000424161],[8,1.2063038473506797],[9,1.1940128966726153],[10,1.1789185429476525],[11,1.1618462986662357],[12,1.1434183048672224],[13,1.1240994322019813],[14,1.104234585203292],[15,1.0840780625537492],[16,1.0638162307249228],[17,1.0435848017144376],[18,1.0234818736827176],[19,1.0035777054318833],[20,0.9839220055164579],[21,0.9645493474767944],[22,0.9454831816221296],[23,0.9267388007960802],[24,0.9083255293130524],[25,0.890248336506294],[26,0.8725090249312225],[27,0.8551071046030774],[28,0.8380404357383411],[29,0.8213057009493357],[30,0.8048987518742117]]},{\"name\":\"80%\",\"data\":[[0,1],[1,1.0584],[2,1.1039798],[3,1.1380011296499999],[4,1.1617726846499208],[5,1.1766413589220133],[6,1.1822965914533323],[7,1.182400747227191],[8,1.1779239492720366],[9,1.1697199278413222],[10,1.1585342149955928],[11,1.14445669491064],[12,1.1288581756861924],[13,1.1120880948600134],[14,1.0944441412263133],[15,1.0761761611945906],[16,1.0573252418285775],[17,1.0383114646048686],[18,1.0192367334778294],[19,1.0001863354489435],[20,0.9812302193118826],[21,0.9623766376741775],[22,0.9437434577708822],[23,0.9253551790922746],[24,0.9072314732781078],[25,0.8893875632154904],[26,0.8718209341695512],[27,0.8545606227075891],[28,0.8376088337014379],[29,0.8209664718310856],[30,0.8046332494862275]]},{\"name\":\"50%\",\"data\":[[0,1],[1,1.029],[2,1.05644],[3,1.07413537],[4,1.0907003492],[5,1.098948770590825],[6,1.1064309749863368],[7,1.1071743582976556],[8,1.1074454338865274],[9,1.1024662553927642],[10,1.097243265865197],[11,1.0880570680934563],[12,1.0787994209262395],[13,1.066631585367799],[14,1.0545189434633258],[15,1.040325867666469],[16,1.026278707324101],[17,1.0107875770762231],[18,0.9955055805553308],[19,0.979258082930283],[20,0.9632622829780154],[21,0.9466550268707915],[22,0.9303267560946655],[23,0.9136455523505724],[24,0.8972594660538052],[25,0.8807069501612084],[26,0.8644576311178938],[27,0.8481747987561056],[28,0.8321974966363419],[29,0.8162801212384864],[30,0.8006665618578905]]}], {\"min\":0.8,\"max\":1.3}); };\n",
       "    if (\"Chartkick\" in window) {\n",
       "      createChart();\n",
       "    } else {\n",
       "      window.addEventListener(\"chartkick:load\", createChart, true);\n",
       "    }\n",
       "  })();\n",
       "</script>\n"
      ],
      "text/plain": [
       "\"<div id=\\\"chart-7\\\" style=\\\"height: 300px; width: 100%; text-align: center; color: #999; line-height: 300px; font-size: 14px; font-family: 'Lucida Grande', 'Lucida Sans Unicode', Verdana, Arial, Helvetica, sans-serif;\\\">Loading...</div>\\n<script>\\n  (function() {\\n    if (document.documentElement.hasAttribute(\\\"data-turbolinks-preview\\\")) return;\\n    if (document.documentElement.hasAttribute(\\\"data-turbo-preview\\\")) return;\\n\\n    var createChart = function() { new Chartkick[\\\"LineChart\\\"](\\\"chart-7\\\", [{\\\"name\\\":\\\"100%\\\",\\\"data\\\":[[0,1],[1,1.078],[2,1.135673],[3,1.1755635141249998],[4,1.2006544478796055],[5,1.2138710269191553],[6,1.2178232202821908],[7,1.2147079000424161],[8,1.2063038473506797],[9,1.1940128966726153],[10,1.1789185429476525],[11,1.1618462986662357],[12,1.1434183048672224],[13,1.1240994322019813],[14,1.104234585203292],[15,1.0840780625537492],[16,1.0638162307249228],[17,1.0435848017144376],[18,1.0234818736827176],[19,1.0035777054318833],[20,0.9839220055164579],[21,0.9645493474767944],[22,0.9454831816221296],[23,0.9267388007960802],[24,0.9083255293130524],[25,0.890248336506294],[26,0.8725090249312225],[27,0.8551071046030774],[28,0.8380404357383411],[29,0.8213057009493357],[30,0.8048987518742117]]},{\\\"name\\\":\\\"80%\\\",\\\"data\\\":[[0,1],[1,1.0584],[2,1.1039798],[3,1.1380011296499999],[4,1.1617726846499208],[5,1.1766413589220133],[6,1.1822965914533323],[7,1.182400747227191],[8,1.1779239492720366],[9,1.1697199278413222],[10,1.1585342149955928],[11,1.14445669491064],[12,1.1288581756861924],[13,1.1120880948600134],[14,1.0944441412263133],[15,1.0761761611945906],[16,1.0573252418285775],[17,1.0383114646048686],[18,1.0192367334778294],[19,1.0001863354489435],[20,0.9812302193118826],[21,0.9623766376741775],[22,0.9437434577708822],[23,0.9253551790922746],[24,0.9072314732781078],[25,0.8893875632154904],[26,0.8718209341695512],[27,0.8545606227075891],[28,0.8376088337014379],[29,0.8209664718310856],[30,0.8046332494862275]]},{\\\"name\\\":\\\"50%\\\",\\\"data\\\":[[0,1],[1,1.029],[2,1.05644],[3,1.07413537],[4,1.0907003492],[5,1.098948770590825],[6,1.1064309749863368],[7,1.1071743582976556],[8,1.1074454338865274],[9,1.1024662553927642],[10,1.097243265865197],[11,1.0880570680934563],[12,1.0787994209262395],[13,1.066631585367799],[14,1.0545189434633258],[15,1.040325867666469],[16,1.026278707324101],[17,1.0107875770762231],[18,0.9955055805553308],[19,0.979258082930283],[20,0.9632622829780154],[21,0.9466550268707915],[22,0.9303267560946655],[23,0.9136455523505724],[24,0.8972594660538052],[25,0.8807069501612084],[26,0.8644576311178938],[27,0.8481747987561056],[28,0.8321974966363419],[29,0.8162801212384864],[30,0.8006665618578905]]}], {\\\"min\\\":0.8,\\\"max\\\":1.3}); };\\n    if (\\\"Chartkick\\\" in window) {\\n      createChart();\\n    } else {\\n      window.addEventListener(\\\"chartkick:load\\\", createChart, true);\\n    }\\n  })();\\n</script>\\n\""
      ]
     },
     "metadata": {},
     "output_type": "display_data"
    }
   ],
   "source": [
    "puts_header \"鱼工作总产出系数（年龄+熟练）\", :level=>4\n",
    "delta_chart(product[0],{:name=>\"100%\"})\n",
    "\n",
    "puts line_chart([\n",
    "    {:name=>\"100%\",:data=>product[0][0..30]},\n",
    "    {:name=>\"80%\",:data=>product[1][0..30]},\n",
    "    {:name=>\"50%\",:data=>product[2][0..30]}],:min=>0.8,:max=>1.3)"
   ]
  },
  {
   "cell_type": "markdown",
   "id": "a95b5651-56eb-4bf2-b605-47f9ecc90371",
   "metadata": {},
   "source": [
    "## 鱼的创造 (构成鱼的属性)"
   ]
  },
  {
   "cell_type": "markdown",
   "id": "9281bdb7-8f55-4d66-ba74-baa945063d08",
   "metadata": {},
   "source": [
    "### 鱼的星级\n",
    "\n",
    "不同星级的鱼，有不同的稀缺性。越高级的鱼捕捞出越困难，所以高等级的鱼会非常值钱。高级的鱼会更有力量，在矿场工作的时候，更加有优势\n",
    "\n",
    "### 鱼的掉落概率\n",
    "\n",
    "越高等级的鱼，掉落概率越低，越稀缺, scale 从1-2000x\n",
    "\n",
    "### 鱼的敏捷度\n",
    "\n",
    "鱼的敏捷值度和鱼的稀有程度相关，scale从1-100x，敏捷度决定有多大概率能进矿场挖矿，这个受年龄和熟练度的buff\n",
    "\n",
    "### 鱼的力量值\n",
    "\n",
    "鱼的力量值和鱼的稀有程度相关，scale从1-6x，力量值决定单位时间挖矿数量的基数，这个受年龄和熟练度的buff"
   ]
  },
  {
   "cell_type": "code",
   "execution_count": 14,
   "id": "11a689b7-15ec-4edd-96e0-91ccd595aad5",
   "metadata": {},
   "outputs": [
    {
     "data": {
      "text/html": [
       "<table><tr><td>等级</td><td>掉落概率</td><td>敏捷度</td><td>力量值</td></tr><tr><td>1</td><td>0.6601178834492776</td><td>100</td><td>100</td></tr><tr><td>2</td><td>0.2244400803727544</td><td>195</td><td>130</td></tr><tr><td>3</td><td>0.0763096273267365</td><td>380</td><td>169</td></tr><tr><td>4</td><td>0.025945273291090414</td><td>741</td><td>219</td></tr><tr><td>5</td><td>0.00882139291897074</td><td>1444</td><td>284</td></tr><tr><td>6</td><td>0.0029992735924500523</td><td>2815</td><td>369</td></tr><tr><td>7</td><td>0.0010197530214330179</td><td>5489</td><td>479</td></tr><tr><td>8</td><td>0.00034671602728722614</td><td>10703</td><td>622</td></tr></table>"
      ],
      "text/plain": [
       "\"<table><tr><td>等级</td><td>掉落概率</td><td>敏捷度</td><td>力量值</td></tr><tr><td>1</td><td>0.6601178834492776</td><td>100</td><td>100</td></tr><tr><td>2</td><td>0.2244400803727544</td><td>195</td><td>130</td></tr><tr><td>3</td><td>0.0763096273267365</td><td>380</td><td>169</td></tr><tr><td>4</td><td>0.025945273291090414</td><td>741</td><td>219</td></tr><tr><td>5</td><td>0.00882139291897074</td><td>1444</td><td>284</td></tr><tr><td>6</td><td>0.0029992735924500523</td><td>2815</td><td>369</td></tr><tr><td>7</td><td>0.0010197530214330179</td><td>5489</td><td>479</td></tr><tr><td>8</td><td>0.00034671602728722614</td><td>10703</td><td>622</td></tr></table>\""
      ]
     },
     "metadata": {},
     "output_type": "display_data"
    },
    {
     "data": {
      "text/html": [
       "<table><tr><td></td><td>等级</td><td>掉落概率</td><td>敏捷度</td><td>力量值</td></tr><tr><td>Scale倍数</td><td>-</td><td>1903</td><td>107</td><td>6</td></tr></table>"
      ],
      "text/plain": [
       "\"<table><tr><td></td><td>等级</td><td>掉落概率</td><td>敏捷度</td><td>力量值</td></tr><tr><td>Scale倍数</td><td>-</td><td>1903</td><td>107</td><td>6</td></tr></table>\""
      ]
     },
     "metadata": {},
     "output_type": "display_data"
    }
   ],
   "source": [
    "#参数表\n",
    "fish_create_tab = []\n",
    "\n",
    "#掉落概率\n",
    "drop_rate = 1\n",
    "#掉落概率的衰减度\n",
    "drop_reducation_rate = 0.34\n",
    "\n",
    "#力量基数\n",
    "power = 100\n",
    "#力量增长率\n",
    "power_rate = 1.3\n",
    "\n",
    "#敏捷基数\n",
    "agility = 100\n",
    "#敏捷增长率\n",
    "agility_rate = 1.95\n",
    "\n",
    "\n",
    "\n",
    "# 一共的级别数量\n",
    "level = 8\n",
    "\n",
    "level.times do |lv|\n",
    "    #级别，掉落概率，敏捷度，力量值\n",
    "    fish_create_tab.push([lv+1,drop_rate,agility,power])\n",
    "    drop_rate = drop_rate * drop_reducation_rate\n",
    "    power = (power * power_rate).to_i\n",
    "    agility = (agility * agility_rate).to_i\n",
    "end\n",
    "\n",
    "\n",
    "fish_create_tabname = [\"等级\",\"掉落概率\",\"敏捷度\",\"力量值\"]\n",
    "fish_create_tab = normalize(fish_create_tab,1)\n",
    "\n",
    "world[:table][:fish_create_tab]=fish_create_tab\n",
    "\n",
    "\n",
    "puts_table [fish_create_tabname]+fish_create_tab\n",
    "\n",
    "puts_table [[\"\"]+fish_create_tabname]+[[\"Scale倍数\", \"-\",\n",
    "    (fish_create_tab[0][1]/fish_create_tab[level-1][1]).to_i,\n",
    "    (fish_create_tab[level-1][2]/fish_create_tab[0][2]).to_i,\n",
    "    (fish_create_tab[level-1][3]/fish_create_tab[0][3]).to_i]]\n"
   ]
  },
  {
   "cell_type": "code",
   "execution_count": 15,
   "id": "03afcf47-a6bb-48f3-80d9-bacbc5dedaac",
   "metadata": {},
   "outputs": [
    {
     "data": {
      "text/html": [
       "\n",
       "\n",
       "<div id=\"app_jS57ryj1ll\">\n",
       "\n",
       "<el-container>\n",
       "  <el-main>\n",
       "   \n",
       "    <el-row :gutter=\"24\" type=\"flex\" align=\"middle\" justify=\"center\">\n",
       "    <el-col :span=\"1\" style=\"text-align:center\">\n",
       "      <b></b>\n",
       "    </el-col>\n",
       "    \n",
       "      \n",
       "        <el-col :span=\"11\" style=\"text-align:center\">\n",
       "          <b></b>\n",
       "          <div id=\"chart-8\" style=\"height: 300px; width: 100%; text-align: center; color: #999; line-height: 300px; font-size: 14px; font-family: 'Lucida Grande', 'Lucida Sans Unicode', Verdana, Arial, Helvetica, sans-serif;\">Loading...</div>\n",
       "\n",
       "\n",
       "        </el-col>\n",
       "      \n",
       "        <el-col :span=\"11\" style=\"text-align:center\">\n",
       "          <b></b>\n",
       "          <div id=\"chart-9\" style=\"height: 300px; width: 100%; text-align: center; color: #999; line-height: 300px; font-size: 14px; font-family: 'Lucida Grande', 'Lucida Sans Unicode', Verdana, Arial, Helvetica, sans-serif;\">Loading...</div>\n",
       "\n",
       "\n",
       "        </el-col>\n",
       "      \n",
       "    </el-row>\n",
       "   \n",
       "  </el-main>\n",
       "</el-container>\n",
       "</div>\n",
       "\n",
       "\n",
       "<script>\n",
       "  Vue.use(VueChartkick.use(Chart))\n",
       "\n",
       "  app = new Vue({\n",
       "    el: '#app_jS57ryj1ll',\n",
       "  })\n",
       "</script><script>\n",
       "  (function() {\n",
       "    if (document.documentElement.hasAttribute(\"data-turbolinks-preview\")) return;\n",
       "    if (document.documentElement.hasAttribute(\"data-turbo-preview\")) return;\n",
       "\n",
       "    var createChart = function() { new Chartkick[\"LineChart\"](\"chart-9\", [{\"name\":\"敏捷度\",\"data\":[[1,100],[2,195],[3,380],[4,741],[5,1444],[6,2815],[7,5489],[8,10703]]},{\"name\":\"力量值\",\"data\":[[1,100],[2,130],[3,169],[4,219],[5,284],[6,369],[7,479],[8,622]]}], {}); };\n",
       "    if (\"Chartkick\" in window) {\n",
       "      createChart();\n",
       "    } else {\n",
       "      window.addEventListener(\"chartkick:load\", createChart, true);\n",
       "    }\n",
       "  })();\n",
       "</script><script>\n",
       "  (function() {\n",
       "    if (document.documentElement.hasAttribute(\"data-turbolinks-preview\")) return;\n",
       "    if (document.documentElement.hasAttribute(\"data-turbo-preview\")) return;\n",
       "\n",
       "    var createChart = function() { new Chartkick[\"LineChart\"](\"chart-8\", [{\"name\":\"掉落概率\",\"data\":[[1,0.6601178834492776],[2,0.2244400803727544],[3,0.0763096273267365],[4,0.025945273291090414],[5,0.00882139291897074],[6,0.0029992735924500523],[7,0.0010197530214330179],[8,0.00034671602728722614]]}], {}); };\n",
       "    if (\"Chartkick\" in window) {\n",
       "      createChart();\n",
       "    } else {\n",
       "      window.addEventListener(\"chartkick:load\", createChart, true);\n",
       "    }\n",
       "  })();\n",
       "</script>"
      ],
      "text/plain": [
       "\"\\n\\n<div id=\\\"app_jS57ryj1ll\\\">\\n\\n<el-container>\\n  <el-main>\\n   \\n    <el-row :gutter=\\\"24\\\" type=\\\"flex\\\" align=\\\"middle\\\" justify=\\\"center\\\">\\n    <el-col :span=\\\"1\\\" style=\\\"text-align:center\\\">\\n      <b></b>\\n    </el-col>\\n    \\n      \\n        <el-col :span=\\\"11\\\" style=\\\"text-align:center\\\">\\n          <b></b>\\n          <div id=\\\"chart-8\\\" style=\\\"height: 300px; width: 100%; text-align: center; color: #999; line-height: 300px; font-size: 14px; font-family: 'Lucida Grande', 'Lucida Sans Unicode', Verdana, Arial, Helvetica, sans-serif;\\\">Loading...</div>\\n\\n\\n        </el-col>\\n      \\n        <el-col :span=\\\"11\\\" style=\\\"text-align:center\\\">\\n          <b></b>\\n          <div id=\\\"chart-9\\\" style=\\\"height: 300px; width: 100%; text-align: center; color: #999; line-height: 300px; font-size: 14px; font-family: 'Lucida Grande', 'Lucida Sans Unicode', Verdana, Arial, Helvetica, sans-serif;\\\">Loading...</div>\\n\\n\\n        </el-col>\\n      \\n    </el-row>\\n   \\n  </el-main>\\n</el-container>\\n</div>\\n\\n\\n<script>\\n  Vue.use(VueChartkick.use(Chart))\\n\\n  app = new Vue({\\n    el: '#app_jS57ryj1ll',\\n  })\\n</script><script>\\n  (function() {\\n    if (document.documentElement.hasAttribute(\\\"data-turbolinks-preview\\\")) return;\\n    if (document.documentElement.hasAttribute(\\\"data-turbo-preview\\\")) return;\\n\\n    var createChart = function() { new Chartkick[\\\"LineChart\\\"](\\\"chart-9\\\", [{\\\"name\\\":\\\"敏捷度\\\",\\\"data\\\":[[1,100],[2,195],[3,380],[4,741],[5,1444],[6,2815],[7,5489],[8,10703]]},{\\\"name\\\":\\\"力量值\\\",\\\"data\\\":[[1,100],[2,130],[3,169],[4,219],[5,284],[6,369],[7,479],[8,622]]}], {}); };\\n    if (\\\"Chartkick\\\" in window) {\\n      createChart();\\n    } else {\\n      window.addEventListener(\\\"chartkick:load\\\", createChart, true);\\n    }\\n  })();\\n</script><script>\\n  (function() {\\n    if (document.documentElement.hasAttribute(\\\"data-turbolinks-preview\\\")) return;\\n    if (document.documentElement.hasAttribute(\\\"data-turbo-preview\\\")) return;\\n\\n    var createChart = function() { new Chartkick[\\\"LineChart\\\"](\\\"chart-8\\\", [{\\\"name\\\":\\\"掉落概率\\\",\\\"data\\\":[[1,0.6601178834492776],[2,0.2244400803727544],[3,0.0763096273267365],[4,0.025945273291090414],[5,0.00882139291897074],[6,0.0029992735924500523],[7,0.0010197530214330179],[8,0.00034671602728722614]]}], {}); };\\n    if (\\\"Chartkick\\\" in window) {\\n      createChart();\\n    } else {\\n      window.addEventListener(\\\"chartkick:load\\\", createChart, true);\\n    }\\n  })();\\n</script>\""
      ]
     },
     "metadata": {},
     "output_type": "display_data"
    }
   ],
   "source": [
    "chart1 = line_chart([\n",
    "    {:name=>fish_create_tabname[1],:data=>(fish_create_tab.map do |x| [x[0],x[1]] end)}])\n",
    "chart2 = line_chart([\n",
    "    {:name=>fish_create_tabname[2],:data=>(fish_create_tab.map do |x| [x[0],x[2]] end)},\n",
    "    {:name=>fish_create_tabname[3],:data=>(fish_create_tab.map do |x| [x[0],x[3]] end)}\n",
    "    ])\n",
    "\n",
    "layout_double_chart(chart1,chart2)"
   ]
  },
  {
   "cell_type": "markdown",
   "id": "a7c9fb47-4d32-4de7-9feb-14950fb8cb1c",
   "metadata": {},
   "source": [
    "### 鱼抽盲盒的分布\n",
    "\n",
    "每次一级市场按照活跃用户数 和 用户已有鱼的供给量，来释放抽盲盒的量，做到惜售（抢购），这样维持大家对抽鱼的热度 和 抽的价格\n",
    "\n",
    "5万用户，1万活跃，释放1万盲盒"
   ]
  },
  {
   "cell_type": "code",
   "execution_count": 16,
   "id": "caa3a9c5-5dc4-4d70-9484-0ce75c59eab1",
   "metadata": {},
   "outputs": [
    {
     "data": {
      "text/plain": [
       "10000"
      ]
     },
     "execution_count": 16,
     "metadata": {},
     "output_type": "execute_result"
    }
   ],
   "source": [
    "# ==模拟==\n",
    "\n",
    "# 开1万次盒子\n",
    "openbox_time = 10000\n",
    "\n",
    "world=world_init(world)\n",
    "world=world_add_user(world)\n",
    "user=world_get_rand_user(world)\n",
    "\n",
    "openbox_time.times do |x|\n",
    "    world=world_add_rand_fish(world,user)    \n",
    "end\n",
    "\n"
   ]
  },
  {
   "cell_type": "code",
   "execution_count": 17,
   "id": "a35a18b4-b8be-474f-9f50-b0a3d36c63fb",
   "metadata": {},
   "outputs": [
    {
     "data": {
      "text/html": [
       "\n",
       "\n",
       "<div id=\"app_umZOaaVcfn\">\n",
       "\n",
       "<el-container>\n",
       "  <el-main>\n",
       "   \n",
       "    <el-row :gutter=\"24\" type=\"flex\" align=\"middle\" justify=\"center\">\n",
       "    <el-col :span=\"1\" style=\"text-align:center\">\n",
       "      <b></b>\n",
       "    </el-col>\n",
       "    \n",
       "      \n",
       "        <el-col :span=\"11\" style=\"text-align:center\">\n",
       "          <b>鱼等级分布</b>\n",
       "          <div id=\"chart-10\" style=\"height: 300px; width: 100%; text-align: center; color: #999; line-height: 300px; font-size: 14px; font-family: 'Lucida Grande', 'Lucida Sans Unicode', Verdana, Arial, Helvetica, sans-serif;\">Loading...</div>\n",
       "\n",
       "\n",
       "        </el-col>\n",
       "      \n",
       "        <el-col :span=\"11\" style=\"text-align:center\">\n",
       "          <b>鱼敏捷度分布</b>\n",
       "          <div id=\"chart-11\" style=\"height: 300px; width: 100%; text-align: center; color: #999; line-height: 300px; font-size: 14px; font-family: 'Lucida Grande', 'Lucida Sans Unicode', Verdana, Arial, Helvetica, sans-serif;\">Loading...</div>\n",
       "\n",
       "\n",
       "        </el-col>\n",
       "      \n",
       "        <el-col :span=\"11\" style=\"text-align:center\">\n",
       "          <b>鱼力量值分布</b>\n",
       "          <div id=\"chart-12\" style=\"height: 300px; width: 100%; text-align: center; color: #999; line-height: 300px; font-size: 14px; font-family: 'Lucida Grande', 'Lucida Sans Unicode', Verdana, Arial, Helvetica, sans-serif;\">Loading...</div>\n",
       "\n",
       "\n",
       "        </el-col>\n",
       "      \n",
       "    </el-row>\n",
       "   \n",
       "  </el-main>\n",
       "</el-container>\n",
       "</div>\n",
       "\n",
       "\n",
       "<script>\n",
       "  Vue.use(VueChartkick.use(Chart))\n",
       "\n",
       "  app = new Vue({\n",
       "    el: '#app_umZOaaVcfn',\n",
       "  })\n",
       "</script><script>\n",
       "  (function() {\n",
       "    if (document.documentElement.hasAttribute(\"data-turbolinks-preview\")) return;\n",
       "    if (document.documentElement.hasAttribute(\"data-turbo-preview\")) return;\n",
       "\n",
       "    var createChart = function() { new Chartkick[\"ColumnChart\"](\"chart-12\", [[100,6606],[130,2257],[169,742],[219,268],[284,84],[369,31],[479,6],[622,6]], {}); };\n",
       "    if (\"Chartkick\" in window) {\n",
       "      createChart();\n",
       "    } else {\n",
       "      window.addEventListener(\"chartkick:load\", createChart, true);\n",
       "    }\n",
       "  })();\n",
       "</script><script>\n",
       "  (function() {\n",
       "    if (document.documentElement.hasAttribute(\"data-turbolinks-preview\")) return;\n",
       "    if (document.documentElement.hasAttribute(\"data-turbo-preview\")) return;\n",
       "\n",
       "    var createChart = function() { new Chartkick[\"ColumnChart\"](\"chart-11\", [[100,6606],[195,2257],[380,742],[741,268],[1444,84],[2815,31],[5489,6],[10703,6]], {}); };\n",
       "    if (\"Chartkick\" in window) {\n",
       "      createChart();\n",
       "    } else {\n",
       "      window.addEventListener(\"chartkick:load\", createChart, true);\n",
       "    }\n",
       "  })();\n",
       "</script><script>\n",
       "  (function() {\n",
       "    if (document.documentElement.hasAttribute(\"data-turbolinks-preview\")) return;\n",
       "    if (document.documentElement.hasAttribute(\"data-turbo-preview\")) return;\n",
       "\n",
       "    var createChart = function() { new Chartkick[\"ColumnChart\"](\"chart-10\", [[1,6606],[2,2257],[3,742],[4,268],[5,84],[6,31],[7,6],[8,6]], {}); };\n",
       "    if (\"Chartkick\" in window) {\n",
       "      createChart();\n",
       "    } else {\n",
       "      window.addEventListener(\"chartkick:load\", createChart, true);\n",
       "    }\n",
       "  })();\n",
       "</script>"
      ],
      "text/plain": [
       "\"\\n\\n<div id=\\\"app_umZOaaVcfn\\\">\\n\\n<el-container>\\n  <el-main>\\n   \\n    <el-row :gutter=\\\"24\\\" type=\\\"flex\\\" align=\\\"middle\\\" justify=\\\"center\\\">\\n    <el-col :span=\\\"1\\\" style=\\\"text-align:center\\\">\\n      <b></b>\\n    </el-col>\\n    \\n      \\n        <el-col :span=\\\"11\\\" style=\\\"text-align:center\\\">\\n          <b>鱼等级分布</b>\\n          <div id=\\\"chart-10\\\" style=\\\"height: 300px; width: 100%; text-align: center; color: #999; line-height: 300px; font-size: 14px; font-family: 'Lucida Grande', 'Lucida Sans Unicode', Verdana, Arial, Helvetica, sans-serif;\\\">Loading...</div>\\n\\n\\n        </el-col>\\n      \\n        <el-col :span=\\\"11\\\" style=\\\"text-align:center\\\">\\n          <b>鱼敏捷度分布</b>\\n          <div id=\\\"chart-11\\\" style=\\\"height: 300px; width: 100%; text-align: center; color: #999; line-height: 300px; font-size: 14px; font-family: 'Lucida Grande', 'Lucida Sans Unicode', Verdana, Arial, Helvetica, sans-serif;\\\">Loading...</div>\\n\\n\\n        </el-col>\\n      \\n        <el-col :span=\\\"11\\\" style=\\\"text-align:center\\\">\\n          <b>鱼力量值分布</b>\\n          <div id=\\\"chart-12\\\" style=\\\"height: 300px; width: 100%; text-align: center; color: #999; line-height: 300px; font-size: 14px; font-family: 'Lucida Grande', 'Lucida Sans Unicode', Verdana, Arial, Helvetica, sans-serif;\\\">Loading...</div>\\n\\n\\n        </el-col>\\n      \\n    </el-row>\\n   \\n  </el-main>\\n</el-container>\\n</div>\\n\\n\\n<script>\\n  Vue.use(VueChartkick.use(Chart))\\n\\n  app = new Vue({\\n    el: '#app_umZOaaVcfn',\\n  })\\n</script><script>\\n  (function() {\\n    if (document.documentElement.hasAttribute(\\\"data-turbolinks-preview\\\")) return;\\n    if (document.documentElement.hasAttribute(\\\"data-turbo-preview\\\")) return;\\n\\n    var createChart = function() { new Chartkick[\\\"ColumnChart\\\"](\\\"chart-12\\\", [[100,6606],[130,2257],[169,742],[219,268],[284,84],[369,31],[479,6],[622,6]], {}); };\\n    if (\\\"Chartkick\\\" in window) {\\n      createChart();\\n    } else {\\n      window.addEventListener(\\\"chartkick:load\\\", createChart, true);\\n    }\\n  })();\\n</script><script>\\n  (function() {\\n    if (document.documentElement.hasAttribute(\\\"data-turbolinks-preview\\\")) return;\\n    if (document.documentElement.hasAttribute(\\\"data-turbo-preview\\\")) return;\\n\\n    var createChart = function() { new Chartkick[\\\"ColumnChart\\\"](\\\"chart-11\\\", [[100,6606],[195,2257],[380,742],[741,268],[1444,84],[2815,31],[5489,6],[10703,6]], {}); };\\n    if (\\\"Chartkick\\\" in window) {\\n      createChart();\\n    } else {\\n      window.addEventListener(\\\"chartkick:load\\\", createChart, true);\\n    }\\n  })();\\n</script><script>\\n  (function() {\\n    if (document.documentElement.hasAttribute(\\\"data-turbolinks-preview\\\")) return;\\n    if (document.documentElement.hasAttribute(\\\"data-turbo-preview\\\")) return;\\n\\n    var createChart = function() { new Chartkick[\\\"ColumnChart\\\"](\\\"chart-10\\\", [[1,6606],[2,2257],[3,742],[4,268],[5,84],[6,31],[7,6],[8,6]], {}); };\\n    if (\\\"Chartkick\\\" in window) {\\n      createChart();\\n    } else {\\n      window.addEventListener(\\\"chartkick:load\\\", createChart, true);\\n    }\\n  })();\\n</script>\""
      ]
     },
     "metadata": {},
     "output_type": "display_data"
    }
   ],
   "source": [
    "# 分布\n",
    "chart1_name=\"鱼等级分布\"\n",
    "chart1 = column_chart(gen_dist(world[:entity][:fishes].map do |x| x[:level] end).to_h)\n",
    "\n",
    "chart2_name=\"鱼敏捷度分布\"\n",
    "chart2 = column_chart(gen_dist(world[:entity][:fishes].map do |x| x[:agility] end).to_h)\n",
    "\n",
    "chart3_name=\"鱼力量值分布\"\n",
    "chart3 = column_chart(gen_dist(world[:entity][:fishes].map do |x| x[:power] end).to_h)\n",
    "\n",
    "layout_triple_chart(chart1,chart2,chart3,chart1_name,chart2_name,chart3_name)"
   ]
  },
  {
   "cell_type": "markdown",
   "id": "d080d570-82cd-4913-a9b1-e8b0f1139dce",
   "metadata": {},
   "source": [
    "## 挖矿\n",
    "\n",
    "### 生物鱼挖矿 v.s 机器鱼挖矿\n",
    "\n",
    "鱼是挖矿的绝对核心主力，在这个过程中，会掉落一些碎片到岩石深处生物鱼去不了的地方，机器清道夫负责捡起来这些小碎片。\n",
    "\n",
    "抽出来的NFT是鱼，每个矿场有若干免费的机器清道夫（也可以没有，项目方来定义）。免费机器清道夫限量抢，每个用户只能抢1条免费的机器清道夫。机器清道夫和账号绑定，不是NFT资产，不能转让。在挖矿时间结束之后，矿场会清理，机器清道夫随着矿场自动消失。机器清道夫不需要排队绑定矿场，抢到之后会自动工作，然后再矿场结束的时候来结算减到的碎片。\n",
    "\n",
    "游戏项目方定义，在duration 天的时间里面开放矿场挖矿，一共有 x 的矿石被产出，其中 x1 是被鱼挖走, x2是被机器清道夫挖走  (x1+x2=x)。项目方设定矿场尺寸，最多允许有y条生物鱼进来挖矿，和最多有z个机器清道夫。\n",
    "\n",
    "那么每天矿场产出 x/duration\n",
    "\n",
    "所有鱼大家进入一个候选池等待，开放挖矿的时候，以侯选池鱼的敏捷度为权重挑选鱼进矿场挖矿。如果有鱼提前离开，那么空出的个位置，在侯选池鱼里面敏捷度为权重挑选鱼进矿场挖矿。\n",
    "\n",
    "挖矿的产出，每天x/duration，每个小时 x/duration/24。按照这个小时里面的所有鱼的力量挖矿贡献 （力量 * 时间）来分配这个小时产出的所有矿产\n"
   ]
  },
  {
   "cell_type": "code",
   "execution_count": 149,
   "id": "93586e58-a5bc-44b6-b0ca-b949397c82c7",
   "metadata": {},
   "outputs": [],
   "source": [
    "# ==模拟==\n",
    "\n",
    "#项目方参数定义\n",
    "game1 = {\n",
    "    :name=>\"GameApple\", \n",
    "    :token=>\"AppleCoin\", \n",
    "    :launch_time=>0,\n",
    "    :duration=>5, \n",
    "    :total_token=>100000, \n",
    "    :mining_token=>90000, \n",
    "    :airdrop_tokon=>10000, \n",
    "    :mining_limit=>5000, \n",
    "    :airdrop_limit=>10000\n",
    "}\n",
    "\n",
    "game2 = {\n",
    "    :name=>\"GameBanana\", \n",
    "    :token=>\"BananaCoin\", \n",
    "    :launch_time=>1,\n",
    "    :duration=>10, \n",
    "    :total_token=>200000, \n",
    "    :mining_token=>100000, \n",
    "    :airdrop_tokon=>100000, \n",
    "    :mining_limit=>8000, \n",
    "    :airdrop_limit=>100000\n",
    "}\n",
    "world=world_init(world)\n",
    "\n",
    "# Step 1 - 10000个用户开盒子, 每个用户开一个盒子\n",
    "users = 10000\n",
    "\n",
    "users.times do |x|\n",
    "    world = world_add_user(world)\n",
    "    user = world_get_last_user(world)\n",
    "    world = world_add_rand_fish(world,user)\n",
    "end\n",
    "\n",
    "world = world_add_game(world,game1)\n",
    "world = world_add_game(world,game2)\n",
    "\n",
    "\n",
    "nil"
   ]
  },
  {
   "cell_type": "code",
   "execution_count": 150,
   "id": "7aa0e6ec-b392-46d9-b7f6-291d3d56efa1",
   "metadata": {},
   "outputs": [
    {
     "data": {
      "text/html": [
       "<h1>World Stats (Month=0)</h1>"
      ],
      "text/plain": [
       "\"<h1>World Stats (Month=0)</h1>\""
      ]
     },
     "metadata": {},
     "output_type": "display_data"
    },
    {
     "data": {
      "text/html": [
       "总用户数=10000"
      ],
      "text/plain": [
       "\"总用户数=10000\""
      ]
     },
     "metadata": {},
     "output_type": "display_data"
    },
    {
     "data": {
      "text/html": [
       "总鱼数量=10000"
      ],
      "text/plain": [
       "\"总鱼数量=10000\""
      ]
     },
     "metadata": {},
     "output_type": "display_data"
    },
    {
     "data": {
      "text/html": [
       "总游戏数=2"
      ],
      "text/plain": [
       "\"总游戏数=2\""
      ]
     },
     "metadata": {},
     "output_type": "display_data"
    },
    {
     "data": {
      "text/html": [
       "<h3>==鱼==</h3>"
      ],
      "text/plain": [
       "\"<h3>==鱼==</h3>\""
      ]
     },
     "metadata": {},
     "output_type": "display_data"
    },
    {
     "data": {
      "text/html": [
       "\n",
       "\n",
       "<div id=\"app_9LL75n6FsH\">\n",
       "\n",
       "<el-container>\n",
       "  <el-main>\n",
       "   \n",
       "    <el-row :gutter=\"24\" type=\"flex\" align=\"middle\" justify=\"center\">\n",
       "    <el-col :span=\"1\" style=\"text-align:center\">\n",
       "      <b></b>\n",
       "    </el-col>\n",
       "    \n",
       "      \n",
       "        <el-col :span=\"11\" style=\"text-align:center\">\n",
       "          <b>鱼等级分布</b>\n",
       "          <div id=\"chart-304\" style=\"height: 300px; width: 100%; text-align: center; color: #999; line-height: 300px; font-size: 14px; font-family: 'Lucida Grande', 'Lucida Sans Unicode', Verdana, Arial, Helvetica, sans-serif;\">Loading...</div>\n",
       "\n",
       "\n",
       "        </el-col>\n",
       "      \n",
       "        <el-col :span=\"11\" style=\"text-align:center\">\n",
       "          <b>鱼敏捷度分布</b>\n",
       "          <div id=\"chart-305\" style=\"height: 300px; width: 100%; text-align: center; color: #999; line-height: 300px; font-size: 14px; font-family: 'Lucida Grande', 'Lucida Sans Unicode', Verdana, Arial, Helvetica, sans-serif;\">Loading...</div>\n",
       "\n",
       "\n",
       "        </el-col>\n",
       "      \n",
       "        <el-col :span=\"11\" style=\"text-align:center\">\n",
       "          <b>鱼力量值分布</b>\n",
       "          <div id=\"chart-306\" style=\"height: 300px; width: 100%; text-align: center; color: #999; line-height: 300px; font-size: 14px; font-family: 'Lucida Grande', 'Lucida Sans Unicode', Verdana, Arial, Helvetica, sans-serif;\">Loading...</div>\n",
       "\n",
       "\n",
       "        </el-col>\n",
       "      \n",
       "    </el-row>\n",
       "   \n",
       "  </el-main>\n",
       "</el-container>\n",
       "</div>\n",
       "\n",
       "\n",
       "<script>\n",
       "  Vue.use(VueChartkick.use(Chart))\n",
       "\n",
       "  app = new Vue({\n",
       "    el: '#app_9LL75n6FsH',\n",
       "  })\n",
       "</script><script>\n",
       "  (function() {\n",
       "    if (document.documentElement.hasAttribute(\"data-turbolinks-preview\")) return;\n",
       "    if (document.documentElement.hasAttribute(\"data-turbo-preview\")) return;\n",
       "\n",
       "    var createChart = function() { new Chartkick[\"ColumnChart\"](\"chart-306\", [[100,6582],[130,2281],[169,737],[219,270],[284,91],[369,26],[479,8],[622,5]], {}); };\n",
       "    if (\"Chartkick\" in window) {\n",
       "      createChart();\n",
       "    } else {\n",
       "      window.addEventListener(\"chartkick:load\", createChart, true);\n",
       "    }\n",
       "  })();\n",
       "</script><script>\n",
       "  (function() {\n",
       "    if (document.documentElement.hasAttribute(\"data-turbolinks-preview\")) return;\n",
       "    if (document.documentElement.hasAttribute(\"data-turbo-preview\")) return;\n",
       "\n",
       "    var createChart = function() { new Chartkick[\"ColumnChart\"](\"chart-305\", [[100,6582],[195,2281],[380,737],[741,270],[1444,91],[2815,26],[5489,8],[10703,5]], {}); };\n",
       "    if (\"Chartkick\" in window) {\n",
       "      createChart();\n",
       "    } else {\n",
       "      window.addEventListener(\"chartkick:load\", createChart, true);\n",
       "    }\n",
       "  })();\n",
       "</script><script>\n",
       "  (function() {\n",
       "    if (document.documentElement.hasAttribute(\"data-turbolinks-preview\")) return;\n",
       "    if (document.documentElement.hasAttribute(\"data-turbo-preview\")) return;\n",
       "\n",
       "    var createChart = function() { new Chartkick[\"ColumnChart\"](\"chart-304\", [[1,6582],[2,2281],[3,737],[4,270],[5,91],[6,26],[7,8],[8,5]], {}); };\n",
       "    if (\"Chartkick\" in window) {\n",
       "      createChart();\n",
       "    } else {\n",
       "      window.addEventListener(\"chartkick:load\", createChart, true);\n",
       "    }\n",
       "  })();\n",
       "</script>"
      ],
      "text/plain": [
       "\"\\n\\n<div id=\\\"app_9LL75n6FsH\\\">\\n\\n<el-container>\\n  <el-main>\\n   \\n    <el-row :gutter=\\\"24\\\" type=\\\"flex\\\" align=\\\"middle\\\" justify=\\\"center\\\">\\n    <el-col :span=\\\"1\\\" style=\\\"text-align:center\\\">\\n      <b></b>\\n    </el-col>\\n    \\n      \\n        <el-col :span=\\\"11\\\" style=\\\"text-align:center\\\">\\n          <b>鱼等级分布</b>\\n          <div id=\\\"chart-304\\\" style=\\\"height: 300px; width: 100%; text-align: center; color: #999; line-height: 300px; font-size: 14px; font-family: 'Lucida Grande', 'Lucida Sans Unicode', Verdana, Arial, Helvetica, sans-serif;\\\">Loading...</div>\\n\\n\\n        </el-col>\\n      \\n        <el-col :span=\\\"11\\\" style=\\\"text-align:center\\\">\\n          <b>鱼敏捷度分布</b>\\n          <div id=\\\"chart-305\\\" style=\\\"height: 300px; width: 100%; text-align: center; color: #999; line-height: 300px; font-size: 14px; font-family: 'Lucida Grande', 'Lucida Sans Unicode', Verdana, Arial, Helvetica, sans-serif;\\\">Loading...</div>\\n\\n\\n        </el-col>\\n      \\n        <el-col :span=\\\"11\\\" style=\\\"text-align:center\\\">\\n          <b>鱼力量值分布</b>\\n          <div id=\\\"chart-306\\\" style=\\\"height: 300px; width: 100%; text-align: center; color: #999; line-height: 300px; font-size: 14px; font-family: 'Lucida Grande', 'Lucida Sans Unicode', Verdana, Arial, Helvetica, sans-serif;\\\">Loading...</div>\\n\\n\\n        </el-col>\\n      \\n    </el-row>\\n   \\n  </el-main>\\n</el-container>\\n</div>\\n\\n\\n<script>\\n  Vue.use(VueChartkick.use(Chart))\\n\\n  app = new Vue({\\n    el: '#app_9LL75n6FsH',\\n  })\\n</script><script>\\n  (function() {\\n    if (document.documentElement.hasAttribute(\\\"data-turbolinks-preview\\\")) return;\\n    if (document.documentElement.hasAttribute(\\\"data-turbo-preview\\\")) return;\\n\\n    var createChart = function() { new Chartkick[\\\"ColumnChart\\\"](\\\"chart-306\\\", [[100,6582],[130,2281],[169,737],[219,270],[284,91],[369,26],[479,8],[622,5]], {}); };\\n    if (\\\"Chartkick\\\" in window) {\\n      createChart();\\n    } else {\\n      window.addEventListener(\\\"chartkick:load\\\", createChart, true);\\n    }\\n  })();\\n</script><script>\\n  (function() {\\n    if (document.documentElement.hasAttribute(\\\"data-turbolinks-preview\\\")) return;\\n    if (document.documentElement.hasAttribute(\\\"data-turbo-preview\\\")) return;\\n\\n    var createChart = function() { new Chartkick[\\\"ColumnChart\\\"](\\\"chart-305\\\", [[100,6582],[195,2281],[380,737],[741,270],[1444,91],[2815,26],[5489,8],[10703,5]], {}); };\\n    if (\\\"Chartkick\\\" in window) {\\n      createChart();\\n    } else {\\n      window.addEventListener(\\\"chartkick:load\\\", createChart, true);\\n    }\\n  })();\\n</script><script>\\n  (function() {\\n    if (document.documentElement.hasAttribute(\\\"data-turbolinks-preview\\\")) return;\\n    if (document.documentElement.hasAttribute(\\\"data-turbo-preview\\\")) return;\\n\\n    var createChart = function() { new Chartkick[\\\"ColumnChart\\\"](\\\"chart-304\\\", [[1,6582],[2,2281],[3,737],[4,270],[5,91],[6,26],[7,8],[8,5]], {}); };\\n    if (\\\"Chartkick\\\" in window) {\\n      createChart();\\n    } else {\\n      window.addEventListener(\\\"chartkick:load\\\", createChart, true);\\n    }\\n  })();\\n</script>\""
      ]
     },
     "metadata": {},
     "output_type": "display_data"
    },
    {
     "data": {
      "text/html": [
       "\n",
       "\n",
       "<div id=\"app_1U3qSwSwyc\">\n",
       "\n",
       "<el-container>\n",
       "  <el-main>\n",
       "   \n",
       "    <el-row :gutter=\"24\" type=\"flex\" align=\"middle\" justify=\"center\">\n",
       "    <el-col :span=\"1\" style=\"text-align:center\">\n",
       "      <b></b>\n",
       "    </el-col>\n",
       "    \n",
       "      \n",
       "        <el-col :span=\"11\" style=\"text-align:center\">\n",
       "          <b>鱼年龄分布</b>\n",
       "          <div id=\"chart-307\" style=\"height: 300px; width: 100%; text-align: center; color: #999; line-height: 300px; font-size: 14px; font-family: 'Lucida Grande', 'Lucida Sans Unicode', Verdana, Arial, Helvetica, sans-serif;\">Loading...</div>\n",
       "\n",
       "\n",
       "        </el-col>\n",
       "      \n",
       "        <el-col :span=\"11\" style=\"text-align:center\">\n",
       "          <b>鱼熟练度</b>\n",
       "          <div id=\"chart-308\" style=\"height: 300px; width: 100%; text-align: center; color: #999; line-height: 300px; font-size: 14px; font-family: 'Lucida Grande', 'Lucida Sans Unicode', Verdana, Arial, Helvetica, sans-serif;\">Loading...</div>\n",
       "\n",
       "\n",
       "        </el-col>\n",
       "      \n",
       "        <el-col :span=\"11\" style=\"text-align:center\">\n",
       "          <b>N/A</b>\n",
       "          \n",
       "        </el-col>\n",
       "      \n",
       "    </el-row>\n",
       "   \n",
       "  </el-main>\n",
       "</el-container>\n",
       "</div>\n",
       "\n",
       "\n",
       "<script>\n",
       "  Vue.use(VueChartkick.use(Chart))\n",
       "\n",
       "  app = new Vue({\n",
       "    el: '#app_1U3qSwSwyc',\n",
       "  })\n",
       "</script><script>\n",
       "  (function() {\n",
       "    if (document.documentElement.hasAttribute(\"data-turbolinks-preview\")) return;\n",
       "    if (document.documentElement.hasAttribute(\"data-turbo-preview\")) return;\n",
       "\n",
       "    var createChart = function() { new Chartkick[\"ColumnChart\"](\"chart-308\", [[0,5000],[1,5000]], {}); };\n",
       "    if (\"Chartkick\" in window) {\n",
       "      createChart();\n",
       "    } else {\n",
       "      window.addEventListener(\"chartkick:load\", createChart, true);\n",
       "    }\n",
       "  })();\n",
       "</script><script>\n",
       "  (function() {\n",
       "    if (document.documentElement.hasAttribute(\"data-turbolinks-preview\")) return;\n",
       "    if (document.documentElement.hasAttribute(\"data-turbo-preview\")) return;\n",
       "\n",
       "    var createChart = function() { new Chartkick[\"ColumnChart\"](\"chart-307\", [[1,10000]], {}); };\n",
       "    if (\"Chartkick\" in window) {\n",
       "      createChart();\n",
       "    } else {\n",
       "      window.addEventListener(\"chartkick:load\", createChart, true);\n",
       "    }\n",
       "  })();\n",
       "</script>"
      ],
      "text/plain": [
       "\"\\n\\n<div id=\\\"app_1U3qSwSwyc\\\">\\n\\n<el-container>\\n  <el-main>\\n   \\n    <el-row :gutter=\\\"24\\\" type=\\\"flex\\\" align=\\\"middle\\\" justify=\\\"center\\\">\\n    <el-col :span=\\\"1\\\" style=\\\"text-align:center\\\">\\n      <b></b>\\n    </el-col>\\n    \\n      \\n        <el-col :span=\\\"11\\\" style=\\\"text-align:center\\\">\\n          <b>鱼年龄分布</b>\\n          <div id=\\\"chart-307\\\" style=\\\"height: 300px; width: 100%; text-align: center; color: #999; line-height: 300px; font-size: 14px; font-family: 'Lucida Grande', 'Lucida Sans Unicode', Verdana, Arial, Helvetica, sans-serif;\\\">Loading...</div>\\n\\n\\n        </el-col>\\n      \\n        <el-col :span=\\\"11\\\" style=\\\"text-align:center\\\">\\n          <b>鱼熟练度</b>\\n          <div id=\\\"chart-308\\\" style=\\\"height: 300px; width: 100%; text-align: center; color: #999; line-height: 300px; font-size: 14px; font-family: 'Lucida Grande', 'Lucida Sans Unicode', Verdana, Arial, Helvetica, sans-serif;\\\">Loading...</div>\\n\\n\\n        </el-col>\\n      \\n        <el-col :span=\\\"11\\\" style=\\\"text-align:center\\\">\\n          <b>N/A</b>\\n          \\n        </el-col>\\n      \\n    </el-row>\\n   \\n  </el-main>\\n</el-container>\\n</div>\\n\\n\\n<script>\\n  Vue.use(VueChartkick.use(Chart))\\n\\n  app = new Vue({\\n    el: '#app_1U3qSwSwyc',\\n  })\\n</script><script>\\n  (function() {\\n    if (document.documentElement.hasAttribute(\\\"data-turbolinks-preview\\\")) return;\\n    if (document.documentElement.hasAttribute(\\\"data-turbo-preview\\\")) return;\\n\\n    var createChart = function() { new Chartkick[\\\"ColumnChart\\\"](\\\"chart-308\\\", [[0,5000],[1,5000]], {}); };\\n    if (\\\"Chartkick\\\" in window) {\\n      createChart();\\n    } else {\\n      window.addEventListener(\\\"chartkick:load\\\", createChart, true);\\n    }\\n  })();\\n</script><script>\\n  (function() {\\n    if (document.documentElement.hasAttribute(\\\"data-turbolinks-preview\\\")) return;\\n    if (document.documentElement.hasAttribute(\\\"data-turbo-preview\\\")) return;\\n\\n    var createChart = function() { new Chartkick[\\\"ColumnChart\\\"](\\\"chart-307\\\", [[1,10000]], {}); };\\n    if (\\\"Chartkick\\\" in window) {\\n      createChart();\\n    } else {\\n      window.addEventListener(\\\"chartkick:load\\\", createChart, true);\\n    }\\n  })();\\n</script>\""
      ]
     },
     "metadata": {},
     "output_type": "display_data"
    },
    {
     "data": {
      "text/html": [
       "<h3>==游戏==</h3>"
      ],
      "text/plain": [
       "\"<h3>==游戏==</h3>\""
      ]
     },
     "metadata": {},
     "output_type": "display_data"
    },
    {
     "data": {
      "text/html": [
       "本月游戏名字=GameApple"
      ],
      "text/plain": [
       "\"本月游戏名字=GameApple\""
      ]
     },
     "metadata": {},
     "output_type": "display_data"
    },
    {
     "data": {
      "text/html": [
       "本月游戏代币=AppleCoin"
      ],
      "text/plain": [
       "\"本月游戏代币=AppleCoin\""
      ]
     },
     "metadata": {},
     "output_type": "display_data"
    },
    {
     "data": {
      "text/html": [
       "本月游戏上线时间=0"
      ],
      "text/plain": [
       "\"本月游戏上线时间=0\""
      ]
     },
     "metadata": {},
     "output_type": "display_data"
    },
    {
     "data": {
      "text/html": [
       "本月游戏挖矿天数=5"
      ],
      "text/plain": [
       "\"本月游戏挖矿天数=5\""
      ]
     },
     "metadata": {},
     "output_type": "display_data"
    },
    {
     "data": {
      "text/html": [
       "本月游戏总Token=100000"
      ],
      "text/plain": [
       "\"本月游戏总Token=100000\""
      ]
     },
     "metadata": {},
     "output_type": "display_data"
    },
    {
     "data": {
      "text/html": [
       "本月游戏挖矿Token=90000"
      ],
      "text/plain": [
       "\"本月游戏挖矿Token=90000\""
      ]
     },
     "metadata": {},
     "output_type": "display_data"
    },
    {
     "data": {
      "text/html": [
       "本月游戏空投Token=10000"
      ],
      "text/plain": [
       "\"本月游戏空投Token=10000\""
      ]
     },
     "metadata": {},
     "output_type": "display_data"
    },
    {
     "data": {
      "text/html": [
       "本月游戏挖矿鱼数限制=5000"
      ],
      "text/plain": [
       "\"本月游戏挖矿鱼数限制=5000\""
      ]
     },
     "metadata": {},
     "output_type": "display_data"
    },
    {
     "data": {
      "text/html": [
       "本月游戏空投鱼数限制=10000"
      ],
      "text/plain": [
       "\"本月游戏空投鱼数限制=10000\""
      ]
     },
     "metadata": {},
     "output_type": "display_data"
    },
    {
     "data": {
      "text/html": [
       "\n",
       "\n",
       "<div id=\"app_MZECVuoAb3\">\n",
       "\n",
       "<el-container>\n",
       "  <el-main>\n",
       "   \n",
       "    <el-row :gutter=\"24\" type=\"flex\" align=\"middle\" justify=\"center\">\n",
       "    <el-col :span=\"1\" style=\"text-align:center\">\n",
       "      <b></b>\n",
       "    </el-col>\n",
       "    \n",
       "      \n",
       "        <el-col :span=\"11\" style=\"text-align:center\">\n",
       "          <b>进入挖矿池 和 排队未进入的鱼比例</b>\n",
       "          <div id=\"chart-309\" style=\"height: 300px; width: 100%; text-align: center; color: #999; line-height: 300px; font-size: 14px; font-family: 'Lucida Grande', 'Lucida Sans Unicode', Verdana, Arial, Helvetica, sans-serif;\">Loading...</div>\n",
       "\n",
       "\n",
       "        </el-col>\n",
       "      \n",
       "        <el-col :span=\"11\" style=\"text-align:center\">\n",
       "          <b>游戏进入挖矿池 的 鱼等级分布</b>\n",
       "          <div id=\"chart-310\" style=\"height: 300px; width: 100%; text-align: center; color: #999; line-height: 300px; font-size: 14px; font-family: 'Lucida Grande', 'Lucida Sans Unicode', Verdana, Arial, Helvetica, sans-serif;\">Loading...</div>\n",
       "\n",
       "\n",
       "        </el-col>\n",
       "      \n",
       "        <el-col :span=\"11\" style=\"text-align:center\">\n",
       "          <b>游戏未进入挖矿池 的 鱼等级分布</b>\n",
       "          <div id=\"chart-311\" style=\"height: 300px; width: 100%; text-align: center; color: #999; line-height: 300px; font-size: 14px; font-family: 'Lucida Grande', 'Lucida Sans Unicode', Verdana, Arial, Helvetica, sans-serif;\">Loading...</div>\n",
       "\n",
       "\n",
       "        </el-col>\n",
       "      \n",
       "    </el-row>\n",
       "   \n",
       "  </el-main>\n",
       "</el-container>\n",
       "</div>\n",
       "\n",
       "\n",
       "<script>\n",
       "  Vue.use(VueChartkick.use(Chart))\n",
       "\n",
       "  app = new Vue({\n",
       "    el: '#app_MZECVuoAb3',\n",
       "  })\n",
       "</script><script>\n",
       "  (function() {\n",
       "    if (document.documentElement.hasAttribute(\"data-turbolinks-preview\")) return;\n",
       "    if (document.documentElement.hasAttribute(\"data-turbo-preview\")) return;\n",
       "\n",
       "    var createChart = function() { new Chartkick[\"ColumnChart\"](\"chart-311\", [[1,4052],[2,851],[3,93],[4,4]], {}); };\n",
       "    if (\"Chartkick\" in window) {\n",
       "      createChart();\n",
       "    } else {\n",
       "      window.addEventListener(\"chartkick:load\", createChart, true);\n",
       "    }\n",
       "  })();\n",
       "</script><script>\n",
       "  (function() {\n",
       "    if (document.documentElement.hasAttribute(\"data-turbolinks-preview\")) return;\n",
       "    if (document.documentElement.hasAttribute(\"data-turbo-preview\")) return;\n",
       "\n",
       "    var createChart = function() { new Chartkick[\"ColumnChart\"](\"chart-310\", [[1,2530],[2,1430],[3,644],[4,266],[5,91],[6,26],[7,8],[8,5]], {}); };\n",
       "    if (\"Chartkick\" in window) {\n",
       "      createChart();\n",
       "    } else {\n",
       "      window.addEventListener(\"chartkick:load\", createChart, true);\n",
       "    }\n",
       "  })();\n",
       "</script><script>\n",
       "  (function() {\n",
       "    if (document.documentElement.hasAttribute(\"data-turbolinks-preview\")) return;\n",
       "    if (document.documentElement.hasAttribute(\"data-turbo-preview\")) return;\n",
       "\n",
       "    var createChart = function() { new Chartkick[\"PieChart\"](\"chart-309\", [[\"挖矿中\",5000],[\"排队中\",5000]], {}); };\n",
       "    if (\"Chartkick\" in window) {\n",
       "      createChart();\n",
       "    } else {\n",
       "      window.addEventListener(\"chartkick:load\", createChart, true);\n",
       "    }\n",
       "  })();\n",
       "</script>"
      ],
      "text/plain": [
       "\"\\n\\n<div id=\\\"app_MZECVuoAb3\\\">\\n\\n<el-container>\\n  <el-main>\\n   \\n    <el-row :gutter=\\\"24\\\" type=\\\"flex\\\" align=\\\"middle\\\" justify=\\\"center\\\">\\n    <el-col :span=\\\"1\\\" style=\\\"text-align:center\\\">\\n      <b></b>\\n    </el-col>\\n    \\n      \\n        <el-col :span=\\\"11\\\" style=\\\"text-align:center\\\">\\n          <b>进入挖矿池 和 排队未进入的鱼比例</b>\\n          <div id=\\\"chart-309\\\" style=\\\"height: 300px; width: 100%; text-align: center; color: #999; line-height: 300px; font-size: 14px; font-family: 'Lucida Grande', 'Lucida Sans Unicode', Verdana, Arial, Helvetica, sans-serif;\\\">Loading...</div>\\n\\n\\n        </el-col>\\n      \\n        <el-col :span=\\\"11\\\" style=\\\"text-align:center\\\">\\n          <b>游戏进入挖矿池 的 鱼等级分布</b>\\n          <div id=\\\"chart-310\\\" style=\\\"height: 300px; width: 100%; text-align: center; color: #999; line-height: 300px; font-size: 14px; font-family: 'Lucida Grande', 'Lucida Sans Unicode', Verdana, Arial, Helvetica, sans-serif;\\\">Loading...</div>\\n\\n\\n        </el-col>\\n      \\n        <el-col :span=\\\"11\\\" style=\\\"text-align:center\\\">\\n          <b>游戏未进入挖矿池 的 鱼等级分布</b>\\n          <div id=\\\"chart-311\\\" style=\\\"height: 300px; width: 100%; text-align: center; color: #999; line-height: 300px; font-size: 14px; font-family: 'Lucida Grande', 'Lucida Sans Unicode', Verdana, Arial, Helvetica, sans-serif;\\\">Loading...</div>\\n\\n\\n        </el-col>\\n      \\n    </el-row>\\n   \\n  </el-main>\\n</el-container>\\n</div>\\n\\n\\n<script>\\n  Vue.use(VueChartkick.use(Chart))\\n\\n  app = new Vue({\\n    el: '#app_MZECVuoAb3',\\n  })\\n</script><script>\\n  (function() {\\n    if (document.documentElement.hasAttribute(\\\"data-turbolinks-preview\\\")) return;\\n    if (document.documentElement.hasAttribute(\\\"data-turbo-preview\\\")) return;\\n\\n    var createChart = function() { new Chartkick[\\\"ColumnChart\\\"](\\\"chart-311\\\", [[1,4052],[2,851],[3,93],[4,4]], {}); };\\n    if (\\\"Chartkick\\\" in window) {\\n      createChart();\\n    } else {\\n      window.addEventListener(\\\"chartkick:load\\\", createChart, true);\\n    }\\n  })();\\n</script><script>\\n  (function() {\\n    if (document.documentElement.hasAttribute(\\\"data-turbolinks-preview\\\")) return;\\n    if (document.documentElement.hasAttribute(\\\"data-turbo-preview\\\")) return;\\n\\n    var createChart = function() { new Chartkick[\\\"ColumnChart\\\"](\\\"chart-310\\\", [[1,2530],[2,1430],[3,644],[4,266],[5,91],[6,26],[7,8],[8,5]], {}); };\\n    if (\\\"Chartkick\\\" in window) {\\n      createChart();\\n    } else {\\n      window.addEventListener(\\\"chartkick:load\\\", createChart, true);\\n    }\\n  })();\\n</script><script>\\n  (function() {\\n    if (document.documentElement.hasAttribute(\\\"data-turbolinks-preview\\\")) return;\\n    if (document.documentElement.hasAttribute(\\\"data-turbo-preview\\\")) return;\\n\\n    var createChart = function() { new Chartkick[\\\"PieChart\\\"](\\\"chart-309\\\", [[\\\"挖矿中\\\",5000],[\\\"排队中\\\",5000]], {}); };\\n    if (\\\"Chartkick\\\" in window) {\\n      createChart();\\n    } else {\\n      window.addEventListener(\\\"chartkick:load\\\", createChart, true);\\n    }\\n  })();\\n</script>\""
      ]
     },
     "metadata": {},
     "output_type": "display_data"
    },
    {
     "data": {
      "text/html": [
       "<h3>==用户==</h3>"
      ],
      "text/plain": [
       "\"<h3>==用户==</h3>\""
      ]
     },
     "metadata": {},
     "output_type": "display_data"
    },
    {
     "data": {
      "text/html": [
       "\n",
       "\n",
       "<div id=\"app_cCQ2EOSp4S\">\n",
       "\n",
       "<el-container>\n",
       "  <el-main>\n",
       "   \n",
       "    <el-row :gutter=\"24\" type=\"flex\" align=\"middle\" justify=\"center\">\n",
       "    <el-col :span=\"1\" style=\"text-align:center\">\n",
       "      <b></b>\n",
       "    </el-col>\n",
       "    \n",
       "      \n",
       "        <el-col :span=\"11\" style=\"text-align:center\">\n",
       "          <b>用户持有AppleCoin代表数量分布</b>\n",
       "          <div id=\"chart-312\" style=\"height: 300px; width: 100%; text-align: center; color: #999; line-height: 300px; font-size: 14px; font-family: 'Lucida Grande', 'Lucida Sans Unicode', Verdana, Arial, Helvetica, sans-serif;\">Loading...</div>\n",
       "\n",
       "\n",
       "        </el-col>\n",
       "      \n",
       "        <el-col :span=\"11\" style=\"text-align:center\">\n",
       "          <b>N/A</b>\n",
       "          \n",
       "        </el-col>\n",
       "      \n",
       "        <el-col :span=\"11\" style=\"text-align:center\">\n",
       "          <b>N/A</b>\n",
       "          \n",
       "        </el-col>\n",
       "      \n",
       "    </el-row>\n",
       "   \n",
       "  </el-main>\n",
       "</el-container>\n",
       "</div>\n",
       "\n",
       "\n",
       "<script>\n",
       "  Vue.use(VueChartkick.use(Chart))\n",
       "\n",
       "  app = new Vue({\n",
       "    el: '#app_cCQ2EOSp4S',\n",
       "  })\n",
       "</script><script>\n",
       "  (function() {\n",
       "    if (document.documentElement.hasAttribute(\"data-turbolinks-preview\")) return;\n",
       "    if (document.documentElement.hasAttribute(\"data-turbo-preview\")) return;\n",
       "\n",
       "    var createChart = function() { new Chartkick[\"ColumnChart\"](\"chart-312\", [[0,5000],[13.880963030368465,2530],[18.045251939479,1430],[23.4588275213227,644],[30.39930903650693,266],[39.421935006246436,91],[51.22075358205963,26],[66.48981291546494,8],[86.33959004889184,5]], {}); };\n",
       "    if (\"Chartkick\" in window) {\n",
       "      createChart();\n",
       "    } else {\n",
       "      window.addEventListener(\"chartkick:load\", createChart, true);\n",
       "    }\n",
       "  })();\n",
       "</script>"
      ],
      "text/plain": [
       "\"\\n\\n<div id=\\\"app_cCQ2EOSp4S\\\">\\n\\n<el-container>\\n  <el-main>\\n   \\n    <el-row :gutter=\\\"24\\\" type=\\\"flex\\\" align=\\\"middle\\\" justify=\\\"center\\\">\\n    <el-col :span=\\\"1\\\" style=\\\"text-align:center\\\">\\n      <b></b>\\n    </el-col>\\n    \\n      \\n        <el-col :span=\\\"11\\\" style=\\\"text-align:center\\\">\\n          <b>用户持有AppleCoin代表数量分布</b>\\n          <div id=\\\"chart-312\\\" style=\\\"height: 300px; width: 100%; text-align: center; color: #999; line-height: 300px; font-size: 14px; font-family: 'Lucida Grande', 'Lucida Sans Unicode', Verdana, Arial, Helvetica, sans-serif;\\\">Loading...</div>\\n\\n\\n        </el-col>\\n      \\n        <el-col :span=\\\"11\\\" style=\\\"text-align:center\\\">\\n          <b>N/A</b>\\n          \\n        </el-col>\\n      \\n        <el-col :span=\\\"11\\\" style=\\\"text-align:center\\\">\\n          <b>N/A</b>\\n          \\n        </el-col>\\n      \\n    </el-row>\\n   \\n  </el-main>\\n</el-container>\\n</div>\\n\\n\\n<script>\\n  Vue.use(VueChartkick.use(Chart))\\n\\n  app = new Vue({\\n    el: '#app_cCQ2EOSp4S',\\n  })\\n</script><script>\\n  (function() {\\n    if (document.documentElement.hasAttribute(\\\"data-turbolinks-preview\\\")) return;\\n    if (document.documentElement.hasAttribute(\\\"data-turbo-preview\\\")) return;\\n\\n    var createChart = function() { new Chartkick[\\\"ColumnChart\\\"](\\\"chart-312\\\", [[0,5000],[13.880963030368465,2530],[18.045251939479,1430],[23.4588275213227,644],[30.39930903650693,266],[39.421935006246436,91],[51.22075358205963,26],[66.48981291546494,8],[86.33959004889184,5]], {}); };\\n    if (\\\"Chartkick\\\" in window) {\\n      createChart();\\n    } else {\\n      window.addEventListener(\\\"chartkick:load\\\", createChart, true);\\n    }\\n  })();\\n</script>\""
      ]
     },
     "metadata": {},
     "output_type": "display_data"
    },
    {
     "data": {
      "text/html": [
       "<h1>World Stats (Month=1)</h1>"
      ],
      "text/plain": [
       "\"<h1>World Stats (Month=1)</h1>\""
      ]
     },
     "metadata": {},
     "output_type": "display_data"
    },
    {
     "data": {
      "text/html": [
       "总用户数=10000"
      ],
      "text/plain": [
       "\"总用户数=10000\""
      ]
     },
     "metadata": {},
     "output_type": "display_data"
    },
    {
     "data": {
      "text/html": [
       "总鱼数量=10000"
      ],
      "text/plain": [
       "\"总鱼数量=10000\""
      ]
     },
     "metadata": {},
     "output_type": "display_data"
    },
    {
     "data": {
      "text/html": [
       "总游戏数=2"
      ],
      "text/plain": [
       "\"总游戏数=2\""
      ]
     },
     "metadata": {},
     "output_type": "display_data"
    },
    {
     "data": {
      "text/html": [
       "<h3>==鱼==</h3>"
      ],
      "text/plain": [
       "\"<h3>==鱼==</h3>\""
      ]
     },
     "metadata": {},
     "output_type": "display_data"
    },
    {
     "data": {
      "text/html": [
       "\n",
       "\n",
       "<div id=\"app_LIsO29dVca\">\n",
       "\n",
       "<el-container>\n",
       "  <el-main>\n",
       "   \n",
       "    <el-row :gutter=\"24\" type=\"flex\" align=\"middle\" justify=\"center\">\n",
       "    <el-col :span=\"1\" style=\"text-align:center\">\n",
       "      <b></b>\n",
       "    </el-col>\n",
       "    \n",
       "      \n",
       "        <el-col :span=\"11\" style=\"text-align:center\">\n",
       "          <b>鱼等级分布</b>\n",
       "          <div id=\"chart-313\" style=\"height: 300px; width: 100%; text-align: center; color: #999; line-height: 300px; font-size: 14px; font-family: 'Lucida Grande', 'Lucida Sans Unicode', Verdana, Arial, Helvetica, sans-serif;\">Loading...</div>\n",
       "\n",
       "\n",
       "        </el-col>\n",
       "      \n",
       "        <el-col :span=\"11\" style=\"text-align:center\">\n",
       "          <b>鱼敏捷度分布</b>\n",
       "          <div id=\"chart-314\" style=\"height: 300px; width: 100%; text-align: center; color: #999; line-height: 300px; font-size: 14px; font-family: 'Lucida Grande', 'Lucida Sans Unicode', Verdana, Arial, Helvetica, sans-serif;\">Loading...</div>\n",
       "\n",
       "\n",
       "        </el-col>\n",
       "      \n",
       "        <el-col :span=\"11\" style=\"text-align:center\">\n",
       "          <b>鱼力量值分布</b>\n",
       "          <div id=\"chart-315\" style=\"height: 300px; width: 100%; text-align: center; color: #999; line-height: 300px; font-size: 14px; font-family: 'Lucida Grande', 'Lucida Sans Unicode', Verdana, Arial, Helvetica, sans-serif;\">Loading...</div>\n",
       "\n",
       "\n",
       "        </el-col>\n",
       "      \n",
       "    </el-row>\n",
       "   \n",
       "  </el-main>\n",
       "</el-container>\n",
       "</div>\n",
       "\n",
       "\n",
       "<script>\n",
       "  Vue.use(VueChartkick.use(Chart))\n",
       "\n",
       "  app = new Vue({\n",
       "    el: '#app_LIsO29dVca',\n",
       "  })\n",
       "</script><script>\n",
       "  (function() {\n",
       "    if (document.documentElement.hasAttribute(\"data-turbolinks-preview\")) return;\n",
       "    if (document.documentElement.hasAttribute(\"data-turbo-preview\")) return;\n",
       "\n",
       "    var createChart = function() { new Chartkick[\"ColumnChart\"](\"chart-315\", [[100,6582],[130,2281],[169,737],[219,270],[284,91],[369,26],[479,8],[622,5]], {}); };\n",
       "    if (\"Chartkick\" in window) {\n",
       "      createChart();\n",
       "    } else {\n",
       "      window.addEventListener(\"chartkick:load\", createChart, true);\n",
       "    }\n",
       "  })();\n",
       "</script><script>\n",
       "  (function() {\n",
       "    if (document.documentElement.hasAttribute(\"data-turbolinks-preview\")) return;\n",
       "    if (document.documentElement.hasAttribute(\"data-turbo-preview\")) return;\n",
       "\n",
       "    var createChart = function() { new Chartkick[\"ColumnChart\"](\"chart-314\", [[100,6582],[195,2281],[380,737],[741,270],[1444,91],[2815,26],[5489,8],[10703,5]], {}); };\n",
       "    if (\"Chartkick\" in window) {\n",
       "      createChart();\n",
       "    } else {\n",
       "      window.addEventListener(\"chartkick:load\", createChart, true);\n",
       "    }\n",
       "  })();\n",
       "</script><script>\n",
       "  (function() {\n",
       "    if (document.documentElement.hasAttribute(\"data-turbolinks-preview\")) return;\n",
       "    if (document.documentElement.hasAttribute(\"data-turbo-preview\")) return;\n",
       "\n",
       "    var createChart = function() { new Chartkick[\"ColumnChart\"](\"chart-313\", [[1,6582],[2,2281],[3,737],[4,270],[5,91],[6,26],[7,8],[8,5]], {}); };\n",
       "    if (\"Chartkick\" in window) {\n",
       "      createChart();\n",
       "    } else {\n",
       "      window.addEventListener(\"chartkick:load\", createChart, true);\n",
       "    }\n",
       "  })();\n",
       "</script>"
      ],
      "text/plain": [
       "\"\\n\\n<div id=\\\"app_LIsO29dVca\\\">\\n\\n<el-container>\\n  <el-main>\\n   \\n    <el-row :gutter=\\\"24\\\" type=\\\"flex\\\" align=\\\"middle\\\" justify=\\\"center\\\">\\n    <el-col :span=\\\"1\\\" style=\\\"text-align:center\\\">\\n      <b></b>\\n    </el-col>\\n    \\n      \\n        <el-col :span=\\\"11\\\" style=\\\"text-align:center\\\">\\n          <b>鱼等级分布</b>\\n          <div id=\\\"chart-313\\\" style=\\\"height: 300px; width: 100%; text-align: center; color: #999; line-height: 300px; font-size: 14px; font-family: 'Lucida Grande', 'Lucida Sans Unicode', Verdana, Arial, Helvetica, sans-serif;\\\">Loading...</div>\\n\\n\\n        </el-col>\\n      \\n        <el-col :span=\\\"11\\\" style=\\\"text-align:center\\\">\\n          <b>鱼敏捷度分布</b>\\n          <div id=\\\"chart-314\\\" style=\\\"height: 300px; width: 100%; text-align: center; color: #999; line-height: 300px; font-size: 14px; font-family: 'Lucida Grande', 'Lucida Sans Unicode', Verdana, Arial, Helvetica, sans-serif;\\\">Loading...</div>\\n\\n\\n        </el-col>\\n      \\n        <el-col :span=\\\"11\\\" style=\\\"text-align:center\\\">\\n          <b>鱼力量值分布</b>\\n          <div id=\\\"chart-315\\\" style=\\\"height: 300px; width: 100%; text-align: center; color: #999; line-height: 300px; font-size: 14px; font-family: 'Lucida Grande', 'Lucida Sans Unicode', Verdana, Arial, Helvetica, sans-serif;\\\">Loading...</div>\\n\\n\\n        </el-col>\\n      \\n    </el-row>\\n   \\n  </el-main>\\n</el-container>\\n</div>\\n\\n\\n<script>\\n  Vue.use(VueChartkick.use(Chart))\\n\\n  app = new Vue({\\n    el: '#app_LIsO29dVca',\\n  })\\n</script><script>\\n  (function() {\\n    if (document.documentElement.hasAttribute(\\\"data-turbolinks-preview\\\")) return;\\n    if (document.documentElement.hasAttribute(\\\"data-turbo-preview\\\")) return;\\n\\n    var createChart = function() { new Chartkick[\\\"ColumnChart\\\"](\\\"chart-315\\\", [[100,6582],[130,2281],[169,737],[219,270],[284,91],[369,26],[479,8],[622,5]], {}); };\\n    if (\\\"Chartkick\\\" in window) {\\n      createChart();\\n    } else {\\n      window.addEventListener(\\\"chartkick:load\\\", createChart, true);\\n    }\\n  })();\\n</script><script>\\n  (function() {\\n    if (document.documentElement.hasAttribute(\\\"data-turbolinks-preview\\\")) return;\\n    if (document.documentElement.hasAttribute(\\\"data-turbo-preview\\\")) return;\\n\\n    var createChart = function() { new Chartkick[\\\"ColumnChart\\\"](\\\"chart-314\\\", [[100,6582],[195,2281],[380,737],[741,270],[1444,91],[2815,26],[5489,8],[10703,5]], {}); };\\n    if (\\\"Chartkick\\\" in window) {\\n      createChart();\\n    } else {\\n      window.addEventListener(\\\"chartkick:load\\\", createChart, true);\\n    }\\n  })();\\n</script><script>\\n  (function() {\\n    if (document.documentElement.hasAttribute(\\\"data-turbolinks-preview\\\")) return;\\n    if (document.documentElement.hasAttribute(\\\"data-turbo-preview\\\")) return;\\n\\n    var createChart = function() { new Chartkick[\\\"ColumnChart\\\"](\\\"chart-313\\\", [[1,6582],[2,2281],[3,737],[4,270],[5,91],[6,26],[7,8],[8,5]], {}); };\\n    if (\\\"Chartkick\\\" in window) {\\n      createChart();\\n    } else {\\n      window.addEventListener(\\\"chartkick:load\\\", createChart, true);\\n    }\\n  })();\\n</script>\""
      ]
     },
     "metadata": {},
     "output_type": "display_data"
    },
    {
     "data": {
      "text/html": [
       "\n",
       "\n",
       "<div id=\"app_3Y2vCuUv6K\">\n",
       "\n",
       "<el-container>\n",
       "  <el-main>\n",
       "   \n",
       "    <el-row :gutter=\"24\" type=\"flex\" align=\"middle\" justify=\"center\">\n",
       "    <el-col :span=\"1\" style=\"text-align:center\">\n",
       "      <b></b>\n",
       "    </el-col>\n",
       "    \n",
       "      \n",
       "        <el-col :span=\"11\" style=\"text-align:center\">\n",
       "          <b>鱼年龄分布</b>\n",
       "          <div id=\"chart-316\" style=\"height: 300px; width: 100%; text-align: center; color: #999; line-height: 300px; font-size: 14px; font-family: 'Lucida Grande', 'Lucida Sans Unicode', Verdana, Arial, Helvetica, sans-serif;\">Loading...</div>\n",
       "\n",
       "\n",
       "        </el-col>\n",
       "      \n",
       "        <el-col :span=\"11\" style=\"text-align:center\">\n",
       "          <b>鱼熟练度</b>\n",
       "          <div id=\"chart-317\" style=\"height: 300px; width: 100%; text-align: center; color: #999; line-height: 300px; font-size: 14px; font-family: 'Lucida Grande', 'Lucida Sans Unicode', Verdana, Arial, Helvetica, sans-serif;\">Loading...</div>\n",
       "\n",
       "\n",
       "        </el-col>\n",
       "      \n",
       "        <el-col :span=\"11\" style=\"text-align:center\">\n",
       "          <b>N/A</b>\n",
       "          \n",
       "        </el-col>\n",
       "      \n",
       "    </el-row>\n",
       "   \n",
       "  </el-main>\n",
       "</el-container>\n",
       "</div>\n",
       "\n",
       "\n",
       "<script>\n",
       "  Vue.use(VueChartkick.use(Chart))\n",
       "\n",
       "  app = new Vue({\n",
       "    el: '#app_3Y2vCuUv6K',\n",
       "  })\n",
       "</script><script>\n",
       "  (function() {\n",
       "    if (document.documentElement.hasAttribute(\"data-turbolinks-preview\")) return;\n",
       "    if (document.documentElement.hasAttribute(\"data-turbo-preview\")) return;\n",
       "\n",
       "    var createChart = function() { new Chartkick[\"ColumnChart\"](\"chart-317\", [[0,1223],[1,4554],[2,4223]], {}); };\n",
       "    if (\"Chartkick\" in window) {\n",
       "      createChart();\n",
       "    } else {\n",
       "      window.addEventListener(\"chartkick:load\", createChart, true);\n",
       "    }\n",
       "  })();\n",
       "</script><script>\n",
       "  (function() {\n",
       "    if (document.documentElement.hasAttribute(\"data-turbolinks-preview\")) return;\n",
       "    if (document.documentElement.hasAttribute(\"data-turbo-preview\")) return;\n",
       "\n",
       "    var createChart = function() { new Chartkick[\"ColumnChart\"](\"chart-316\", [[2,10000]], {}); };\n",
       "    if (\"Chartkick\" in window) {\n",
       "      createChart();\n",
       "    } else {\n",
       "      window.addEventListener(\"chartkick:load\", createChart, true);\n",
       "    }\n",
       "  })();\n",
       "</script>"
      ],
      "text/plain": [
       "\"\\n\\n<div id=\\\"app_3Y2vCuUv6K\\\">\\n\\n<el-container>\\n  <el-main>\\n   \\n    <el-row :gutter=\\\"24\\\" type=\\\"flex\\\" align=\\\"middle\\\" justify=\\\"center\\\">\\n    <el-col :span=\\\"1\\\" style=\\\"text-align:center\\\">\\n      <b></b>\\n    </el-col>\\n    \\n      \\n        <el-col :span=\\\"11\\\" style=\\\"text-align:center\\\">\\n          <b>鱼年龄分布</b>\\n          <div id=\\\"chart-316\\\" style=\\\"height: 300px; width: 100%; text-align: center; color: #999; line-height: 300px; font-size: 14px; font-family: 'Lucida Grande', 'Lucida Sans Unicode', Verdana, Arial, Helvetica, sans-serif;\\\">Loading...</div>\\n\\n\\n        </el-col>\\n      \\n        <el-col :span=\\\"11\\\" style=\\\"text-align:center\\\">\\n          <b>鱼熟练度</b>\\n          <div id=\\\"chart-317\\\" style=\\\"height: 300px; width: 100%; text-align: center; color: #999; line-height: 300px; font-size: 14px; font-family: 'Lucida Grande', 'Lucida Sans Unicode', Verdana, Arial, Helvetica, sans-serif;\\\">Loading...</div>\\n\\n\\n        </el-col>\\n      \\n        <el-col :span=\\\"11\\\" style=\\\"text-align:center\\\">\\n          <b>N/A</b>\\n          \\n        </el-col>\\n      \\n    </el-row>\\n   \\n  </el-main>\\n</el-container>\\n</div>\\n\\n\\n<script>\\n  Vue.use(VueChartkick.use(Chart))\\n\\n  app = new Vue({\\n    el: '#app_3Y2vCuUv6K',\\n  })\\n</script><script>\\n  (function() {\\n    if (document.documentElement.hasAttribute(\\\"data-turbolinks-preview\\\")) return;\\n    if (document.documentElement.hasAttribute(\\\"data-turbo-preview\\\")) return;\\n\\n    var createChart = function() { new Chartkick[\\\"ColumnChart\\\"](\\\"chart-317\\\", [[0,1223],[1,4554],[2,4223]], {}); };\\n    if (\\\"Chartkick\\\" in window) {\\n      createChart();\\n    } else {\\n      window.addEventListener(\\\"chartkick:load\\\", createChart, true);\\n    }\\n  })();\\n</script><script>\\n  (function() {\\n    if (document.documentElement.hasAttribute(\\\"data-turbolinks-preview\\\")) return;\\n    if (document.documentElement.hasAttribute(\\\"data-turbo-preview\\\")) return;\\n\\n    var createChart = function() { new Chartkick[\\\"ColumnChart\\\"](\\\"chart-316\\\", [[2,10000]], {}); };\\n    if (\\\"Chartkick\\\" in window) {\\n      createChart();\\n    } else {\\n      window.addEventListener(\\\"chartkick:load\\\", createChart, true);\\n    }\\n  })();\\n</script>\""
      ]
     },
     "metadata": {},
     "output_type": "display_data"
    },
    {
     "data": {
      "text/html": [
       "<h3>==游戏==</h3>"
      ],
      "text/plain": [
       "\"<h3>==游戏==</h3>\""
      ]
     },
     "metadata": {},
     "output_type": "display_data"
    },
    {
     "data": {
      "text/html": [
       "本月游戏名字=GameBanana"
      ],
      "text/plain": [
       "\"本月游戏名字=GameBanana\""
      ]
     },
     "metadata": {},
     "output_type": "display_data"
    },
    {
     "data": {
      "text/html": [
       "本月游戏代币=BananaCoin"
      ],
      "text/plain": [
       "\"本月游戏代币=BananaCoin\""
      ]
     },
     "metadata": {},
     "output_type": "display_data"
    },
    {
     "data": {
      "text/html": [
       "本月游戏上线时间=1"
      ],
      "text/plain": [
       "\"本月游戏上线时间=1\""
      ]
     },
     "metadata": {},
     "output_type": "display_data"
    },
    {
     "data": {
      "text/html": [
       "本月游戏挖矿天数=10"
      ],
      "text/plain": [
       "\"本月游戏挖矿天数=10\""
      ]
     },
     "metadata": {},
     "output_type": "display_data"
    },
    {
     "data": {
      "text/html": [
       "本月游戏总Token=200000"
      ],
      "text/plain": [
       "\"本月游戏总Token=200000\""
      ]
     },
     "metadata": {},
     "output_type": "display_data"
    },
    {
     "data": {
      "text/html": [
       "本月游戏挖矿Token=100000"
      ],
      "text/plain": [
       "\"本月游戏挖矿Token=100000\""
      ]
     },
     "metadata": {},
     "output_type": "display_data"
    },
    {
     "data": {
      "text/html": [
       "本月游戏空投Token=100000"
      ],
      "text/plain": [
       "\"本月游戏空投Token=100000\""
      ]
     },
     "metadata": {},
     "output_type": "display_data"
    },
    {
     "data": {
      "text/html": [
       "本月游戏挖矿鱼数限制=8000"
      ],
      "text/plain": [
       "\"本月游戏挖矿鱼数限制=8000\""
      ]
     },
     "metadata": {},
     "output_type": "display_data"
    },
    {
     "data": {
      "text/html": [
       "本月游戏空投鱼数限制=100000"
      ],
      "text/plain": [
       "\"本月游戏空投鱼数限制=100000\""
      ]
     },
     "metadata": {},
     "output_type": "display_data"
    },
    {
     "data": {
      "text/html": [
       "\n",
       "\n",
       "<div id=\"app_QPULQzkdC1\">\n",
       "\n",
       "<el-container>\n",
       "  <el-main>\n",
       "   \n",
       "    <el-row :gutter=\"24\" type=\"flex\" align=\"middle\" justify=\"center\">\n",
       "    <el-col :span=\"1\" style=\"text-align:center\">\n",
       "      <b></b>\n",
       "    </el-col>\n",
       "    \n",
       "      \n",
       "        <el-col :span=\"11\" style=\"text-align:center\">\n",
       "          <b>进入挖矿池 和 排队未进入的鱼比例</b>\n",
       "          <div id=\"chart-318\" style=\"height: 300px; width: 100%; text-align: center; color: #999; line-height: 300px; font-size: 14px; font-family: 'Lucida Grande', 'Lucida Sans Unicode', Verdana, Arial, Helvetica, sans-serif;\">Loading...</div>\n",
       "\n",
       "\n",
       "        </el-col>\n",
       "      \n",
       "        <el-col :span=\"11\" style=\"text-align:center\">\n",
       "          <b>游戏进入挖矿池 的 鱼等级分布</b>\n",
       "          <div id=\"chart-319\" style=\"height: 300px; width: 100%; text-align: center; color: #999; line-height: 300px; font-size: 14px; font-family: 'Lucida Grande', 'Lucida Sans Unicode', Verdana, Arial, Helvetica, sans-serif;\">Loading...</div>\n",
       "\n",
       "\n",
       "        </el-col>\n",
       "      \n",
       "        <el-col :span=\"11\" style=\"text-align:center\">\n",
       "          <b>游戏未进入挖矿池 的 鱼等级分布</b>\n",
       "          <div id=\"chart-320\" style=\"height: 300px; width: 100%; text-align: center; color: #999; line-height: 300px; font-size: 14px; font-family: 'Lucida Grande', 'Lucida Sans Unicode', Verdana, Arial, Helvetica, sans-serif;\">Loading...</div>\n",
       "\n",
       "\n",
       "        </el-col>\n",
       "      \n",
       "    </el-row>\n",
       "   \n",
       "  </el-main>\n",
       "</el-container>\n",
       "</div>\n",
       "\n",
       "\n",
       "<script>\n",
       "  Vue.use(VueChartkick.use(Chart))\n",
       "\n",
       "  app = new Vue({\n",
       "    el: '#app_QPULQzkdC1',\n",
       "  })\n",
       "</script><script>\n",
       "  (function() {\n",
       "    if (document.documentElement.hasAttribute(\"data-turbolinks-preview\")) return;\n",
       "    if (document.documentElement.hasAttribute(\"data-turbo-preview\")) return;\n",
       "\n",
       "    var createChart = function() { new Chartkick[\"ColumnChart\"](\"chart-320\", [[1,1825],[2,168],[3,7]], {}); };\n",
       "    if (\"Chartkick\" in window) {\n",
       "      createChart();\n",
       "    } else {\n",
       "      window.addEventListener(\"chartkick:load\", createChart, true);\n",
       "    }\n",
       "  })();\n",
       "</script><script>\n",
       "  (function() {\n",
       "    if (document.documentElement.hasAttribute(\"data-turbolinks-preview\")) return;\n",
       "    if (document.documentElement.hasAttribute(\"data-turbo-preview\")) return;\n",
       "\n",
       "    var createChart = function() { new Chartkick[\"ColumnChart\"](\"chart-319\", [[1,4757],[2,2113],[3,730],[4,270],[5,91],[6,26],[7,8],[8,5]], {}); };\n",
       "    if (\"Chartkick\" in window) {\n",
       "      createChart();\n",
       "    } else {\n",
       "      window.addEventListener(\"chartkick:load\", createChart, true);\n",
       "    }\n",
       "  })();\n",
       "</script><script>\n",
       "  (function() {\n",
       "    if (document.documentElement.hasAttribute(\"data-turbolinks-preview\")) return;\n",
       "    if (document.documentElement.hasAttribute(\"data-turbo-preview\")) return;\n",
       "\n",
       "    var createChart = function() { new Chartkick[\"PieChart\"](\"chart-318\", [[\"挖矿中\",8000],[\"排队中\",2000]], {}); };\n",
       "    if (\"Chartkick\" in window) {\n",
       "      createChart();\n",
       "    } else {\n",
       "      window.addEventListener(\"chartkick:load\", createChart, true);\n",
       "    }\n",
       "  })();\n",
       "</script>"
      ],
      "text/plain": [
       "\"\\n\\n<div id=\\\"app_QPULQzkdC1\\\">\\n\\n<el-container>\\n  <el-main>\\n   \\n    <el-row :gutter=\\\"24\\\" type=\\\"flex\\\" align=\\\"middle\\\" justify=\\\"center\\\">\\n    <el-col :span=\\\"1\\\" style=\\\"text-align:center\\\">\\n      <b></b>\\n    </el-col>\\n    \\n      \\n        <el-col :span=\\\"11\\\" style=\\\"text-align:center\\\">\\n          <b>进入挖矿池 和 排队未进入的鱼比例</b>\\n          <div id=\\\"chart-318\\\" style=\\\"height: 300px; width: 100%; text-align: center; color: #999; line-height: 300px; font-size: 14px; font-family: 'Lucida Grande', 'Lucida Sans Unicode', Verdana, Arial, Helvetica, sans-serif;\\\">Loading...</div>\\n\\n\\n        </el-col>\\n      \\n        <el-col :span=\\\"11\\\" style=\\\"text-align:center\\\">\\n          <b>游戏进入挖矿池 的 鱼等级分布</b>\\n          <div id=\\\"chart-319\\\" style=\\\"height: 300px; width: 100%; text-align: center; color: #999; line-height: 300px; font-size: 14px; font-family: 'Lucida Grande', 'Lucida Sans Unicode', Verdana, Arial, Helvetica, sans-serif;\\\">Loading...</div>\\n\\n\\n        </el-col>\\n      \\n        <el-col :span=\\\"11\\\" style=\\\"text-align:center\\\">\\n          <b>游戏未进入挖矿池 的 鱼等级分布</b>\\n          <div id=\\\"chart-320\\\" style=\\\"height: 300px; width: 100%; text-align: center; color: #999; line-height: 300px; font-size: 14px; font-family: 'Lucida Grande', 'Lucida Sans Unicode', Verdana, Arial, Helvetica, sans-serif;\\\">Loading...</div>\\n\\n\\n        </el-col>\\n      \\n    </el-row>\\n   \\n  </el-main>\\n</el-container>\\n</div>\\n\\n\\n<script>\\n  Vue.use(VueChartkick.use(Chart))\\n\\n  app = new Vue({\\n    el: '#app_QPULQzkdC1',\\n  })\\n</script><script>\\n  (function() {\\n    if (document.documentElement.hasAttribute(\\\"data-turbolinks-preview\\\")) return;\\n    if (document.documentElement.hasAttribute(\\\"data-turbo-preview\\\")) return;\\n\\n    var createChart = function() { new Chartkick[\\\"ColumnChart\\\"](\\\"chart-320\\\", [[1,1825],[2,168],[3,7]], {}); };\\n    if (\\\"Chartkick\\\" in window) {\\n      createChart();\\n    } else {\\n      window.addEventListener(\\\"chartkick:load\\\", createChart, true);\\n    }\\n  })();\\n</script><script>\\n  (function() {\\n    if (document.documentElement.hasAttribute(\\\"data-turbolinks-preview\\\")) return;\\n    if (document.documentElement.hasAttribute(\\\"data-turbo-preview\\\")) return;\\n\\n    var createChart = function() { new Chartkick[\\\"ColumnChart\\\"](\\\"chart-319\\\", [[1,4757],[2,2113],[3,730],[4,270],[5,91],[6,26],[7,8],[8,5]], {}); };\\n    if (\\\"Chartkick\\\" in window) {\\n      createChart();\\n    } else {\\n      window.addEventListener(\\\"chartkick:load\\\", createChart, true);\\n    }\\n  })();\\n</script><script>\\n  (function() {\\n    if (document.documentElement.hasAttribute(\\\"data-turbolinks-preview\\\")) return;\\n    if (document.documentElement.hasAttribute(\\\"data-turbo-preview\\\")) return;\\n\\n    var createChart = function() { new Chartkick[\\\"PieChart\\\"](\\\"chart-318\\\", [[\\\"挖矿中\\\",8000],[\\\"排队中\\\",2000]], {}); };\\n    if (\\\"Chartkick\\\" in window) {\\n      createChart();\\n    } else {\\n      window.addEventListener(\\\"chartkick:load\\\", createChart, true);\\n    }\\n  })();\\n</script>\""
      ]
     },
     "metadata": {},
     "output_type": "display_data"
    },
    {
     "data": {
      "text/html": [
       "<h3>==用户==</h3>"
      ],
      "text/plain": [
       "\"<h3>==用户==</h3>\""
      ]
     },
     "metadata": {},
     "output_type": "display_data"
    },
    {
     "data": {
      "text/html": [
       "\n",
       "\n",
       "<div id=\"app_G6ZO7MhUIS\">\n",
       "\n",
       "<el-container>\n",
       "  <el-main>\n",
       "   \n",
       "    <el-row :gutter=\"24\" type=\"flex\" align=\"middle\" justify=\"center\">\n",
       "    <el-col :span=\"1\" style=\"text-align:center\">\n",
       "      <b></b>\n",
       "    </el-col>\n",
       "    \n",
       "      \n",
       "        <el-col :span=\"11\" style=\"text-align:center\">\n",
       "          <b>用户持有BananaCoin代表数量分布</b>\n",
       "          <div id=\"chart-321\" style=\"height: 300px; width: 100%; text-align: center; color: #999; line-height: 300px; font-size: 14px; font-family: 'Lucida Grande', 'Lucida Sans Unicode', Verdana, Arial, Helvetica, sans-serif;\">Loading...</div>\n",
       "\n",
       "\n",
       "        </el-col>\n",
       "      \n",
       "        <el-col :span=\"11\" style=\"text-align:center\">\n",
       "          <b>N/A</b>\n",
       "          \n",
       "        </el-col>\n",
       "      \n",
       "        <el-col :span=\"11\" style=\"text-align:center\">\n",
       "          <b>N/A</b>\n",
       "          \n",
       "        </el-col>\n",
       "      \n",
       "    </el-row>\n",
       "   \n",
       "  </el-main>\n",
       "</el-container>\n",
       "</div>\n",
       "\n",
       "\n",
       "<script>\n",
       "  Vue.use(VueChartkick.use(Chart))\n",
       "\n",
       "  app = new Vue({\n",
       "    el: '#app_G6ZO7MhUIS',\n",
       "  })\n",
       "</script><script>\n",
       "  (function() {\n",
       "    if (document.documentElement.hasAttribute(\"data-turbolinks-preview\")) return;\n",
       "    if (document.documentElement.hasAttribute(\"data-turbo-preview\")) return;\n",
       "\n",
       "    var createChart = function() { new Chartkick[\"ColumnChart\"](\"chart-321\", [[0,2000],[9.825025868679049,2897],[10.561902808829979,1860],[12.772533629282764,783],[13.730473651478972,1330],[16.60429371806759,93],[17.849615746922662,637],[21.51680665240712,4],[23.13056715133765,266],[29.99580397707714,91],[38.97342136458262,26],[50.5915144542956,8],[65.69503547092246,5]], {}); };\n",
       "    if (\"Chartkick\" in window) {\n",
       "      createChart();\n",
       "    } else {\n",
       "      window.addEventListener(\"chartkick:load\", createChart, true);\n",
       "    }\n",
       "  })();\n",
       "</script>"
      ],
      "text/plain": [
       "\"\\n\\n<div id=\\\"app_G6ZO7MhUIS\\\">\\n\\n<el-container>\\n  <el-main>\\n   \\n    <el-row :gutter=\\\"24\\\" type=\\\"flex\\\" align=\\\"middle\\\" justify=\\\"center\\\">\\n    <el-col :span=\\\"1\\\" style=\\\"text-align:center\\\">\\n      <b></b>\\n    </el-col>\\n    \\n      \\n        <el-col :span=\\\"11\\\" style=\\\"text-align:center\\\">\\n          <b>用户持有BananaCoin代表数量分布</b>\\n          <div id=\\\"chart-321\\\" style=\\\"height: 300px; width: 100%; text-align: center; color: #999; line-height: 300px; font-size: 14px; font-family: 'Lucida Grande', 'Lucida Sans Unicode', Verdana, Arial, Helvetica, sans-serif;\\\">Loading...</div>\\n\\n\\n        </el-col>\\n      \\n        <el-col :span=\\\"11\\\" style=\\\"text-align:center\\\">\\n          <b>N/A</b>\\n          \\n        </el-col>\\n      \\n        <el-col :span=\\\"11\\\" style=\\\"text-align:center\\\">\\n          <b>N/A</b>\\n          \\n        </el-col>\\n      \\n    </el-row>\\n   \\n  </el-main>\\n</el-container>\\n</div>\\n\\n\\n<script>\\n  Vue.use(VueChartkick.use(Chart))\\n\\n  app = new Vue({\\n    el: '#app_G6ZO7MhUIS',\\n  })\\n</script><script>\\n  (function() {\\n    if (document.documentElement.hasAttribute(\\\"data-turbolinks-preview\\\")) return;\\n    if (document.documentElement.hasAttribute(\\\"data-turbo-preview\\\")) return;\\n\\n    var createChart = function() { new Chartkick[\\\"ColumnChart\\\"](\\\"chart-321\\\", [[0,2000],[9.825025868679049,2897],[10.561902808829979,1860],[12.772533629282764,783],[13.730473651478972,1330],[16.60429371806759,93],[17.849615746922662,637],[21.51680665240712,4],[23.13056715133765,266],[29.99580397707714,91],[38.97342136458262,26],[50.5915144542956,8],[65.69503547092246,5]], {}); };\\n    if (\\\"Chartkick\\\" in window) {\\n      createChart();\\n    } else {\\n      window.addEventListener(\\\"chartkick:load\\\", createChart, true);\\n    }\\n  })();\\n</script>\""
      ]
     },
     "metadata": {},
     "output_type": "display_data"
    }
   ],
   "source": [
    "load './helper.rb'\n",
    "\n",
    "# Day 1\n",
    "world = world_prepare_game(world)\n",
    "world = world_end_month(world)\n",
    "world_stats(world)\n",
    "world = world_next_month(world)\n",
    "\n",
    "# Day 2\n",
    "world = world_prepare_game(world)\n",
    "world = world_end_month(world)\n",
    "world_stats(world)\n",
    "world = world_next_month(world)\n",
    "\n",
    "nil\n"
   ]
  },
  {
   "cell_type": "markdown",
   "id": "d1826d68-663d-466a-8666-cfd5b69e62b8",
   "metadata": {},
   "source": [
    "### 致幻剂加速挖矿\n",
    "加速挖矿，可以投喂鱼致幻剂，这样来激活鱼大脑前庭松果体，松果体短暂预测未来，看到矿在什么地方，然后可以直接撞击掉下矿。这种激活非常短暂，所以需要持续不断喂致幻剂，鱼就会持续在矿场里面直接产出Game Token\n",
    "\n",
    "Mona就是海中稀有的海地热泉喷出来的热液，每个容器的热液就是1Mona，所以Mona是可以无限细分的。所以Mona是有新增(去海地热泉采集，极端危险)，Mona有存储，Mona有销毁（倒掉在海里了）\n",
    "\n",
    "鱼直接喝掉一份Mona，就马上可以获得预知未来的能力一个时间tick\n",
    "\n",
    "项目方定义一个系数，矿石分离度。这一个时间tick的短暂里面，能够产出多少的Game Token。\n",
    "- 有些矿石紧密，鱼喝掉一份Mona，一个tick产出100个token。 Aka: 1Mona->100Token\n",
    "- 有些矿石稀释，鱼喝掉一份Mona，一个tick产出1个 token。Aka: 1Mona->1Token\n",
    "\n",
    "【IDO】项目方允许用户花钱(Mona)来换成Game token。IDO和鱼的能力值没有关系，无论什么鱼，都是一个固定的兑换比例来产出。\n",
    "\n",
    "需要对单鱼/单用户 设置吃致幻剂加速的上限（IDO的单用户份额限制）。"
   ]
  },
  {
   "cell_type": "code",
   "execution_count": null,
   "id": "1b1fb18f-a5b0-4dbe-b7e7-a8fdc056007d",
   "metadata": {},
   "outputs": [],
   "source": [
    "# 用户活跃度加成 和 假设"
   ]
  }
 ],
 "metadata": {
  "kernelspec": {
   "display_name": "Ruby 3.0.0",
   "language": "ruby",
   "name": "ruby"
  },
  "language_info": {
   "file_extension": ".rb",
   "mimetype": "application/x-ruby",
   "name": "ruby",
   "version": "3.0.0"
  }
 },
 "nbformat": 4,
 "nbformat_minor": 5
}
