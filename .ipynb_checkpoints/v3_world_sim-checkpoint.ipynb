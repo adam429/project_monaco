{
 "cells": [
  {
   "cell_type": "code",
   "execution_count": 8,
   "id": "d8e19da3-d878-44e6-80bd-846aadd961bc",
   "metadata": {
    "tags": []
   },
   "outputs": [
    {
     "data": {
      "text/html": [
       "<script src='http://unpkg.com/vue/dist/vue.js'></script><script src='http://unpkg.com/jquery@3.6.0/dist/jquery.js'></script><script src='http://www.gstatic.com/charts/loader.js'></script><script src='http://unpkg.com/chart.js@2.9.3/dist/Chart.bundle.js'></script><script src='http://unpkg.com/chartkick@2.3.0/chartkick.js'></script><script src='http://unpkg.com/vue-chartkick@0.5.1/dist/vue-chartkick.js'></script><script src='http://unpkg.com/element-ui/lib/index.js'></script>"
      ],
      "text/plain": [
       "\"<script src='http://unpkg.com/vue/dist/vue.js'></script><script src='http://unpkg.com/jquery@3.6.0/dist/jquery.js'></script><script src='http://www.gstatic.com/charts/loader.js'></script><script src='http://unpkg.com/chart.js@2.9.3/dist/Chart.bundle.js'></script><script src='http://unpkg.com/chartkick@2.3.0/chartkick.js'></script><script src='http://unpkg.com/vue-chartkick@0.5.1/dist/vue-chartkick.js'></script><script src='http://unpkg.com/element-ui/lib/index.js'></script>\""
      ]
     },
     "metadata": {},
     "output_type": "display_data"
    },
    {
     "data": {
      "text/html": [
       "<link rel='stylesheet' href='https://unpkg.com/element-ui/lib/theme-chalk/index.css'>"
      ],
      "text/plain": [
       "\"<link rel='stylesheet' href='https://unpkg.com/element-ui/lib/theme-chalk/index.css'>\""
      ]
     },
     "metadata": {},
     "output_type": "display_data"
    }
   ],
   "source": [
    "## 基础库加载\n",
    "\n",
    "load './wtcube/wtcube.rb'\n",
    "\n",
    "# Load JS & CSS\n",
    "\n",
    "puts (include_js)\n",
    "puts (include_css)\n",
    "\n",
    "nil"
   ]
  },
  {
   "cell_type": "code",
   "execution_count": 9,
   "id": "ee8d4522-8d34-46fa-80a5-782447402328",
   "metadata": {},
   "outputs": [],
   "source": [
    "# 模拟相关的参数设置\n",
    "\n",
    "load './helper.rb'\n",
    "\n",
    "#世界模拟器\n",
    "world = {\n",
    "    #配置项目\n",
    "    :config => {\n",
    "        # 模拟时长 1800天 = 60个月 = 5年\n",
    "        :sim_time => 60 * 30\n",
    "    },\n",
    "\n",
    "    #参数表\n",
    "    :table => {},\n",
    "\n",
    "    #实体\n",
    "    :entity => {},\n",
    "\n",
    "    #状态表\n",
    "    :states => {},\n",
    "}\n",
    "\n",
    "\n",
    "nil"
   ]
  },
  {
   "cell_type": "markdown",
   "id": "5cb4e663-df63-4258-8b6b-2d4619eef5b8",
   "metadata": {
    "tags": []
   },
   "source": [
    "# Project Monaco\n",
    "\n",
    "说明：这里定义参数表，并完成参数表的模拟 和 调整"
   ]
  },
  {
   "cell_type": "markdown",
   "id": "88bcf435-2fcf-406e-9b4f-dff29d789e2b",
   "metadata": {},
   "source": [
    "## 鱼的状态"
   ]
  },
  {
   "cell_type": "markdown",
   "id": "d9278d60-9175-4b1f-afa6-c9ce6250b95e",
   "metadata": {},
   "source": [
    "### A 鱼的年龄\n",
    "\n",
    "年龄：作为生物，鱼在最巅峰状态被捞起来，但是随着年龄，鱼会逐渐变老（但是在Monaco这个长生不老的星球，永远不会死去）。深海科学考察渔船 收环境可持续公约限制，不会捞小鱼苗，只会捞最巅峰状态的青年鱼。因为每次下沉需要消耗Mona燃料，成本极其高，所以从深海科学考察渔船最大化收益的角度，也不会捞年老的鱼（占同样的船舱位置但是工作能力下降），所以捞起来的鱼在开盲盒的时候，年龄都是统一的。\n",
    "\n",
    "鱼的年龄对应的年龄buff是一个衰减的变量，3年从100%到50%，然后长期维持在50%"
   ]
  },
  {
   "cell_type": "code",
   "execution_count": 10,
   "id": "d96ec821-41db-4a46-8d8e-a80893bb67fe",
   "metadata": {},
   "outputs": [],
   "source": [
    "#参数表\n",
    "fish_age_buff = []\n",
    "\n",
    "#衰减率 2% 每个月\n",
    "reduction_rate = 0.02/30\n",
    "\n",
    "#长期维持\n",
    "long_term = 0.5\n",
    "\n",
    "#初始值 100%\n",
    "cur_value = 1\n",
    "\n",
    "world[:config][:sim_time].times do |month|\n",
    "  fish_age_buff.push ([month,cur_value])\n",
    "  next_value = cur_value * (1-reduction_rate)\n",
    "  if next_value > long_term then\n",
    "    cur_value= next_value\n",
    "  else\n",
    "    cur_value = long_term\n",
    "  end\n",
    "end\n",
    "\n",
    "world[:table][:fish_age_buff]=fish_age_buff\n",
    "\n",
    "nil"
   ]
  },
  {
   "cell_type": "code",
   "execution_count": 11,
   "id": "ae864c43-9fa7-4135-92ff-f458422eaeab",
   "metadata": {},
   "outputs": [
    {
     "data": {
      "text/html": [
       "<h4>鱼工作效率随年龄衰减</h4>"
      ],
      "text/plain": [
       "\"<h4>鱼工作效率随年龄衰减</h4>\""
      ]
     },
     "metadata": {},
     "output_type": "display_data"
    },
    {
     "data": {
      "text/html": [
       "\n",
       "\n",
       "<div id=\"app_qTIbA0ZxfD\">\n",
       "\n",
       "<el-container>\n",
       "  <el-main>\n",
       "   \n",
       "    <el-row :gutter=\"24\" type=\"flex\" align=\"middle\" justify=\"center\">\n",
       "    <el-col :span=\"1\" style=\"text-align:center\">\n",
       "      <b></b>\n",
       "    </el-col>\n",
       "    \n",
       "      \n",
       "        <el-col :span=\"11\" style=\"text-align:center\">\n",
       "          <b>值</b>\n",
       "          <div id=\"chart-5\" style=\"height: 300px; width: 100%; text-align: center; color: #999; line-height: 300px; font-size: 14px; font-family: 'Lucida Grande', 'Lucida Sans Unicode', Verdana, Arial, Helvetica, sans-serif;\">Loading...</div>\n",
       "\n",
       "\n",
       "        </el-col>\n",
       "      \n",
       "        <el-col :span=\"11\" style=\"text-align:center\">\n",
       "          <b>一阶变化值</b>\n",
       "          <div id=\"chart-6\" style=\"height: 300px; width: 100%; text-align: center; color: #999; line-height: 300px; font-size: 14px; font-family: 'Lucida Grande', 'Lucida Sans Unicode', Verdana, Arial, Helvetica, sans-serif;\">Loading...</div>\n",
       "\n",
       "\n",
       "        </el-col>\n",
       "      \n",
       "    </el-row>\n",
       "   \n",
       "  </el-main>\n",
       "</el-container>\n",
       "</div>\n",
       "\n",
       "\n",
       "<script>\n",
       "  Vue.use(VueChartkick.use(Chart))\n",
       "\n",
       "  app = new Vue({\n",
       "    el: '#app_qTIbA0ZxfD',\n",
       "  })\n",
       "</script><script>\n",
       "  (function() {\n",
       "    if (document.documentElement.hasAttribute(\"data-turbolinks-preview\")) return;\n",
       "    if (document.documentElement.hasAttribute(\"data-turbo-preview\")) return;\n",
       "\n",
       "    var createChart = function() { new Chartkick[\"LineChart\"](\"chart-6\", [[0,-0.019807864235011574],[1,-0.019807864235011727],[2,-0.01980786423501167],[3,-0.01980786423501162],[4,-0.01980786423501144],[5,-0.019807864235011952],[6,-0.01980786423501157],[7,-0.019807864235011446],[8,-0.019807864235011168],[9,-0.01980786423501168],[10,-0.01980786423501125],[11,-0.019807864235011387],[12,-0.019807864235011585],[13,-0.01980786423501217],[14,-0.019807864235011508],[15,-0.019807864235011588],[16,-0.019807864235011942],[17,-0.01980786423501146],[18,-0.01980786423501182],[19,-0.019807864235011633],[20,-0.01980786423501175],[21,-0.019807864235011855],[22,-0.019807864235012063],[23,-0.019807864235011217],[24,-0.019807864235012095],[25,-0.01980786423501154],[26,-0.01980786423501136],[27,-0.01980786423501189],[28,-0.019807864235011373],[29,-0.01980786423501153],[30,-0.019807864235011803],[31,-0.019807864235011855],[32,-0.019807864235011036],[33,-0.019807864235011272],[34,-0.012837302889227116],[35,0.0],[36,0.0],[37,0.0],[38,0.0],[39,0.0],[40,0.0],[41,0.0],[42,0.0],[43,0.0],[44,0.0],[45,0.0],[46,0.0],[47,0.0],[48,0.0],[49,0.0],[50,0.0],[51,0.0],[52,0.0],[53,0.0],[54,0.0],[55,0.0],[56,0.0],[57,0.0],[58,0.0]], {\"points\":false}); };\n",
       "    if (\"Chartkick\" in window) {\n",
       "      createChart();\n",
       "    } else {\n",
       "      window.addEventListener(\"chartkick:load\", createChart, true);\n",
       "    }\n",
       "  })();\n",
       "</script><script>\n",
       "  (function() {\n",
       "    if (document.documentElement.hasAttribute(\"data-turbolinks-preview\")) return;\n",
       "    if (document.documentElement.hasAttribute(\"data-turbo-preview\")) return;\n",
       "\n",
       "    var createChart = function() { new Chartkick[\"LineChart\"](\"chart-5\", [[0,1],[1,0.9801921357649884],[2,0.9607766230155294],[3,0.9417456901066648],[4,0.9230917193331246],[5,0.9048072438801108],[6,0.8868849448344782],[7,0.8693176482551211],[8,0.8520983223013843],[9,0.8352200744183577],[10,0.8186761485779225],[11,0.8024599225744491],[12,0.7865649053740567],[13,0.7709847345163826],[14,0.7557131735678152],[15,0.7407441096251742],[16,0.7260715508688342],[17,0.7116896241643198],[18,0.6975925727114066],[19,0.6837747537397865],[20,0.6702306362503803],[21,0.6569547988013872],[22,0.6439419273381898],[23,0.6311868130662429],[24,0.6186843503660974],[25,0.6064295347497191],[26,0.5944174608572954],[27,0.5826433204937139],[28,0.5711024007039379],[29,0.5597900818865053],[30,0.5487018359443914],[31,0.5378332244725031],[32,0.5271798969810731],[33,0.516737589154245],[34,0.5065021211431506],[35,0.5],[36,0.5],[37,0.5],[38,0.5],[39,0.5],[40,0.5],[41,0.5],[42,0.5],[43,0.5],[44,0.5],[45,0.5],[46,0.5],[47,0.5],[48,0.5],[49,0.5],[50,0.5],[51,0.5],[52,0.5],[53,0.5],[54,0.5],[55,0.5],[56,0.5],[57,0.5],[58,0.5],[59,0.5]], {\"points\":false}); };\n",
       "    if (\"Chartkick\" in window) {\n",
       "      createChart();\n",
       "    } else {\n",
       "      window.addEventListener(\"chartkick:load\", createChart, true);\n",
       "    }\n",
       "  })();\n",
       "</script>"
      ],
      "text/plain": [
       "\"\\n\\n<div id=\\\"app_qTIbA0ZxfD\\\">\\n\\n<el-container>\\n  <el-main>\\n   \\n    <el-row :gutter=\\\"24\\\" type=\\\"flex\\\" align=\\\"middle\\\" justify=\\\"center\\\">\\n    <el-col :span=\\\"1\\\" style=\\\"text-align:center\\\">\\n      <b></b>\\n    </el-col>\\n    \\n      \\n        <el-col :span=\\\"11\\\" style=\\\"text-align:center\\\">\\n          <b>值</b>\\n          <div id=\\\"chart-5\\\" style=\\\"height: 300px; width: 100%; text-align: center; color: #999; line-height: 300px; font-size: 14px; font-family: 'Lucida Grande', 'Lucida Sans Unicode', Verdana, Arial, Helvetica, sans-serif;\\\">Loading...</div>\\n\\n\\n        </el-col>\\n      \\n        <el-col :span=\\\"11\\\" style=\\\"text-align:center\\\">\\n          <b>一阶变化值</b>\\n          <div id=\\\"chart-6\\\" style=\\\"height: 300px; width: 100%; text-align: center; color: #999; line-height: 300px; font-size: 14px; font-family: 'Lucida Grande', 'Lucida Sans Unicode', Verdana, Arial, Helvetica, sans-serif;\\\">Loading...</div>\\n\\n\\n        </el-col>\\n      \\n    </el-row>\\n   \\n  </el-main>\\n</el-container>\\n</div>\\n\\n\\n<script>\\n  Vue.use(VueChartkick.use(Chart))\\n\\n  app = new Vue({\\n    el: '#app_qTIbA0ZxfD',\\n  })\\n</script><script>\\n  (function() {\\n    if (document.documentElement.hasAttribute(\\\"data-turbolinks-preview\\\")) return;\\n    if (document.documentElement.hasAttribute(\\\"data-turbo-preview\\\")) return;\\n\\n    var createChart = function() { new Chartkick[\\\"LineChart\\\"](\\\"chart-6\\\", [[0,-0.019807864235011574],[1,-0.019807864235011727],[2,-0.01980786423501167],[3,-0.01980786423501162],[4,-0.01980786423501144],[5,-0.019807864235011952],[6,-0.01980786423501157],[7,-0.019807864235011446],[8,-0.019807864235011168],[9,-0.01980786423501168],[10,-0.01980786423501125],[11,-0.019807864235011387],[12,-0.019807864235011585],[13,-0.01980786423501217],[14,-0.019807864235011508],[15,-0.019807864235011588],[16,-0.019807864235011942],[17,-0.01980786423501146],[18,-0.01980786423501182],[19,-0.019807864235011633],[20,-0.01980786423501175],[21,-0.019807864235011855],[22,-0.019807864235012063],[23,-0.019807864235011217],[24,-0.019807864235012095],[25,-0.01980786423501154],[26,-0.01980786423501136],[27,-0.01980786423501189],[28,-0.019807864235011373],[29,-0.01980786423501153],[30,-0.019807864235011803],[31,-0.019807864235011855],[32,-0.019807864235011036],[33,-0.019807864235011272],[34,-0.012837302889227116],[35,0.0],[36,0.0],[37,0.0],[38,0.0],[39,0.0],[40,0.0],[41,0.0],[42,0.0],[43,0.0],[44,0.0],[45,0.0],[46,0.0],[47,0.0],[48,0.0],[49,0.0],[50,0.0],[51,0.0],[52,0.0],[53,0.0],[54,0.0],[55,0.0],[56,0.0],[57,0.0],[58,0.0]], {\\\"points\\\":false}); };\\n    if (\\\"Chartkick\\\" in window) {\\n      createChart();\\n    } else {\\n      window.addEventListener(\\\"chartkick:load\\\", createChart, true);\\n    }\\n  })();\\n</script><script>\\n  (function() {\\n    if (document.documentElement.hasAttribute(\\\"data-turbolinks-preview\\\")) return;\\n    if (document.documentElement.hasAttribute(\\\"data-turbo-preview\\\")) return;\\n\\n    var createChart = function() { new Chartkick[\\\"LineChart\\\"](\\\"chart-5\\\", [[0,1],[1,0.9801921357649884],[2,0.9607766230155294],[3,0.9417456901066648],[4,0.9230917193331246],[5,0.9048072438801108],[6,0.8868849448344782],[7,0.8693176482551211],[8,0.8520983223013843],[9,0.8352200744183577],[10,0.8186761485779225],[11,0.8024599225744491],[12,0.7865649053740567],[13,0.7709847345163826],[14,0.7557131735678152],[15,0.7407441096251742],[16,0.7260715508688342],[17,0.7116896241643198],[18,0.6975925727114066],[19,0.6837747537397865],[20,0.6702306362503803],[21,0.6569547988013872],[22,0.6439419273381898],[23,0.6311868130662429],[24,0.6186843503660974],[25,0.6064295347497191],[26,0.5944174608572954],[27,0.5826433204937139],[28,0.5711024007039379],[29,0.5597900818865053],[30,0.5487018359443914],[31,0.5378332244725031],[32,0.5271798969810731],[33,0.516737589154245],[34,0.5065021211431506],[35,0.5],[36,0.5],[37,0.5],[38,0.5],[39,0.5],[40,0.5],[41,0.5],[42,0.5],[43,0.5],[44,0.5],[45,0.5],[46,0.5],[47,0.5],[48,0.5],[49,0.5],[50,0.5],[51,0.5],[52,0.5],[53,0.5],[54,0.5],[55,0.5],[56,0.5],[57,0.5],[58,0.5],[59,0.5]], {\\\"points\\\":false}); };\\n    if (\\\"Chartkick\\\" in window) {\\n      createChart();\\n    } else {\\n      window.addEventListener(\\\"chartkick:load\\\", createChart, true);\\n    }\\n  })();\\n</script>\""
      ]
     },
     "metadata": {},
     "output_type": "display_data"
    }
   ],
   "source": [
    "puts_header \"鱼工作效率随年龄衰减\", :level=>4\n",
    "delta_chart(fish_age_buff.filter {|x| x[0]%30==0}.map {|x| x[0]=x[0]/30; x})"
   ]
  },
  {
   "cell_type": "markdown",
   "id": "eeb1739c-0a48-45fa-ac49-9a68dd0448c2",
   "metadata": {
    "tags": []
   },
   "source": [
    "### P 鱼的熟练度\n",
    "\n",
    "随着鱼工作越来越多，鱼的熟练度会增加。 挖矿1天(24小时)，然后提升熟练度\n",
    "\n",
    "首个挖矿30天产出增加10%，边际效用递减. 最高熟练度能提升到150%的效率"
   ]
  },
  {
   "cell_type": "code",
   "execution_count": 12,
   "id": "4b4c53fb-5d8e-4c31-b287-e42e20298f96",
   "metadata": {},
   "outputs": [],
   "source": [
    "#参数表\n",
    "fish_proficiency_buff = []\n",
    "\n",
    "#初始值 100%\n",
    "cur_value = 1\n",
    "\n",
    "#初始增加 10%\n",
    "add_value = 0.1/30\n",
    "\n",
    "#增加量的边际递减 30%\n",
    "diminishing = 0.25/30\n",
    "\n",
    "\n",
    "world[:config][:sim_time].times do |month|\n",
    "  fish_proficiency_buff.push ([month,cur_value])\n",
    "  next_value = cur_value * (1+add_value)\n",
    "  add_value = add_value * (1-diminishing)\n",
    "  cur_value= next_value\n",
    "end\n",
    "\n",
    "world[:table][:fish_proficiency_buff]=fish_proficiency_buff\n",
    "\n",
    "nil"
   ]
  },
  {
   "cell_type": "code",
   "execution_count": 13,
   "id": "13c1a098-7735-4359-a587-1edd242c8aca",
   "metadata": {},
   "outputs": [
    {
     "data": {
      "text/html": [
       "<h4>鱼工作效率随熟练度而增加</h4>"
      ],
      "text/plain": [
       "\"<h4>鱼工作效率随熟练度而增加</h4>\""
      ]
     },
     "metadata": {},
     "output_type": "display_data"
    },
    {
     "data": {
      "text/html": [
       "\n",
       "\n",
       "<div id=\"app_6kbnIMTwGq\">\n",
       "\n",
       "<el-container>\n",
       "  <el-main>\n",
       "   \n",
       "    <el-row :gutter=\"24\" type=\"flex\" align=\"middle\" justify=\"center\">\n",
       "    <el-col :span=\"1\" style=\"text-align:center\">\n",
       "      <b></b>\n",
       "    </el-col>\n",
       "    \n",
       "      \n",
       "        <el-col :span=\"11\" style=\"text-align:center\">\n",
       "          <b>值</b>\n",
       "          <div id=\"chart-7\" style=\"height: 300px; width: 100%; text-align: center; color: #999; line-height: 300px; font-size: 14px; font-family: 'Lucida Grande', 'Lucida Sans Unicode', Verdana, Arial, Helvetica, sans-serif;\">Loading...</div>\n",
       "\n",
       "\n",
       "        </el-col>\n",
       "      \n",
       "        <el-col :span=\"11\" style=\"text-align:center\">\n",
       "          <b>一阶变化值</b>\n",
       "          <div id=\"chart-8\" style=\"height: 300px; width: 100%; text-align: center; color: #999; line-height: 300px; font-size: 14px; font-family: 'Lucida Grande', 'Lucida Sans Unicode', Verdana, Arial, Helvetica, sans-serif;\">Loading...</div>\n",
       "\n",
       "\n",
       "        </el-col>\n",
       "      \n",
       "    </el-row>\n",
       "   \n",
       "  </el-main>\n",
       "</el-container>\n",
       "</div>\n",
       "\n",
       "\n",
       "<script>\n",
       "  Vue.use(VueChartkick.use(Chart))\n",
       "\n",
       "  app = new Vue({\n",
       "    el: '#app_6kbnIMTwGq',\n",
       "  })\n",
       "</script><script>\n",
       "  (function() {\n",
       "    if (document.documentElement.hasAttribute(\"data-turbolinks-preview\")) return;\n",
       "    if (document.documentElement.hasAttribute(\"data-turbo-preview\")) return;\n",
       "\n",
       "    var createChart = function() { new Chartkick[\"LineChart\"](\"chart-8\", [[0,0.09272432985513279],[1,0.07144670093359487],[2,0.05517052375209155],[3,0.04267342697118322],[4,0.03304992656311045],[5,0.02562241244676169],[6,0.019879638267364854],[7,0.015433350359015717],[8,0.011987166267346637],[9,0.009313905960127756],[10,0.007238870049801633],[11,0.005627374587140326],[12,0.0043753783191211384],[13,0.0034023855308054378],[14,0.0026460414597501676],[15,0.00205799791991904],[16,0.0016007391673475613],[17,0.001245138005232265],[18,0.0009685698790770288],[19,0.0007534549756053951],[20,0.0005861296190204975],[21,0.00045597163182092425],[22,0.00035472193272443676],[23,0.0002759579921841189],[24,0.00021468493995753526],[25,0.00016701790737584166],[26,0.00012993516931262064],[27,0.00010108625866751688],[28,7.864278293698807e-05],[29,6.11824226251733e-05],[30,4.759872057383313e-05],[31,3.703092170513469e-05],[32,2.8809402868520734e-05],[33,2.2413226232282647e-05],[34,1.7437121384480178e-05],[35,1.3565800895494396e-05],[36,1.055398000262232e-05],[37,8.210833310358359e-06],[38,6.387903007569501e-06],[39,4.9696920244817745e-06],[40,3.866345896153372e-06],[41,3.0079595024935416e-06],[42,2.340147895353329e-06],[43,1.820600494845847e-06],[44,1.4164003718363094e-06],[45,1.1019386764283233e-06],[46,8.57292127081105e-07],[47,6.669607170359344e-07],[48,5.188856803580052e-07],[49,4.036854734776533e-07],[50,3.1406140065749905e-07],[51,2.4433518446246207e-07],[52,1.900892056191836e-07],[53,1.4788662972340908e-07],[54,1.1505363980624936e-07],[55,8.951005386098643e-08],[56,6.963751602453874e-08],[57,5.417697260017321e-08],[58,4.214889413343489e-08]], {\"points\":false}); };\n",
       "    if (\"Chartkick\" in window) {\n",
       "      createChart();\n",
       "    } else {\n",
       "      window.addEventListener(\"chartkick:load\", createChart, true);\n",
       "    }\n",
       "  })();\n",
       "</script><script>\n",
       "  (function() {\n",
       "    if (document.documentElement.hasAttribute(\"data-turbolinks-preview\")) return;\n",
       "    if (document.documentElement.hasAttribute(\"data-turbo-preview\")) return;\n",
       "\n",
       "    var createChart = function() { new Chartkick[\"LineChart\"](\"chart-7\", [[0,1],[1,1.0927243298551328],[2,1.1707958782531553],[3,1.235389300063172],[4,1.2881075951403989],[5,1.3306794565651738],[6,1.3647746744357194],[7,1.3919059012799622],[8,1.4133876727211974],[9,1.4303301857543245],[10,1.4436521465963723],[11,1.4541025568827006],[12,1.462285336658398],[13,1.468683388216782],[14,1.473680415326185],[15,1.47757983480356],[16,1.4806206910301],[17,1.4829907785622172],[18,1.484837306742014],[19,1.4862754754326541],[20,1.4873953170847392],[21,1.488267123535275],[22,1.4889457311241787],[23,1.4894738928316449],[24,1.4898849250565214],[25,1.4902047809122008],[26,1.4904536717962702],[27,1.4906473341464677],[28,1.4907980181084692],[29,1.4909152586134102],[30,1.491006476420861],[31,1.491077446421506],[32,1.4911326623936807],[33,1.491175621035282],[34,1.4912090430918283],[35,1.4912350454849224],[36,1.4912552752826378],[37,1.491271013960992],[38,1.4912832585387081],[39,1.4912927847115205],[40,1.4913001959773788],[41,1.4913059618597715],[42,1.4913104476477106],[43,1.491313937534716],[44,1.4913166526216086],[45,1.49131876492307],[46,1.4913204082648959],[47,1.4913216867621408],[48,1.4913226814151224],[49,1.4913234552411065],[50,1.4913240572667217],[51,1.491324525634044],[52,1.491324890017097],[53,1.4913251735018607],[54,1.4913253940489144],[55,1.4913255656313291],[56,1.4913256991199608],[57,1.491325802972178],[58,1.4913258837676953],[59,1.491325946625432]], {\"points\":false}); };\n",
       "    if (\"Chartkick\" in window) {\n",
       "      createChart();\n",
       "    } else {\n",
       "      window.addEventListener(\"chartkick:load\", createChart, true);\n",
       "    }\n",
       "  })();\n",
       "</script>"
      ],
      "text/plain": [
       "\"\\n\\n<div id=\\\"app_6kbnIMTwGq\\\">\\n\\n<el-container>\\n  <el-main>\\n   \\n    <el-row :gutter=\\\"24\\\" type=\\\"flex\\\" align=\\\"middle\\\" justify=\\\"center\\\">\\n    <el-col :span=\\\"1\\\" style=\\\"text-align:center\\\">\\n      <b></b>\\n    </el-col>\\n    \\n      \\n        <el-col :span=\\\"11\\\" style=\\\"text-align:center\\\">\\n          <b>值</b>\\n          <div id=\\\"chart-7\\\" style=\\\"height: 300px; width: 100%; text-align: center; color: #999; line-height: 300px; font-size: 14px; font-family: 'Lucida Grande', 'Lucida Sans Unicode', Verdana, Arial, Helvetica, sans-serif;\\\">Loading...</div>\\n\\n\\n        </el-col>\\n      \\n        <el-col :span=\\\"11\\\" style=\\\"text-align:center\\\">\\n          <b>一阶变化值</b>\\n          <div id=\\\"chart-8\\\" style=\\\"height: 300px; width: 100%; text-align: center; color: #999; line-height: 300px; font-size: 14px; font-family: 'Lucida Grande', 'Lucida Sans Unicode', Verdana, Arial, Helvetica, sans-serif;\\\">Loading...</div>\\n\\n\\n        </el-col>\\n      \\n    </el-row>\\n   \\n  </el-main>\\n</el-container>\\n</div>\\n\\n\\n<script>\\n  Vue.use(VueChartkick.use(Chart))\\n\\n  app = new Vue({\\n    el: '#app_6kbnIMTwGq',\\n  })\\n</script><script>\\n  (function() {\\n    if (document.documentElement.hasAttribute(\\\"data-turbolinks-preview\\\")) return;\\n    if (document.documentElement.hasAttribute(\\\"data-turbo-preview\\\")) return;\\n\\n    var createChart = function() { new Chartkick[\\\"LineChart\\\"](\\\"chart-8\\\", [[0,0.09272432985513279],[1,0.07144670093359487],[2,0.05517052375209155],[3,0.04267342697118322],[4,0.03304992656311045],[5,0.02562241244676169],[6,0.019879638267364854],[7,0.015433350359015717],[8,0.011987166267346637],[9,0.009313905960127756],[10,0.007238870049801633],[11,0.005627374587140326],[12,0.0043753783191211384],[13,0.0034023855308054378],[14,0.0026460414597501676],[15,0.00205799791991904],[16,0.0016007391673475613],[17,0.001245138005232265],[18,0.0009685698790770288],[19,0.0007534549756053951],[20,0.0005861296190204975],[21,0.00045597163182092425],[22,0.00035472193272443676],[23,0.0002759579921841189],[24,0.00021468493995753526],[25,0.00016701790737584166],[26,0.00012993516931262064],[27,0.00010108625866751688],[28,7.864278293698807e-05],[29,6.11824226251733e-05],[30,4.759872057383313e-05],[31,3.703092170513469e-05],[32,2.8809402868520734e-05],[33,2.2413226232282647e-05],[34,1.7437121384480178e-05],[35,1.3565800895494396e-05],[36,1.055398000262232e-05],[37,8.210833310358359e-06],[38,6.387903007569501e-06],[39,4.9696920244817745e-06],[40,3.866345896153372e-06],[41,3.0079595024935416e-06],[42,2.340147895353329e-06],[43,1.820600494845847e-06],[44,1.4164003718363094e-06],[45,1.1019386764283233e-06],[46,8.57292127081105e-07],[47,6.669607170359344e-07],[48,5.188856803580052e-07],[49,4.036854734776533e-07],[50,3.1406140065749905e-07],[51,2.4433518446246207e-07],[52,1.900892056191836e-07],[53,1.4788662972340908e-07],[54,1.1505363980624936e-07],[55,8.951005386098643e-08],[56,6.963751602453874e-08],[57,5.417697260017321e-08],[58,4.214889413343489e-08]], {\\\"points\\\":false}); };\\n    if (\\\"Chartkick\\\" in window) {\\n      createChart();\\n    } else {\\n      window.addEventListener(\\\"chartkick:load\\\", createChart, true);\\n    }\\n  })();\\n</script><script>\\n  (function() {\\n    if (document.documentElement.hasAttribute(\\\"data-turbolinks-preview\\\")) return;\\n    if (document.documentElement.hasAttribute(\\\"data-turbo-preview\\\")) return;\\n\\n    var createChart = function() { new Chartkick[\\\"LineChart\\\"](\\\"chart-7\\\", [[0,1],[1,1.0927243298551328],[2,1.1707958782531553],[3,1.235389300063172],[4,1.2881075951403989],[5,1.3306794565651738],[6,1.3647746744357194],[7,1.3919059012799622],[8,1.4133876727211974],[9,1.4303301857543245],[10,1.4436521465963723],[11,1.4541025568827006],[12,1.462285336658398],[13,1.468683388216782],[14,1.473680415326185],[15,1.47757983480356],[16,1.4806206910301],[17,1.4829907785622172],[18,1.484837306742014],[19,1.4862754754326541],[20,1.4873953170847392],[21,1.488267123535275],[22,1.4889457311241787],[23,1.4894738928316449],[24,1.4898849250565214],[25,1.4902047809122008],[26,1.4904536717962702],[27,1.4906473341464677],[28,1.4907980181084692],[29,1.4909152586134102],[30,1.491006476420861],[31,1.491077446421506],[32,1.4911326623936807],[33,1.491175621035282],[34,1.4912090430918283],[35,1.4912350454849224],[36,1.4912552752826378],[37,1.491271013960992],[38,1.4912832585387081],[39,1.4912927847115205],[40,1.4913001959773788],[41,1.4913059618597715],[42,1.4913104476477106],[43,1.491313937534716],[44,1.4913166526216086],[45,1.49131876492307],[46,1.4913204082648959],[47,1.4913216867621408],[48,1.4913226814151224],[49,1.4913234552411065],[50,1.4913240572667217],[51,1.491324525634044],[52,1.491324890017097],[53,1.4913251735018607],[54,1.4913253940489144],[55,1.4913255656313291],[56,1.4913256991199608],[57,1.491325802972178],[58,1.4913258837676953],[59,1.491325946625432]], {\\\"points\\\":false}); };\\n    if (\\\"Chartkick\\\" in window) {\\n      createChart();\\n    } else {\\n      window.addEventListener(\\\"chartkick:load\\\", createChart, true);\\n    }\\n  })();\\n</script>\""
      ]
     },
     "metadata": {},
     "output_type": "display_data"
    }
   ],
   "source": [
    "puts_header \"鱼工作效率随熟练度而增加\", :level=>4\n",
    "delta_chart(fish_proficiency_buff.filter {|x| x[0]%30==0}.map {|x| x[0]=x[0]/30; x})"
   ]
  },
  {
   "cell_type": "markdown",
   "id": "ef213fd6-c058-424f-9bc1-68c4ebce048b",
   "metadata": {},
   "source": [
    "### W 鱼的工作产出曲线变化.  W = A + P\n",
    "\n",
    "假设每个月一个项目，勤奋的鱼每个月都参与完整的挖矿提升熟练度。那么这种情况下，鱼的产出变化值情况"
   ]
  },
  {
   "cell_type": "code",
   "execution_count": 14,
   "id": "d28946b1-bf2e-41b6-a598-662d5e79d12f",
   "metadata": {},
   "outputs": [],
   "source": [
    "## == 模拟 ==\n",
    "\n",
    "\n",
    "# 鱼的产出时间表\n",
    "product = []\n",
    "\n",
    "# 鱼的累积工作值\n",
    "acc_work = 0\n",
    "\n",
    "# 鱼的工作参与度占比 100%\n",
    "involve = 1\n",
    "\n",
    "world=world_init(world)\n",
    "world=world_add_user(world)\n",
    "user=world_get_rand_user(world)\n",
    "world=world_add_fish(world,user)\n",
    "fish=world_get_rand_fish(world)\n",
    "\n",
    "curr_product = []\n",
    "world[:config][:sim_time].times do |month|   \n",
    "    production = world_fish_get_production_lite(world,fish)\n",
    "    curr_product.push ([month,production])\n",
    "\n",
    "    # next month logic\n",
    "    fish[:age]=fish[:age] + 1        \n",
    "    fish[:proficiency]=fish[:proficiency]+  involve\n",
    "end\n",
    "product=curr_product\n",
    "\n",
    "\n",
    "nil"
   ]
  },
  {
   "cell_type": "code",
   "execution_count": 15,
   "id": "6c0c5813-4167-400d-a5d6-a737074f5c77",
   "metadata": {},
   "outputs": [
    {
     "data": {
      "text/html": [
       "<h4>鱼工作总产出系数（年龄+熟练）</h4>"
      ],
      "text/plain": [
       "\"<h4>鱼工作总产出系数（年龄+熟练）</h4>\""
      ]
     },
     "metadata": {},
     "output_type": "display_data"
    },
    {
     "data": {
      "text/html": [
       "\n",
       "\n",
       "<div id=\"app_JFEqQfBXlf\">\n",
       "\n",
       "<el-container>\n",
       "  <el-main>\n",
       "   \n",
       "    <el-row :gutter=\"24\" type=\"flex\" align=\"middle\" justify=\"center\">\n",
       "    <el-col :span=\"1\" style=\"text-align:center\">\n",
       "      <b>100%</b>\n",
       "    </el-col>\n",
       "    \n",
       "      \n",
       "        <el-col :span=\"11\" style=\"text-align:center\">\n",
       "          <b>值</b>\n",
       "          <div id=\"chart-9\" style=\"height: 300px; width: 100%; text-align: center; color: #999; line-height: 300px; font-size: 14px; font-family: 'Lucida Grande', 'Lucida Sans Unicode', Verdana, Arial, Helvetica, sans-serif;\">Loading...</div>\n",
       "\n",
       "\n",
       "        </el-col>\n",
       "      \n",
       "        <el-col :span=\"11\" style=\"text-align:center\">\n",
       "          <b>一阶变化值</b>\n",
       "          <div id=\"chart-10\" style=\"height: 300px; width: 100%; text-align: center; color: #999; line-height: 300px; font-size: 14px; font-family: 'Lucida Grande', 'Lucida Sans Unicode', Verdana, Arial, Helvetica, sans-serif;\">Loading...</div>\n",
       "\n",
       "\n",
       "        </el-col>\n",
       "      \n",
       "    </el-row>\n",
       "   \n",
       "  </el-main>\n",
       "</el-container>\n",
       "</div>\n",
       "\n",
       "\n",
       "<script>\n",
       "  Vue.use(VueChartkick.use(Chart))\n",
       "\n",
       "  app = new Vue({\n",
       "    el: '#app_JFEqQfBXlf',\n",
       "  })\n",
       "</script><script>\n",
       "  (function() {\n",
       "    if (document.documentElement.hasAttribute(\"data-turbolinks-preview\")) return;\n",
       "    if (document.documentElement.hasAttribute(\"data-turbo-preview\")) return;\n",
       "\n",
       "    var createChart = function() { new Chartkick[\"LineChart\"](\"chart-10\", [[0,0.07107979468306835],[1,0.05022363014645105],[2,0.03426984927282387],[3,0.022020293288283754],[4,0.012587413869759862],[5,0.005307022944630705],[6,-0.00032199914348784547],[7,-0.004680215584598496],[8,-0.008058138129650503],[9,-0.010678446859639923],[10,-0.012712380740370923],[11,-0.014291955919692756],[12,-0.015519152815612431],[13,-0.016472872694875917],[14,-0.017214235205256462],[15,-0.01779063085848624],[16,-0.01823883229176672],[17,-0.01858738975434077],[18,-0.01885847965660164],[19,-0.019069333593270236],[20,-0.01923334459190893],[21,-0.019360924427369086],[22,-0.019460168586172166],[23,-0.01953737238127083],[24,-0.019597431745198523],[25,-0.019644154595669913],[26,-0.019680502803891817],[27,-0.019708780279232056],[28,-0.019730779197641837],[29,-0.019747893705507273],[30,-0.01976120834343284],[31,-0.019771566816776474],[32,-0.01977962548488317],[33,-0.01978589496692122],[34,-0.012820089613451402],[35,1.3565800895494396e-05],[36,1.055398000262232e-05],[37,8.210833310358359e-06],[38,6.387903007569501e-06],[39,4.9696920244817745e-06],[40,3.866345896153372e-06],[41,3.0079595024935416e-06],[42,2.340147895353329e-06],[43,1.820600494845847e-06],[44,1.4164003718363094e-06],[45,1.1019386764283233e-06],[46,8.57292127081105e-07],[47,6.669607170359344e-07],[48,5.188856803580052e-07],[49,4.036854734776533e-07],[50,3.1406140065749905e-07],[51,2.4433518446246207e-07],[52,1.900892056191836e-07],[53,1.4788662972340908e-07],[54,1.1505363980624936e-07],[55,8.951005386098643e-08],[56,6.963751602453874e-08],[57,5.417697260017321e-08],[58,4.214889413343489e-08]], {\"points\":false}); };\n",
       "    if (\"Chartkick\" in window) {\n",
       "      createChart();\n",
       "    } else {\n",
       "      window.addEventListener(\"chartkick:load\", createChart, true);\n",
       "    }\n",
       "  })();\n",
       "</script><script>\n",
       "  (function() {\n",
       "    if (document.documentElement.hasAttribute(\"data-turbolinks-preview\")) return;\n",
       "    if (document.documentElement.hasAttribute(\"data-turbo-preview\")) return;\n",
       "\n",
       "    var createChart = function() { new Chartkick[\"LineChart\"](\"chart-9\", [[0,1],[1,1.0710797946830684],[2,1.1248733101485675],[3,1.1634225489383814],[4,1.1890414546842072],[5,1.2040084115826186],[6,1.210398111848416],[7,1.2100083646931215],[8,1.2043452646871902],[9,1.1946404841885503],[10,1.1818835792617683],[11,1.1668590252114004],[12,1.1501823274585834],[13,1.1323324721529369],[14,1.1136797034908874],[15,1.094508559131675],[16,1.0750365613847097],[17,1.0554291498340964],[18,1.0358114768680375],[19,1.0162776472034472],[20,0.9968979097255408],[21,0.9777242287048358],[22,0.9587945838020737],[23,0.9401362795617766],[24,0.9217684869788356],[25,0.903704191970393],[26,0.8859516871145716],[27,0.8685157124522006],[28,0.8513983271064195],[29,0.8345995747050411],[30,0.8181179910171044],[31,0.8019509909471046],[32,0.7860951633458139],[33,0.7705464954193556],[34,0.755300543393859],[35,0.7456175227424612],[36,0.7456276376413189],[37,0.745635506980496],[38,0.7456416292693541],[39,0.7456463923557602],[40,0.7456500979886894],[41,0.7456529809298857],[42,0.7456552238238553],[43,0.745656968767358],[44,0.7456583263108043],[45,0.745659382461535],[46,0.7456602041324479],[47,0.7456608433810704],[48,0.7456613407075612],[49,0.7456617276205533],[50,0.7456620286333608],[51,0.745662262817022],[52,0.7456624450085485],[53,0.7456625867509303],[54,0.7456626970244572],[55,0.7456627828156646],[56,0.7456628495599804],[57,0.745662901486089],[58,0.7456629418838476],[59,0.745662973312716]], {\"points\":false}); };\n",
       "    if (\"Chartkick\" in window) {\n",
       "      createChart();\n",
       "    } else {\n",
       "      window.addEventListener(\"chartkick:load\", createChart, true);\n",
       "    }\n",
       "  })();\n",
       "</script>"
      ],
      "text/plain": [
       "\"\\n\\n<div id=\\\"app_JFEqQfBXlf\\\">\\n\\n<el-container>\\n  <el-main>\\n   \\n    <el-row :gutter=\\\"24\\\" type=\\\"flex\\\" align=\\\"middle\\\" justify=\\\"center\\\">\\n    <el-col :span=\\\"1\\\" style=\\\"text-align:center\\\">\\n      <b>100%</b>\\n    </el-col>\\n    \\n      \\n        <el-col :span=\\\"11\\\" style=\\\"text-align:center\\\">\\n          <b>值</b>\\n          <div id=\\\"chart-9\\\" style=\\\"height: 300px; width: 100%; text-align: center; color: #999; line-height: 300px; font-size: 14px; font-family: 'Lucida Grande', 'Lucida Sans Unicode', Verdana, Arial, Helvetica, sans-serif;\\\">Loading...</div>\\n\\n\\n        </el-col>\\n      \\n        <el-col :span=\\\"11\\\" style=\\\"text-align:center\\\">\\n          <b>一阶变化值</b>\\n          <div id=\\\"chart-10\\\" style=\\\"height: 300px; width: 100%; text-align: center; color: #999; line-height: 300px; font-size: 14px; font-family: 'Lucida Grande', 'Lucida Sans Unicode', Verdana, Arial, Helvetica, sans-serif;\\\">Loading...</div>\\n\\n\\n        </el-col>\\n      \\n    </el-row>\\n   \\n  </el-main>\\n</el-container>\\n</div>\\n\\n\\n<script>\\n  Vue.use(VueChartkick.use(Chart))\\n\\n  app = new Vue({\\n    el: '#app_JFEqQfBXlf',\\n  })\\n</script><script>\\n  (function() {\\n    if (document.documentElement.hasAttribute(\\\"data-turbolinks-preview\\\")) return;\\n    if (document.documentElement.hasAttribute(\\\"data-turbo-preview\\\")) return;\\n\\n    var createChart = function() { new Chartkick[\\\"LineChart\\\"](\\\"chart-10\\\", [[0,0.07107979468306835],[1,0.05022363014645105],[2,0.03426984927282387],[3,0.022020293288283754],[4,0.012587413869759862],[5,0.005307022944630705],[6,-0.00032199914348784547],[7,-0.004680215584598496],[8,-0.008058138129650503],[9,-0.010678446859639923],[10,-0.012712380740370923],[11,-0.014291955919692756],[12,-0.015519152815612431],[13,-0.016472872694875917],[14,-0.017214235205256462],[15,-0.01779063085848624],[16,-0.01823883229176672],[17,-0.01858738975434077],[18,-0.01885847965660164],[19,-0.019069333593270236],[20,-0.01923334459190893],[21,-0.019360924427369086],[22,-0.019460168586172166],[23,-0.01953737238127083],[24,-0.019597431745198523],[25,-0.019644154595669913],[26,-0.019680502803891817],[27,-0.019708780279232056],[28,-0.019730779197641837],[29,-0.019747893705507273],[30,-0.01976120834343284],[31,-0.019771566816776474],[32,-0.01977962548488317],[33,-0.01978589496692122],[34,-0.012820089613451402],[35,1.3565800895494396e-05],[36,1.055398000262232e-05],[37,8.210833310358359e-06],[38,6.387903007569501e-06],[39,4.9696920244817745e-06],[40,3.866345896153372e-06],[41,3.0079595024935416e-06],[42,2.340147895353329e-06],[43,1.820600494845847e-06],[44,1.4164003718363094e-06],[45,1.1019386764283233e-06],[46,8.57292127081105e-07],[47,6.669607170359344e-07],[48,5.188856803580052e-07],[49,4.036854734776533e-07],[50,3.1406140065749905e-07],[51,2.4433518446246207e-07],[52,1.900892056191836e-07],[53,1.4788662972340908e-07],[54,1.1505363980624936e-07],[55,8.951005386098643e-08],[56,6.963751602453874e-08],[57,5.417697260017321e-08],[58,4.214889413343489e-08]], {\\\"points\\\":false}); };\\n    if (\\\"Chartkick\\\" in window) {\\n      createChart();\\n    } else {\\n      window.addEventListener(\\\"chartkick:load\\\", createChart, true);\\n    }\\n  })();\\n</script><script>\\n  (function() {\\n    if (document.documentElement.hasAttribute(\\\"data-turbolinks-preview\\\")) return;\\n    if (document.documentElement.hasAttribute(\\\"data-turbo-preview\\\")) return;\\n\\n    var createChart = function() { new Chartkick[\\\"LineChart\\\"](\\\"chart-9\\\", [[0,1],[1,1.0710797946830684],[2,1.1248733101485675],[3,1.1634225489383814],[4,1.1890414546842072],[5,1.2040084115826186],[6,1.210398111848416],[7,1.2100083646931215],[8,1.2043452646871902],[9,1.1946404841885503],[10,1.1818835792617683],[11,1.1668590252114004],[12,1.1501823274585834],[13,1.1323324721529369],[14,1.1136797034908874],[15,1.094508559131675],[16,1.0750365613847097],[17,1.0554291498340964],[18,1.0358114768680375],[19,1.0162776472034472],[20,0.9968979097255408],[21,0.9777242287048358],[22,0.9587945838020737],[23,0.9401362795617766],[24,0.9217684869788356],[25,0.903704191970393],[26,0.8859516871145716],[27,0.8685157124522006],[28,0.8513983271064195],[29,0.8345995747050411],[30,0.8181179910171044],[31,0.8019509909471046],[32,0.7860951633458139],[33,0.7705464954193556],[34,0.755300543393859],[35,0.7456175227424612],[36,0.7456276376413189],[37,0.745635506980496],[38,0.7456416292693541],[39,0.7456463923557602],[40,0.7456500979886894],[41,0.7456529809298857],[42,0.7456552238238553],[43,0.745656968767358],[44,0.7456583263108043],[45,0.745659382461535],[46,0.7456602041324479],[47,0.7456608433810704],[48,0.7456613407075612],[49,0.7456617276205533],[50,0.7456620286333608],[51,0.745662262817022],[52,0.7456624450085485],[53,0.7456625867509303],[54,0.7456626970244572],[55,0.7456627828156646],[56,0.7456628495599804],[57,0.745662901486089],[58,0.7456629418838476],[59,0.745662973312716]], {\\\"points\\\":false}); };\\n    if (\\\"Chartkick\\\" in window) {\\n      createChart();\\n    } else {\\n      window.addEventListener(\\\"chartkick:load\\\", createChart, true);\\n    }\\n  })();\\n</script>\""
      ]
     },
     "metadata": {},
     "output_type": "display_data"
    }
   ],
   "source": [
    "puts_header \"鱼工作总产出系数（年龄+熟练）\", :level=>4\n",
    "\n",
    "product=product.filter {|x| x[0]%30==0}.map {|x| x[0]=x[0]/30; x}\n",
    "\n",
    "delta_chart(product,{:name=>\"100%\"})"
   ]
  },
  {
   "cell_type": "markdown",
   "id": "a95b5651-56eb-4bf2-b605-47f9ecc90371",
   "metadata": {},
   "source": [
    "## 鱼的创造 (构成鱼的属性)"
   ]
  },
  {
   "cell_type": "markdown",
   "id": "9281bdb7-8f55-4d66-ba74-baa945063d08",
   "metadata": {},
   "source": [
    "### 鱼的星级\n",
    "\n",
    "不同星级的鱼，有不同的稀缺性。越高级的鱼捕捞出越困难，所以高等级的鱼会非常值钱。高级的鱼会更有力量，在矿场工作的时候，更加有优势\n",
    "\n",
    "### 鱼的掉落概率\n",
    "\n",
    "越高等级的鱼，掉落概率越低，越稀缺, scale 从1-2000x\n",
    "\n",
    "### 鱼的敏捷度\n",
    "\n",
    "鱼的敏捷值度和鱼的稀有程度相关，scale从1-100x，敏捷度决定有多大概率能进矿场挖矿，这个受年龄和熟练度的buff\n",
    "\n",
    "### 鱼的力量值\n",
    "\n",
    "鱼的力量值和鱼的稀有程度相关，scale从1-6x，力量值决定单位时间挖矿数量的基数，这个受年龄和熟练度的buff"
   ]
  },
  {
   "cell_type": "code",
   "execution_count": 16,
   "id": "11a689b7-15ec-4edd-96e0-91ccd595aad5",
   "metadata": {},
   "outputs": [
    {
     "data": {
      "text/html": [
       "<table><tr><td>鱼等级</td><td>掉落概率</td><td>敏捷度</td><td>力量值</td></tr><tr><td>1</td><td>0.6601178834492776</td><td>100</td><td>100</td></tr><tr><td>2</td><td>0.2244400803727544</td><td>195</td><td>130</td></tr><tr><td>3</td><td>0.0763096273267365</td><td>380</td><td>169</td></tr><tr><td>4</td><td>0.025945273291090414</td><td>741</td><td>219</td></tr><tr><td>5</td><td>0.00882139291897074</td><td>1444</td><td>284</td></tr><tr><td>6</td><td>0.0029992735924500523</td><td>2815</td><td>369</td></tr><tr><td>7</td><td>0.0010197530214330179</td><td>5489</td><td>479</td></tr><tr><td>8</td><td>0.00034671602728722614</td><td>10703</td><td>622</td></tr></table>"
      ],
      "text/plain": [
       "\"<table><tr><td>鱼等级</td><td>掉落概率</td><td>敏捷度</td><td>力量值</td></tr><tr><td>1</td><td>0.6601178834492776</td><td>100</td><td>100</td></tr><tr><td>2</td><td>0.2244400803727544</td><td>195</td><td>130</td></tr><tr><td>3</td><td>0.0763096273267365</td><td>380</td><td>169</td></tr><tr><td>4</td><td>0.025945273291090414</td><td>741</td><td>219</td></tr><tr><td>5</td><td>0.00882139291897074</td><td>1444</td><td>284</td></tr><tr><td>6</td><td>0.0029992735924500523</td><td>2815</td><td>369</td></tr><tr><td>7</td><td>0.0010197530214330179</td><td>5489</td><td>479</td></tr><tr><td>8</td><td>0.00034671602728722614</td><td>10703</td><td>622</td></tr></table>\""
      ]
     },
     "metadata": {},
     "output_type": "display_data"
    },
    {
     "data": {
      "text/html": [
       "<table><tr><td></td><td>鱼等级</td><td>掉落概率</td><td>敏捷度</td><td>力量值</td></tr><tr><td>Scale倍数</td><td>-</td><td>1903</td><td>107</td><td>6</td></tr></table>"
      ],
      "text/plain": [
       "\"<table><tr><td></td><td>鱼等级</td><td>掉落概率</td><td>敏捷度</td><td>力量值</td></tr><tr><td>Scale倍数</td><td>-</td><td>1903</td><td>107</td><td>6</td></tr></table>\""
      ]
     },
     "metadata": {},
     "output_type": "display_data"
    }
   ],
   "source": [
    "#参数表\n",
    "fish_create_tab = []\n",
    "\n",
    "#掉落概率\n",
    "drop_rate = 1\n",
    "#掉落概率的衰减度\n",
    "drop_reducation_rate = 0.34\n",
    "\n",
    "#力量基数\n",
    "power = 100\n",
    "#力量增长率\n",
    "power_rate = 1.3\n",
    "\n",
    "#敏捷基数\n",
    "agility = 100\n",
    "#敏捷增长率\n",
    "agility_rate = 1.95\n",
    "\n",
    "\n",
    "\n",
    "# 一共的级别数量\n",
    "level = 8\n",
    "\n",
    "level.times do |lv|\n",
    "    #级别，掉落概率，敏捷度，力量值\n",
    "    fish_create_tab.push([lv+1,drop_rate,agility,power])\n",
    "    drop_rate = drop_rate * drop_reducation_rate\n",
    "    power = (power * power_rate).to_i\n",
    "    agility = (agility * agility_rate).to_i\n",
    "end\n",
    "\n",
    "\n",
    "fish_create_tabname = [\"鱼等级\",\"掉落概率\",\"敏捷度\",\"力量值\"]\n",
    "fish_create_tab = normalize(fish_create_tab,1)\n",
    "\n",
    "world[:table][:fish_create_tab]=fish_create_tab\n",
    "\n",
    "\n",
    "puts_table [fish_create_tabname]+fish_create_tab\n",
    "\n",
    "puts_table [[\"\"]+fish_create_tabname]+[[\"Scale倍数\", \"-\",\n",
    "    (fish_create_tab[0][1]/fish_create_tab[level-1][1]).to_i,\n",
    "    (fish_create_tab[level-1][2]/fish_create_tab[0][2]).to_i,\n",
    "    (fish_create_tab[level-1][3]/fish_create_tab[0][3]).to_i]]\n"
   ]
  },
  {
   "cell_type": "code",
   "execution_count": 17,
   "id": "03afcf47-a6bb-48f3-80d9-bacbc5dedaac",
   "metadata": {},
   "outputs": [
    {
     "data": {
      "text/html": [
       "\n",
       "\n",
       "<div id=\"app_BFUblW43uq\">\n",
       "\n",
       "<el-container>\n",
       "  <el-main>\n",
       "   \n",
       "    <el-row :gutter=\"24\" type=\"flex\" align=\"middle\" justify=\"center\">\n",
       "    <el-col :span=\"1\" style=\"text-align:center\">\n",
       "      <b></b>\n",
       "    </el-col>\n",
       "    \n",
       "      \n",
       "        <el-col :span=\"11\" style=\"text-align:center\">\n",
       "          <b></b>\n",
       "          <div id=\"chart-11\" style=\"height: 300px; width: 100%; text-align: center; color: #999; line-height: 300px; font-size: 14px; font-family: 'Lucida Grande', 'Lucida Sans Unicode', Verdana, Arial, Helvetica, sans-serif;\">Loading...</div>\n",
       "\n",
       "\n",
       "        </el-col>\n",
       "      \n",
       "        <el-col :span=\"11\" style=\"text-align:center\">\n",
       "          <b></b>\n",
       "          <div id=\"chart-12\" style=\"height: 300px; width: 100%; text-align: center; color: #999; line-height: 300px; font-size: 14px; font-family: 'Lucida Grande', 'Lucida Sans Unicode', Verdana, Arial, Helvetica, sans-serif;\">Loading...</div>\n",
       "\n",
       "\n",
       "        </el-col>\n",
       "      \n",
       "    </el-row>\n",
       "   \n",
       "  </el-main>\n",
       "</el-container>\n",
       "</div>\n",
       "\n",
       "\n",
       "<script>\n",
       "  Vue.use(VueChartkick.use(Chart))\n",
       "\n",
       "  app = new Vue({\n",
       "    el: '#app_BFUblW43uq',\n",
       "  })\n",
       "</script><script>\n",
       "  (function() {\n",
       "    if (document.documentElement.hasAttribute(\"data-turbolinks-preview\")) return;\n",
       "    if (document.documentElement.hasAttribute(\"data-turbo-preview\")) return;\n",
       "\n",
       "    var createChart = function() { new Chartkick[\"LineChart\"](\"chart-12\", [{\"name\":\"敏捷度\",\"data\":[[1,100],[2,195],[3,380],[4,741],[5,1444],[6,2815],[7,5489],[8,10703]]},{\"name\":\"力量值\",\"data\":[[1,100],[2,130],[3,169],[4,219],[5,284],[6,369],[7,479],[8,622]]}], {}); };\n",
       "    if (\"Chartkick\" in window) {\n",
       "      createChart();\n",
       "    } else {\n",
       "      window.addEventListener(\"chartkick:load\", createChart, true);\n",
       "    }\n",
       "  })();\n",
       "</script><script>\n",
       "  (function() {\n",
       "    if (document.documentElement.hasAttribute(\"data-turbolinks-preview\")) return;\n",
       "    if (document.documentElement.hasAttribute(\"data-turbo-preview\")) return;\n",
       "\n",
       "    var createChart = function() { new Chartkick[\"LineChart\"](\"chart-11\", [{\"name\":\"掉落概率\",\"data\":[[1,0.6601178834492776],[2,0.2244400803727544],[3,0.0763096273267365],[4,0.025945273291090414],[5,0.00882139291897074],[6,0.0029992735924500523],[7,0.0010197530214330179],[8,0.00034671602728722614]]}], {}); };\n",
       "    if (\"Chartkick\" in window) {\n",
       "      createChart();\n",
       "    } else {\n",
       "      window.addEventListener(\"chartkick:load\", createChart, true);\n",
       "    }\n",
       "  })();\n",
       "</script>"
      ],
      "text/plain": [
       "\"\\n\\n<div id=\\\"app_BFUblW43uq\\\">\\n\\n<el-container>\\n  <el-main>\\n   \\n    <el-row :gutter=\\\"24\\\" type=\\\"flex\\\" align=\\\"middle\\\" justify=\\\"center\\\">\\n    <el-col :span=\\\"1\\\" style=\\\"text-align:center\\\">\\n      <b></b>\\n    </el-col>\\n    \\n      \\n        <el-col :span=\\\"11\\\" style=\\\"text-align:center\\\">\\n          <b></b>\\n          <div id=\\\"chart-11\\\" style=\\\"height: 300px; width: 100%; text-align: center; color: #999; line-height: 300px; font-size: 14px; font-family: 'Lucida Grande', 'Lucida Sans Unicode', Verdana, Arial, Helvetica, sans-serif;\\\">Loading...</div>\\n\\n\\n        </el-col>\\n      \\n        <el-col :span=\\\"11\\\" style=\\\"text-align:center\\\">\\n          <b></b>\\n          <div id=\\\"chart-12\\\" style=\\\"height: 300px; width: 100%; text-align: center; color: #999; line-height: 300px; font-size: 14px; font-family: 'Lucida Grande', 'Lucida Sans Unicode', Verdana, Arial, Helvetica, sans-serif;\\\">Loading...</div>\\n\\n\\n        </el-col>\\n      \\n    </el-row>\\n   \\n  </el-main>\\n</el-container>\\n</div>\\n\\n\\n<script>\\n  Vue.use(VueChartkick.use(Chart))\\n\\n  app = new Vue({\\n    el: '#app_BFUblW43uq',\\n  })\\n</script><script>\\n  (function() {\\n    if (document.documentElement.hasAttribute(\\\"data-turbolinks-preview\\\")) return;\\n    if (document.documentElement.hasAttribute(\\\"data-turbo-preview\\\")) return;\\n\\n    var createChart = function() { new Chartkick[\\\"LineChart\\\"](\\\"chart-12\\\", [{\\\"name\\\":\\\"敏捷度\\\",\\\"data\\\":[[1,100],[2,195],[3,380],[4,741],[5,1444],[6,2815],[7,5489],[8,10703]]},{\\\"name\\\":\\\"力量值\\\",\\\"data\\\":[[1,100],[2,130],[3,169],[4,219],[5,284],[6,369],[7,479],[8,622]]}], {}); };\\n    if (\\\"Chartkick\\\" in window) {\\n      createChart();\\n    } else {\\n      window.addEventListener(\\\"chartkick:load\\\", createChart, true);\\n    }\\n  })();\\n</script><script>\\n  (function() {\\n    if (document.documentElement.hasAttribute(\\\"data-turbolinks-preview\\\")) return;\\n    if (document.documentElement.hasAttribute(\\\"data-turbo-preview\\\")) return;\\n\\n    var createChart = function() { new Chartkick[\\\"LineChart\\\"](\\\"chart-11\\\", [{\\\"name\\\":\\\"掉落概率\\\",\\\"data\\\":[[1,0.6601178834492776],[2,0.2244400803727544],[3,0.0763096273267365],[4,0.025945273291090414],[5,0.00882139291897074],[6,0.0029992735924500523],[7,0.0010197530214330179],[8,0.00034671602728722614]]}], {}); };\\n    if (\\\"Chartkick\\\" in window) {\\n      createChart();\\n    } else {\\n      window.addEventListener(\\\"chartkick:load\\\", createChart, true);\\n    }\\n  })();\\n</script>\""
      ]
     },
     "metadata": {},
     "output_type": "display_data"
    }
   ],
   "source": [
    "chart1 = line_chart([\n",
    "    {:name=>fish_create_tabname[1],:data=>(fish_create_tab.map do |x| [x[0],x[1]] end)}])\n",
    "chart2 = line_chart([\n",
    "    {:name=>fish_create_tabname[2],:data=>(fish_create_tab.map do |x| [x[0],x[2]] end)},\n",
    "    {:name=>fish_create_tabname[3],:data=>(fish_create_tab.map do |x| [x[0],x[3]] end)}\n",
    "    ])\n",
    "\n",
    "layout_double_chart(chart1,chart2)"
   ]
  },
  {
   "cell_type": "markdown",
   "id": "a7c9fb47-4d32-4de7-9feb-14950fb8cb1c",
   "metadata": {},
   "source": [
    "### 鱼抽盲盒的分布\n",
    "\n",
    "每次一级市场按照活跃用户数 和 用户已有鱼的供给量，来释放抽盲盒的量，做到惜售（抢购），这样维持大家对抽鱼的热度 和 抽的价格\n",
    "\n",
    "5万用户，1万活跃，释放1万盲盒"
   ]
  },
  {
   "cell_type": "code",
   "execution_count": 18,
   "id": "caa3a9c5-5dc4-4d70-9484-0ce75c59eab1",
   "metadata": {},
   "outputs": [
    {
     "data": {
      "text/plain": [
       "10000"
      ]
     },
     "execution_count": 18,
     "metadata": {},
     "output_type": "execute_result"
    }
   ],
   "source": [
    "# ==模拟==\n",
    "\n",
    "# 开1万次盒子\n",
    "openbox_time = 10000\n",
    "\n",
    "world=world_init(world)\n",
    "world=world_add_user(world)\n",
    "user=world_get_rand_user(world)\n",
    "\n",
    "openbox_time.times do |x|\n",
    "    world=world_add_rand_fish(world,user)    \n",
    "end\n",
    "\n"
   ]
  },
  {
   "cell_type": "code",
   "execution_count": 19,
   "id": "a35a18b4-b8be-474f-9f50-b0a3d36c63fb",
   "metadata": {},
   "outputs": [
    {
     "data": {
      "text/html": [
       "\n",
       "\n",
       "<div id=\"app_UeSuujVfx5\">\n",
       "\n",
       "<el-container>\n",
       "  <el-main>\n",
       "   \n",
       "    <el-row :gutter=\"24\" type=\"flex\" align=\"middle\" justify=\"center\">\n",
       "    <el-col :span=\"1\" style=\"text-align:center\">\n",
       "      <b></b>\n",
       "    </el-col>\n",
       "    \n",
       "      \n",
       "        <el-col :span=\"11\" style=\"text-align:center\">\n",
       "          <b>鱼等级分布</b>\n",
       "          <div id=\"chart-13\" style=\"height: 300px; width: 100%; text-align: center; color: #999; line-height: 300px; font-size: 14px; font-family: 'Lucida Grande', 'Lucida Sans Unicode', Verdana, Arial, Helvetica, sans-serif;\">Loading...</div>\n",
       "\n",
       "\n",
       "        </el-col>\n",
       "      \n",
       "        <el-col :span=\"11\" style=\"text-align:center\">\n",
       "          <b>鱼敏捷度分布</b>\n",
       "          <div id=\"chart-14\" style=\"height: 300px; width: 100%; text-align: center; color: #999; line-height: 300px; font-size: 14px; font-family: 'Lucida Grande', 'Lucida Sans Unicode', Verdana, Arial, Helvetica, sans-serif;\">Loading...</div>\n",
       "\n",
       "\n",
       "        </el-col>\n",
       "      \n",
       "        <el-col :span=\"11\" style=\"text-align:center\">\n",
       "          <b>鱼力量值分布</b>\n",
       "          <div id=\"chart-15\" style=\"height: 300px; width: 100%; text-align: center; color: #999; line-height: 300px; font-size: 14px; font-family: 'Lucida Grande', 'Lucida Sans Unicode', Verdana, Arial, Helvetica, sans-serif;\">Loading...</div>\n",
       "\n",
       "\n",
       "        </el-col>\n",
       "      \n",
       "    </el-row>\n",
       "   \n",
       "  </el-main>\n",
       "</el-container>\n",
       "</div>\n",
       "\n",
       "\n",
       "<script>\n",
       "  Vue.use(VueChartkick.use(Chart))\n",
       "\n",
       "  app = new Vue({\n",
       "    el: '#app_UeSuujVfx5',\n",
       "  })\n",
       "</script><script>\n",
       "  (function() {\n",
       "    if (document.documentElement.hasAttribute(\"data-turbolinks-preview\")) return;\n",
       "    if (document.documentElement.hasAttribute(\"data-turbo-preview\")) return;\n",
       "\n",
       "    var createChart = function() { new Chartkick[\"ColumnChart\"](\"chart-15\", [[100,6617],[130,2239],[169,744],[219,271],[284,85],[369,31],[479,11],[622,2]], {}); };\n",
       "    if (\"Chartkick\" in window) {\n",
       "      createChart();\n",
       "    } else {\n",
       "      window.addEventListener(\"chartkick:load\", createChart, true);\n",
       "    }\n",
       "  })();\n",
       "</script><script>\n",
       "  (function() {\n",
       "    if (document.documentElement.hasAttribute(\"data-turbolinks-preview\")) return;\n",
       "    if (document.documentElement.hasAttribute(\"data-turbo-preview\")) return;\n",
       "\n",
       "    var createChart = function() { new Chartkick[\"ColumnChart\"](\"chart-14\", [[100,6617],[195,2239],[380,744],[741,271],[1444,85],[2815,31],[5489,11],[10703,2]], {}); };\n",
       "    if (\"Chartkick\" in window) {\n",
       "      createChart();\n",
       "    } else {\n",
       "      window.addEventListener(\"chartkick:load\", createChart, true);\n",
       "    }\n",
       "  })();\n",
       "</script><script>\n",
       "  (function() {\n",
       "    if (document.documentElement.hasAttribute(\"data-turbolinks-preview\")) return;\n",
       "    if (document.documentElement.hasAttribute(\"data-turbo-preview\")) return;\n",
       "\n",
       "    var createChart = function() { new Chartkick[\"ColumnChart\"](\"chart-13\", [[1,6617],[2,2239],[3,744],[4,271],[5,85],[6,31],[7,11],[8,2]], {}); };\n",
       "    if (\"Chartkick\" in window) {\n",
       "      createChart();\n",
       "    } else {\n",
       "      window.addEventListener(\"chartkick:load\", createChart, true);\n",
       "    }\n",
       "  })();\n",
       "</script>"
      ],
      "text/plain": [
       "\"\\n\\n<div id=\\\"app_UeSuujVfx5\\\">\\n\\n<el-container>\\n  <el-main>\\n   \\n    <el-row :gutter=\\\"24\\\" type=\\\"flex\\\" align=\\\"middle\\\" justify=\\\"center\\\">\\n    <el-col :span=\\\"1\\\" style=\\\"text-align:center\\\">\\n      <b></b>\\n    </el-col>\\n    \\n      \\n        <el-col :span=\\\"11\\\" style=\\\"text-align:center\\\">\\n          <b>鱼等级分布</b>\\n          <div id=\\\"chart-13\\\" style=\\\"height: 300px; width: 100%; text-align: center; color: #999; line-height: 300px; font-size: 14px; font-family: 'Lucida Grande', 'Lucida Sans Unicode', Verdana, Arial, Helvetica, sans-serif;\\\">Loading...</div>\\n\\n\\n        </el-col>\\n      \\n        <el-col :span=\\\"11\\\" style=\\\"text-align:center\\\">\\n          <b>鱼敏捷度分布</b>\\n          <div id=\\\"chart-14\\\" style=\\\"height: 300px; width: 100%; text-align: center; color: #999; line-height: 300px; font-size: 14px; font-family: 'Lucida Grande', 'Lucida Sans Unicode', Verdana, Arial, Helvetica, sans-serif;\\\">Loading...</div>\\n\\n\\n        </el-col>\\n      \\n        <el-col :span=\\\"11\\\" style=\\\"text-align:center\\\">\\n          <b>鱼力量值分布</b>\\n          <div id=\\\"chart-15\\\" style=\\\"height: 300px; width: 100%; text-align: center; color: #999; line-height: 300px; font-size: 14px; font-family: 'Lucida Grande', 'Lucida Sans Unicode', Verdana, Arial, Helvetica, sans-serif;\\\">Loading...</div>\\n\\n\\n        </el-col>\\n      \\n    </el-row>\\n   \\n  </el-main>\\n</el-container>\\n</div>\\n\\n\\n<script>\\n  Vue.use(VueChartkick.use(Chart))\\n\\n  app = new Vue({\\n    el: '#app_UeSuujVfx5',\\n  })\\n</script><script>\\n  (function() {\\n    if (document.documentElement.hasAttribute(\\\"data-turbolinks-preview\\\")) return;\\n    if (document.documentElement.hasAttribute(\\\"data-turbo-preview\\\")) return;\\n\\n    var createChart = function() { new Chartkick[\\\"ColumnChart\\\"](\\\"chart-15\\\", [[100,6617],[130,2239],[169,744],[219,271],[284,85],[369,31],[479,11],[622,2]], {}); };\\n    if (\\\"Chartkick\\\" in window) {\\n      createChart();\\n    } else {\\n      window.addEventListener(\\\"chartkick:load\\\", createChart, true);\\n    }\\n  })();\\n</script><script>\\n  (function() {\\n    if (document.documentElement.hasAttribute(\\\"data-turbolinks-preview\\\")) return;\\n    if (document.documentElement.hasAttribute(\\\"data-turbo-preview\\\")) return;\\n\\n    var createChart = function() { new Chartkick[\\\"ColumnChart\\\"](\\\"chart-14\\\", [[100,6617],[195,2239],[380,744],[741,271],[1444,85],[2815,31],[5489,11],[10703,2]], {}); };\\n    if (\\\"Chartkick\\\" in window) {\\n      createChart();\\n    } else {\\n      window.addEventListener(\\\"chartkick:load\\\", createChart, true);\\n    }\\n  })();\\n</script><script>\\n  (function() {\\n    if (document.documentElement.hasAttribute(\\\"data-turbolinks-preview\\\")) return;\\n    if (document.documentElement.hasAttribute(\\\"data-turbo-preview\\\")) return;\\n\\n    var createChart = function() { new Chartkick[\\\"ColumnChart\\\"](\\\"chart-13\\\", [[1,6617],[2,2239],[3,744],[4,271],[5,85],[6,31],[7,11],[8,2]], {}); };\\n    if (\\\"Chartkick\\\" in window) {\\n      createChart();\\n    } else {\\n      window.addEventListener(\\\"chartkick:load\\\", createChart, true);\\n    }\\n  })();\\n</script>\""
      ]
     },
     "metadata": {},
     "output_type": "display_data"
    }
   ],
   "source": [
    "# 分布\n",
    "chart1_name=\"鱼等级分布\"\n",
    "chart1 = column_chart(gen_dist(world[:entity][:fishes].map do |x| x[:level] end).to_h)\n",
    "\n",
    "chart2_name=\"鱼敏捷度分布\"\n",
    "chart2 = column_chart(gen_dist(world[:entity][:fishes].map do |x| x[:agility] end).to_h)\n",
    "\n",
    "chart3_name=\"鱼力量值分布\"\n",
    "chart3 = column_chart(gen_dist(world[:entity][:fishes].map do |x| x[:power] end).to_h)\n",
    "\n",
    "layout_triple_chart(chart1,chart2,chart3,chart1_name,chart2_name,chart3_name)"
   ]
  },
  {
   "cell_type": "markdown",
   "id": "9499784f-d195-491f-ad55-c8be55058123",
   "metadata": {},
   "source": [
    "## 用户级别\n",
    "\n",
    "Monaco世界里面用户分为10个等级. Lv0 - Lv9. \n",
    "\n",
    "Lv0是机器人，会被禁止掉，这个星球完全禁止机器人。\n",
    "Lv1是登录星球的新用户\n",
    "\n",
    "星球每个人都有自己不同的熟练驱赶鱼的能力（等级），通过发帖，点赞，回复，等社交行为，用户和更多人去沟通交流，用户的语言能力会得到锻炼，从而更能驱动鱼去工作。\n",
    "未通过KYC的外部世界的小白用户，是基本上不知道鱼的语言，所以驱动鱼产出效率特别低\n",
    "\n",
    "用户A 用 鱼B（等级X，年龄Y） 去挖矿的产出能力计算\n",
    "\n",
    " **挖矿能力 =  鱼等级系数 base  x   鱼年龄buff   x  用户熟练度 buff**\n",
    "\n",
    "\n"
   ]
  },
  {
   "cell_type": "code",
   "execution_count": 20,
   "id": "3c6cf804-13f8-4031-8f97-ba6521ee7d00",
   "metadata": {},
   "outputs": [
    {
     "data": {
      "text/html": [
       "<table><tr><td>用户等级</td><td>权重</td><td>说明</td></tr><tr><td>0</td><td>0</td><td>识别为机器人</td></tr><tr><td>1</td><td>0.1</td><td>新用户</td></tr><tr><td>2</td><td>1</td><td></td></tr><tr><td>3</td><td>1.2</td><td></td></tr><tr><td>4</td><td>1.4</td><td></td></tr><tr><td>5</td><td>1.6</td><td></td></tr><tr><td>6</td><td>1.8</td><td></td></tr><tr><td>7</td><td>2</td><td></td></tr><tr><td>8</td><td>2.2</td><td></td></tr><tr><td>9</td><td>2.4</td><td></td></tr></table>"
      ],
      "text/plain": [
       "\"<table><tr><td>用户等级</td><td>权重</td><td>说明</td></tr><tr><td>0</td><td>0</td><td>识别为机器人</td></tr><tr><td>1</td><td>0.1</td><td>新用户</td></tr><tr><td>2</td><td>1</td><td></td></tr><tr><td>3</td><td>1.2</td><td></td></tr><tr><td>4</td><td>1.4</td><td></td></tr><tr><td>5</td><td>1.6</td><td></td></tr><tr><td>6</td><td>1.8</td><td></td></tr><tr><td>7</td><td>2</td><td></td></tr><tr><td>8</td><td>2.2</td><td></td></tr><tr><td>9</td><td>2.4</td><td></td></tr></table>\""
      ]
     },
     "metadata": {},
     "output_type": "display_data"
    },
    {
     "data": {
      "text/html": [
       "\n",
       "\n",
       "<div id=\"app_Zzym8PYkcR\">\n",
       "\n",
       "<el-container>\n",
       "  <el-main>\n",
       "   \n",
       "    <el-row :gutter=\"24\" type=\"flex\" align=\"middle\" justify=\"center\">\n",
       "    <el-col :span=\"1\" style=\"text-align:center\">\n",
       "      <b></b>\n",
       "    </el-col>\n",
       "    \n",
       "      \n",
       "        <el-col :span=\"11\" style=\"text-align:center\">\n",
       "          <b>值</b>\n",
       "          <div id=\"chart-16\" style=\"height: 300px; width: 100%; text-align: center; color: #999; line-height: 300px; font-size: 14px; font-family: 'Lucida Grande', 'Lucida Sans Unicode', Verdana, Arial, Helvetica, sans-serif;\">Loading...</div>\n",
       "\n",
       "\n",
       "        </el-col>\n",
       "      \n",
       "        <el-col :span=\"11\" style=\"text-align:center\">\n",
       "          <b>一阶变化值</b>\n",
       "          <div id=\"chart-17\" style=\"height: 300px; width: 100%; text-align: center; color: #999; line-height: 300px; font-size: 14px; font-family: 'Lucida Grande', 'Lucida Sans Unicode', Verdana, Arial, Helvetica, sans-serif;\">Loading...</div>\n",
       "\n",
       "\n",
       "        </el-col>\n",
       "      \n",
       "    </el-row>\n",
       "   \n",
       "  </el-main>\n",
       "</el-container>\n",
       "</div>\n",
       "\n",
       "\n",
       "<script>\n",
       "  Vue.use(VueChartkick.use(Chart))\n",
       "\n",
       "  app = new Vue({\n",
       "    el: '#app_Zzym8PYkcR',\n",
       "  })\n",
       "</script><script>\n",
       "  (function() {\n",
       "    if (document.documentElement.hasAttribute(\"data-turbolinks-preview\")) return;\n",
       "    if (document.documentElement.hasAttribute(\"data-turbo-preview\")) return;\n",
       "\n",
       "    var createChart = function() { new Chartkick[\"LineChart\"](\"chart-17\", [[0,null],[1,9.0],[2,0.19999999999999996],[3,0.16666666666666663],[4,0.142857142857143],[5,0.12499999999999997],[6,0.11111111111111108],[7,0.10000000000000009],[8,0.09090909090909079]], {\"points\":false}); };\n",
       "    if (\"Chartkick\" in window) {\n",
       "      createChart();\n",
       "    } else {\n",
       "      window.addEventListener(\"chartkick:load\", createChart, true);\n",
       "    }\n",
       "  })();\n",
       "</script><script>\n",
       "  (function() {\n",
       "    if (document.documentElement.hasAttribute(\"data-turbolinks-preview\")) return;\n",
       "    if (document.documentElement.hasAttribute(\"data-turbo-preview\")) return;\n",
       "\n",
       "    var createChart = function() { new Chartkick[\"LineChart\"](\"chart-16\", [[0,0,\"识别为机器人\"],[1,0.1,\"新用户\"],[2,1,\"\"],[3,1.2,\"\"],[4,1.4,\"\"],[5,1.6,\"\"],[6,1.8,\"\"],[7,2,\"\"],[8,2.2,\"\"],[9,2.4,\"\"]], {\"points\":false}); };\n",
       "    if (\"Chartkick\" in window) {\n",
       "      createChart();\n",
       "    } else {\n",
       "      window.addEventListener(\"chartkick:load\", createChart, true);\n",
       "    }\n",
       "  })();\n",
       "</script>"
      ],
      "text/plain": [
       "\"\\n\\n<div id=\\\"app_Zzym8PYkcR\\\">\\n\\n<el-container>\\n  <el-main>\\n   \\n    <el-row :gutter=\\\"24\\\" type=\\\"flex\\\" align=\\\"middle\\\" justify=\\\"center\\\">\\n    <el-col :span=\\\"1\\\" style=\\\"text-align:center\\\">\\n      <b></b>\\n    </el-col>\\n    \\n      \\n        <el-col :span=\\\"11\\\" style=\\\"text-align:center\\\">\\n          <b>值</b>\\n          <div id=\\\"chart-16\\\" style=\\\"height: 300px; width: 100%; text-align: center; color: #999; line-height: 300px; font-size: 14px; font-family: 'Lucida Grande', 'Lucida Sans Unicode', Verdana, Arial, Helvetica, sans-serif;\\\">Loading...</div>\\n\\n\\n        </el-col>\\n      \\n        <el-col :span=\\\"11\\\" style=\\\"text-align:center\\\">\\n          <b>一阶变化值</b>\\n          <div id=\\\"chart-17\\\" style=\\\"height: 300px; width: 100%; text-align: center; color: #999; line-height: 300px; font-size: 14px; font-family: 'Lucida Grande', 'Lucida Sans Unicode', Verdana, Arial, Helvetica, sans-serif;\\\">Loading...</div>\\n\\n\\n        </el-col>\\n      \\n    </el-row>\\n   \\n  </el-main>\\n</el-container>\\n</div>\\n\\n\\n<script>\\n  Vue.use(VueChartkick.use(Chart))\\n\\n  app = new Vue({\\n    el: '#app_Zzym8PYkcR',\\n  })\\n</script><script>\\n  (function() {\\n    if (document.documentElement.hasAttribute(\\\"data-turbolinks-preview\\\")) return;\\n    if (document.documentElement.hasAttribute(\\\"data-turbo-preview\\\")) return;\\n\\n    var createChart = function() { new Chartkick[\\\"LineChart\\\"](\\\"chart-17\\\", [[0,null],[1,9.0],[2,0.19999999999999996],[3,0.16666666666666663],[4,0.142857142857143],[5,0.12499999999999997],[6,0.11111111111111108],[7,0.10000000000000009],[8,0.09090909090909079]], {\\\"points\\\":false}); };\\n    if (\\\"Chartkick\\\" in window) {\\n      createChart();\\n    } else {\\n      window.addEventListener(\\\"chartkick:load\\\", createChart, true);\\n    }\\n  })();\\n</script><script>\\n  (function() {\\n    if (document.documentElement.hasAttribute(\\\"data-turbolinks-preview\\\")) return;\\n    if (document.documentElement.hasAttribute(\\\"data-turbo-preview\\\")) return;\\n\\n    var createChart = function() { new Chartkick[\\\"LineChart\\\"](\\\"chart-16\\\", [[0,0,\\\"识别为机器人\\\"],[1,0.1,\\\"新用户\\\"],[2,1,\\\"\\\"],[3,1.2,\\\"\\\"],[4,1.4,\\\"\\\"],[5,1.6,\\\"\\\"],[6,1.8,\\\"\\\"],[7,2,\\\"\\\"],[8,2.2,\\\"\\\"],[9,2.4,\\\"\\\"]], {\\\"points\\\":false}); };\\n    if (\\\"Chartkick\\\" in window) {\\n      createChart();\\n    } else {\\n      window.addEventListener(\\\"chartkick:load\\\", createChart, true);\\n    }\\n  })();\\n</script>\""
      ]
     },
     "metadata": {},
     "output_type": "display_data"
    }
   ],
   "source": [
    "user_level_tab= \n",
    " [ \n",
    "    [0, 0,   \"识别为机器人\" ],\n",
    "    [1, 0.1, \"新用户\" ],\n",
    "    [2, 1,   \"\" ],\n",
    "    [3, 1.2, \"\" ],\n",
    "    [4, 1.4, \"\" ],\n",
    "    [5, 1.6, \"\" ],\n",
    "    [6, 1.8, \"\" ],\n",
    "    [7, 2, \"\" ],\n",
    "    [8, 2.2, \"\" ],\n",
    "    [9, 2.4, \"\" ],\n",
    " ]\n",
    "\n",
    "world[:table][:user_level_tab]=user_level_tab\n",
    "\n",
    "user_level_name = [\"用户等级\", \"权重\", \"说明\"]\n",
    "\n",
    "puts_table [user_level_name]+user_level_tab\n",
    "\n",
    "delta_chart(user_level_tab)"
   ]
  },
  {
   "cell_type": "code",
   "execution_count": 21,
   "id": "dfe7a7c3-6ff1-4b2c-b0a2-865e2f00fd0d",
   "metadata": {},
   "outputs": [
    {
     "data": {
      "text/html": [
       "<h4>用户等级 x 鱼等级</h4>"
      ],
      "text/plain": [
       "\"<h4>用户等级 x 鱼等级</h4>\""
      ]
     },
     "metadata": {},
     "output_type": "display_data"
    },
    {
     "data": {
      "text/html": [
       "<table><tr><td>鱼等级</td><td>1</td><td>2</td><td>3</td><td>4</td><td>5</td><td>6</td><td>7</td><td>8</td></tr><tr><td>用户等级</td><td></td><td></td><td></td><td></td><td></td><td></td><td></td><td></td></tr><tr><td>0</td><td>0</td><td>0</td><td>0</td><td>0</td><td>0</td><td>0</td><td>0</td><td>0</td></tr><tr><td>1</td><td>10</td><td>13</td><td>17</td><td>22</td><td>28</td><td>37</td><td>48</td><td>62</td></tr><tr><td>2</td><td>100</td><td>130</td><td>169</td><td>219</td><td>284</td><td>369</td><td>479</td><td>622</td></tr><tr><td>3</td><td>120</td><td>156</td><td>203</td><td>263</td><td>341</td><td>443</td><td>575</td><td>746</td></tr><tr><td>4</td><td>140</td><td>182</td><td>237</td><td>307</td><td>398</td><td>517</td><td>671</td><td>871</td></tr><tr><td>5</td><td>160</td><td>208</td><td>270</td><td>350</td><td>454</td><td>590</td><td>766</td><td>995</td></tr><tr><td>6</td><td>180</td><td>234</td><td>304</td><td>394</td><td>511</td><td>664</td><td>862</td><td>1120</td></tr><tr><td>7</td><td>200</td><td>260</td><td>338</td><td>438</td><td>568</td><td>738</td><td>958</td><td>1244</td></tr><tr><td>8</td><td>220</td><td>286</td><td>372</td><td>482</td><td>625</td><td>812</td><td>1054</td><td>1368</td></tr><tr><td>9</td><td>240</td><td>312</td><td>406</td><td>526</td><td>682</td><td>886</td><td>1150</td><td>1493</td></tr></table>"
      ],
      "text/plain": [
       "\"<table><tr><td>鱼等级</td><td>1</td><td>2</td><td>3</td><td>4</td><td>5</td><td>6</td><td>7</td><td>8</td></tr><tr><td>用户等级</td><td></td><td></td><td></td><td></td><td></td><td></td><td></td><td></td></tr><tr><td>0</td><td>0</td><td>0</td><td>0</td><td>0</td><td>0</td><td>0</td><td>0</td><td>0</td></tr><tr><td>1</td><td>10</td><td>13</td><td>17</td><td>22</td><td>28</td><td>37</td><td>48</td><td>62</td></tr><tr><td>2</td><td>100</td><td>130</td><td>169</td><td>219</td><td>284</td><td>369</td><td>479</td><td>622</td></tr><tr><td>3</td><td>120</td><td>156</td><td>203</td><td>263</td><td>341</td><td>443</td><td>575</td><td>746</td></tr><tr><td>4</td><td>140</td><td>182</td><td>237</td><td>307</td><td>398</td><td>517</td><td>671</td><td>871</td></tr><tr><td>5</td><td>160</td><td>208</td><td>270</td><td>350</td><td>454</td><td>590</td><td>766</td><td>995</td></tr><tr><td>6</td><td>180</td><td>234</td><td>304</td><td>394</td><td>511</td><td>664</td><td>862</td><td>1120</td></tr><tr><td>7</td><td>200</td><td>260</td><td>338</td><td>438</td><td>568</td><td>738</td><td>958</td><td>1244</td></tr><tr><td>8</td><td>220</td><td>286</td><td>372</td><td>482</td><td>625</td><td>812</td><td>1054</td><td>1368</td></tr><tr><td>9</td><td>240</td><td>312</td><td>406</td><td>526</td><td>682</td><td>886</td><td>1150</td><td>1493</td></tr></table>\""
      ]
     },
     "metadata": {},
     "output_type": "display_data"
    }
   ],
   "source": [
    "puts_header \"用户等级 x 鱼等级\",:level=>4\n",
    "\n",
    "arr1 = (user_level_tab).map {|x| [x[0],x[1]]}\n",
    "arr2 = (fish_create_tab).map {|x| [x[0],x[3]]}\n",
    "\n",
    "def cross(arr1,arr2)\n",
    "    ret = []\n",
    "    arr1.each do |x|\n",
    "        row = []\n",
    "        row.push(x[0])\n",
    "        arr2.each do |y|\n",
    "            row.push((x[1]*y[1]).round)\n",
    "        end\n",
    "        ret.push(row.clone)\n",
    "    end\n",
    "    return ret\n",
    "end\n",
    "\n",
    "puts_table [[\"鱼等级\",1,2,3,4,5,6,7,8],[\"用户等级\"]]+cross(arr1,arr2)"
   ]
  },
  {
   "cell_type": "markdown",
   "id": "89e9dd14-cbea-4e39-a2ee-e783900bec30",
   "metadata": {},
   "source": [
    "### 用户等级&活跃 模拟\n",
    "\n",
    "#### 微观机制\n",
    "\n",
    "1 - 每天都有新用户进来，new_user(t) 是一个时间的函数。\n",
    "\n",
    "2 - 每个用户有活跃度 base_active_rate，这个是内在属性，有些用户天然活跃度高，有些用户天然活跃度低。 活跃度随着注册时间而衰减 active_rate(t)\n",
    "\n",
    "3 - 活跃度来产生行为 action=f(active_rate)，行为在时间上累计之后，就会到更高级别。 level=f(action)\n",
    "\n",
    "4 - 在升到更高级别之后，活跃度会增加，base_active_rate = f(level)\n",
    "\n",
    "5 - 日拉新量 和 活跃用户数有关，是一个社交的网络效应。 new_user(t) = f(active_user)\n",
    "\n",
    "#### 宏观观测\n",
    "\n",
    "1 - 用户等级有个迁移矩阵，描述所有用户等级增加的情况\n",
    "\n",
    "2 - 不同等级活跃度不同，高等级用户活跃度更高。活跃度随着\n",
    "\n",
    "\n"
   ]
  },
  {
   "cell_type": "code",
   "execution_count": 22,
   "id": "175880d0-5d65-4239-a8ce-d07caa6468ad",
   "metadata": {},
   "outputs": [
    {
     "data": {
      "text/html": [
       "<h4>用户初始活跃度</h4>"
      ],
      "text/plain": [
       "\"<h4>用户初始活跃度</h4>\""
      ]
     },
     "metadata": {},
     "output_type": "display_data"
    },
    {
     "data": {
      "text/html": [
       "<table><tr><td>用户活跃类型</td><td>概率</td><td>基础活跃度(次/天)</td></tr><tr><td>0</td><td>0.05</td><td>0.05</td></tr><tr><td>1</td><td>0.15</td><td>0.1</td></tr><tr><td>2</td><td>0.3</td><td>0.3</td></tr><tr><td>3</td><td>0.3</td><td>0.5</td></tr><tr><td>4</td><td>0.15</td><td>1</td></tr><tr><td>5</td><td>0.05</td><td>3</td></tr></table>"
      ],
      "text/plain": [
       "\"<table><tr><td>用户活跃类型</td><td>概率</td><td>基础活跃度(次/天)</td></tr><tr><td>0</td><td>0.05</td><td>0.05</td></tr><tr><td>1</td><td>0.15</td><td>0.1</td></tr><tr><td>2</td><td>0.3</td><td>0.3</td></tr><tr><td>3</td><td>0.3</td><td>0.5</td></tr><tr><td>4</td><td>0.15</td><td>1</td></tr><tr><td>5</td><td>0.05</td><td>3</td></tr></table>\""
      ]
     },
     "metadata": {},
     "output_type": "display_data"
    },
    {
     "data": {
      "text/html": [
       "<h4>活跃度衰减</h4>"
      ],
      "text/plain": [
       "\"<h4>活跃度衰减</h4>\""
      ]
     },
     "metadata": {},
     "output_type": "display_data"
    },
    {
     "data": {
      "text/html": [
       "\n",
       "\n",
       "<div id=\"app_XBZO1GVunE\">\n",
       "\n",
       "<el-container>\n",
       "  <el-main>\n",
       "   \n",
       "    <el-row :gutter=\"24\" type=\"flex\" align=\"middle\" justify=\"center\">\n",
       "    <el-col :span=\"1\" style=\"text-align:center\">\n",
       "      <b></b>\n",
       "    </el-col>\n",
       "    \n",
       "      \n",
       "        <el-col :span=\"11\" style=\"text-align:center\">\n",
       "          <b></b>\n",
       "          <div id=\"chart-18\" style=\"height: 300px; width: 100%; text-align: center; color: #999; line-height: 300px; font-size: 14px; font-family: 'Lucida Grande', 'Lucida Sans Unicode', Verdana, Arial, Helvetica, sans-serif;\">Loading...</div>\n",
       "\n",
       "\n",
       "        </el-col>\n",
       "      \n",
       "        <el-col :span=\"11\" style=\"text-align:center\">\n",
       "          <b></b>\n",
       "          \n",
       "        </el-col>\n",
       "      \n",
       "    </el-row>\n",
       "   \n",
       "  </el-main>\n",
       "</el-container>\n",
       "</div>\n",
       "\n",
       "\n",
       "<script>\n",
       "  Vue.use(VueChartkick.use(Chart))\n",
       "\n",
       "  app = new Vue({\n",
       "    el: '#app_XBZO1GVunE',\n",
       "  })\n",
       "</script><script>\n",
       "  (function() {\n",
       "    if (document.documentElement.hasAttribute(\"data-turbolinks-preview\")) return;\n",
       "    if (document.documentElement.hasAttribute(\"data-turbo-preview\")) return;\n",
       "\n",
       "    var createChart = function() { new Chartkick[\"LineChart\"](\"chart-18\", [[0,1],[1,0.9046862884571386],[2,0.8184572805223531],[3,0.740447079376491],[4,0.6698723200400458],[5,0.6060243029572018],[6,0.5482618773571752],[7,0.496005002928806],[8,0.4487289251558338],[9,0.40595890582259236],[10,0.3672654557747622],[11,0.33226002206338917],[12,0.30059108616321456],[13,0.2719406340842985],[14,0.24602096293040498],[15,0.22257179183615933],[16,0.20135764827150984],[17,0.1821655034672103],[18,0.16480263321667651],[19,0.1490946825727582],[20,0.1348839150054439],[21,0.12202762843884314],[22,0.11039672226156384],[23,0.09987440092064777],[24,0.09035500108078105],[25,0.08174293057131259],[26,0.07395170846617038],[27,0.06690309665732405],[28,0.06052631420120374],[29,0.054757326548677626],[30,0.04953820252115872],[31,0.04481653257570515],[32,0.040544902517433146],[33,0.0366804173743531],[34,0.03318427065346224],[35,0.030021354652637913],[36,0.027159907915150452],[37,0.024571196286595126],[38,0.02222922437147157],[39,0.020110474491907594],[40,0.018193670527195845],[41,0.016459564262660844],[42,0.014890742102408393],[43,0.013471450205000299],[44,0.01218743628609688],[45,0.011025806499476841],[46,0.009974895959258302],[47,0.009024151603127504],[48,0.008164026220307962],[49,0.007385882580117174],[50,0.006681906698386443],[51,0.006045029370780126],[52,0.005468855185065464],[53,0.004947598299486455],[54,0.004476024342339253],[55,0.004049397849314701],[56,0.0036634347107828372],[57,0.0033142591515031754],[58,0.0029983648107585145],[59,0.002712579532085612]], {\"points\":false}); };\n",
       "    if (\"Chartkick\" in window) {\n",
       "      createChart();\n",
       "    } else {\n",
       "      window.addEventListener(\"chartkick:load\", createChart, true);\n",
       "    }\n",
       "  })();\n",
       "</script>"
      ],
      "text/plain": [
       "\"\\n\\n<div id=\\\"app_XBZO1GVunE\\\">\\n\\n<el-container>\\n  <el-main>\\n   \\n    <el-row :gutter=\\\"24\\\" type=\\\"flex\\\" align=\\\"middle\\\" justify=\\\"center\\\">\\n    <el-col :span=\\\"1\\\" style=\\\"text-align:center\\\">\\n      <b></b>\\n    </el-col>\\n    \\n      \\n        <el-col :span=\\\"11\\\" style=\\\"text-align:center\\\">\\n          <b></b>\\n          <div id=\\\"chart-18\\\" style=\\\"height: 300px; width: 100%; text-align: center; color: #999; line-height: 300px; font-size: 14px; font-family: 'Lucida Grande', 'Lucida Sans Unicode', Verdana, Arial, Helvetica, sans-serif;\\\">Loading...</div>\\n\\n\\n        </el-col>\\n      \\n        <el-col :span=\\\"11\\\" style=\\\"text-align:center\\\">\\n          <b></b>\\n          \\n        </el-col>\\n      \\n    </el-row>\\n   \\n  </el-main>\\n</el-container>\\n</div>\\n\\n\\n<script>\\n  Vue.use(VueChartkick.use(Chart))\\n\\n  app = new Vue({\\n    el: '#app_XBZO1GVunE',\\n  })\\n</script><script>\\n  (function() {\\n    if (document.documentElement.hasAttribute(\\\"data-turbolinks-preview\\\")) return;\\n    if (document.documentElement.hasAttribute(\\\"data-turbo-preview\\\")) return;\\n\\n    var createChart = function() { new Chartkick[\\\"LineChart\\\"](\\\"chart-18\\\", [[0,1],[1,0.9046862884571386],[2,0.8184572805223531],[3,0.740447079376491],[4,0.6698723200400458],[5,0.6060243029572018],[6,0.5482618773571752],[7,0.496005002928806],[8,0.4487289251558338],[9,0.40595890582259236],[10,0.3672654557747622],[11,0.33226002206338917],[12,0.30059108616321456],[13,0.2719406340842985],[14,0.24602096293040498],[15,0.22257179183615933],[16,0.20135764827150984],[17,0.1821655034672103],[18,0.16480263321667651],[19,0.1490946825727582],[20,0.1348839150054439],[21,0.12202762843884314],[22,0.11039672226156384],[23,0.09987440092064777],[24,0.09035500108078105],[25,0.08174293057131259],[26,0.07395170846617038],[27,0.06690309665732405],[28,0.06052631420120374],[29,0.054757326548677626],[30,0.04953820252115872],[31,0.04481653257570515],[32,0.040544902517433146],[33,0.0366804173743531],[34,0.03318427065346224],[35,0.030021354652637913],[36,0.027159907915150452],[37,0.024571196286595126],[38,0.02222922437147157],[39,0.020110474491907594],[40,0.018193670527195845],[41,0.016459564262660844],[42,0.014890742102408393],[43,0.013471450205000299],[44,0.01218743628609688],[45,0.011025806499476841],[46,0.009974895959258302],[47,0.009024151603127504],[48,0.008164026220307962],[49,0.007385882580117174],[50,0.006681906698386443],[51,0.006045029370780126],[52,0.005468855185065464],[53,0.004947598299486455],[54,0.004476024342339253],[55,0.004049397849314701],[56,0.0036634347107828372],[57,0.0033142591515031754],[58,0.0029983648107585145],[59,0.002712579532085612]], {\\\"points\\\":false}); };\\n    if (\\\"Chartkick\\\" in window) {\\n      createChart();\\n    } else {\\n      window.addEventListener(\\\"chartkick:load\\\", createChart, true);\\n    }\\n  })();\\n</script>\""
      ]
     },
     "metadata": {},
     "output_type": "display_data"
    }
   ],
   "source": [
    "user_active_name = [\"用户活跃类型\",\"概率\",\"基础活跃度(次/天)\"]\n",
    "user_active_tab=[\n",
    "    [0,0.05,0.05],\n",
    "    [1,0.15,0.1],\n",
    "    [2,0.3, 0.3],\n",
    "    [3,0.3, 0.5],\n",
    "    [4,0.15,  1],\n",
    "    [5,0.05,  3]\n",
    "]\n",
    "\n",
    "world[:table][:user_active_tab]=user_active_tab\n",
    "\n",
    "\n",
    "puts_header \"用户初始活跃度\", :level=>4\n",
    "puts_table ([user_active_name]+user_active_tab)\n",
    "\n",
    "\n",
    "#参数表\n",
    "user_active_age = []\n",
    "\n",
    "#衰减率 2% 每个月\n",
    "reduction_rate = 0.1/30\n",
    "\n",
    "\n",
    "#初始值 100%\n",
    "cur_value = 1\n",
    "\n",
    "world[:table][:user_active_age]=user_active_age\n",
    "\n",
    "\n",
    "world[:config][:sim_time].times do |month|\n",
    "  user_active_age.push ([month,cur_value])\n",
    "  next_value = cur_value * (1-reduction_rate)\n",
    "  cur_value= next_value\n",
    "end\n",
    "\n",
    "puts_header \"活跃度衰减\", :level=>4\n",
    "layout_double_chart(\n",
    "    line_chart(user_active_age.filter {|x| x[0]%30==0}.map {|x| x[0]=x[0]/30; x},:points=>false),\"\",nil,\"\",\"\"\n",
    ")\n",
    "\n",
    "\n",
    "# 3 - 活跃度来产生行为 action=f(active_rate)，行为在时间上累计之后，就会到更高级别。 level=f(action)\n",
    "\n",
    "# 4 - 在升到更高级别之后，活跃度会增加，base_active_rate = f(level)\n",
    "\n",
    "# 5 - 日拉新量 和 活跃用户数有关，是一个社交的网络效应。 new_user(t) = f(active_user)\n"
   ]
  },
  {
   "cell_type": "code",
   "execution_count": 59,
   "id": "ae3bf960-2d52-423a-9625-ea0276bbd815",
   "metadata": {},
   "outputs": [
    {
     "data": {
      "text/html": [
       "<h4>用户数量</h4>"
      ],
      "text/plain": [
       "\"<h4>用户数量</h4>\""
      ]
     },
     "metadata": {},
     "output_type": "display_data"
    },
    {
     "data": {
      "text/html": [
       "\n",
       "\n",
       "<div id=\"app_2Fefih4FTj\">\n",
       "\n",
       "<el-container>\n",
       "  <el-main>\n",
       "   \n",
       "    <el-row :gutter=\"24\" type=\"flex\" align=\"middle\" justify=\"center\">\n",
       "    <el-col :span=\"1\" style=\"text-align:center\">\n",
       "      <b></b>\n",
       "    </el-col>\n",
       "    \n",
       "      \n",
       "        <el-col :span=\"11\" style=\"text-align:center\">\n",
       "          <b>值</b>\n",
       "          <div id=\"chart-79\" style=\"height: 300px; width: 100%; text-align: center; color: #999; line-height: 300px; font-size: 14px; font-family: 'Lucida Grande', 'Lucida Sans Unicode', Verdana, Arial, Helvetica, sans-serif;\">Loading...</div>\n",
       "\n",
       "\n",
       "        </el-col>\n",
       "      \n",
       "        <el-col :span=\"11\" style=\"text-align:center\">\n",
       "          <b>一阶变化值</b>\n",
       "          <div id=\"chart-80\" style=\"height: 300px; width: 100%; text-align: center; color: #999; line-height: 300px; font-size: 14px; font-family: 'Lucida Grande', 'Lucida Sans Unicode', Verdana, Arial, Helvetica, sans-serif;\">Loading...</div>\n",
       "\n",
       "\n",
       "        </el-col>\n",
       "      \n",
       "    </el-row>\n",
       "   \n",
       "  </el-main>\n",
       "</el-container>\n",
       "</div>\n",
       "\n",
       "\n",
       "<script>\n",
       "  Vue.use(VueChartkick.use(Chart))\n",
       "\n",
       "  app = new Vue({\n",
       "    el: '#app_2Fefih4FTj',\n",
       "  })\n",
       "</script><script>\n",
       "  (function() {\n",
       "    if (document.documentElement.hasAttribute(\"data-turbolinks-preview\")) return;\n",
       "    if (document.documentElement.hasAttribute(\"data-turbo-preview\")) return;\n",
       "\n",
       "    var createChart = function() { new Chartkick[\"LineChart\"](\"chart-80\", [[0,30],[1,0],[2,0],[3,0],[4,0],[5,0],[6,0],[7,0],[8,0],[9,0],[10,0],[11,0],[12,0],[13,0],[14,0],[15,0],[16,0],[17,0],[18,0],[19,0],[20,0],[21,0],[22,0],[23,0],[24,0],[25,0],[26,0],[27,0],[28,0],[29,0],[30,0],[31,0],[32,0],[33,0],[34,0],[35,0],[36,0],[37,0],[38,0],[39,0],[40,0],[41,0],[42,0],[43,0],[44,0],[45,0],[46,0],[47,0],[48,0],[49,0],[50,0],[51,0],[52,0],[53,0],[54,0],[55,0],[56,0],[57,0],[58,0]], {\"points\":false}); };\n",
       "    if (\"Chartkick\" in window) {\n",
       "      createChart();\n",
       "    } else {\n",
       "      window.addEventListener(\"chartkick:load\", createChart, true);\n",
       "    }\n",
       "  })();\n",
       "</script><script>\n",
       "  (function() {\n",
       "    if (document.documentElement.hasAttribute(\"data-turbolinks-preview\")) return;\n",
       "    if (document.documentElement.hasAttribute(\"data-turbo-preview\")) return;\n",
       "\n",
       "    var createChart = function() { new Chartkick[\"LineChart\"](\"chart-79\", [[0,10],[1,310],[2,610],[3,910],[4,1210],[5,1510],[6,1810],[7,2110],[8,2410],[9,2710],[10,3010],[11,3310],[12,3610],[13,3910],[14,4210],[15,4510],[16,4810],[17,5110],[18,5410],[19,5710],[20,6010],[21,6310],[22,6610],[23,6910],[24,7210],[25,7510],[26,7810],[27,8110],[28,8410],[29,8710],[30,9010],[31,9310],[32,9610],[33,9910],[34,10210],[35,10510],[36,10810],[37,11110],[38,11410],[39,11710],[40,12010],[41,12310],[42,12610],[43,12910],[44,13210],[45,13510],[46,13810],[47,14110],[48,14410],[49,14710],[50,15010],[51,15310],[52,15610],[53,15910],[54,16210],[55,16510],[56,16810],[57,17110],[58,17410],[59,17710]], {\"points\":false}); };\n",
       "    if (\"Chartkick\" in window) {\n",
       "      createChart();\n",
       "    } else {\n",
       "      window.addEventListener(\"chartkick:load\", createChart, true);\n",
       "    }\n",
       "  })();\n",
       "</script>"
      ],
      "text/plain": [
       "\"\\n\\n<div id=\\\"app_2Fefih4FTj\\\">\\n\\n<el-container>\\n  <el-main>\\n   \\n    <el-row :gutter=\\\"24\\\" type=\\\"flex\\\" align=\\\"middle\\\" justify=\\\"center\\\">\\n    <el-col :span=\\\"1\\\" style=\\\"text-align:center\\\">\\n      <b></b>\\n    </el-col>\\n    \\n      \\n        <el-col :span=\\\"11\\\" style=\\\"text-align:center\\\">\\n          <b>值</b>\\n          <div id=\\\"chart-79\\\" style=\\\"height: 300px; width: 100%; text-align: center; color: #999; line-height: 300px; font-size: 14px; font-family: 'Lucida Grande', 'Lucida Sans Unicode', Verdana, Arial, Helvetica, sans-serif;\\\">Loading...</div>\\n\\n\\n        </el-col>\\n      \\n        <el-col :span=\\\"11\\\" style=\\\"text-align:center\\\">\\n          <b>一阶变化值</b>\\n          <div id=\\\"chart-80\\\" style=\\\"height: 300px; width: 100%; text-align: center; color: #999; line-height: 300px; font-size: 14px; font-family: 'Lucida Grande', 'Lucida Sans Unicode', Verdana, Arial, Helvetica, sans-serif;\\\">Loading...</div>\\n\\n\\n        </el-col>\\n      \\n    </el-row>\\n   \\n  </el-main>\\n</el-container>\\n</div>\\n\\n\\n<script>\\n  Vue.use(VueChartkick.use(Chart))\\n\\n  app = new Vue({\\n    el: '#app_2Fefih4FTj',\\n  })\\n</script><script>\\n  (function() {\\n    if (document.documentElement.hasAttribute(\\\"data-turbolinks-preview\\\")) return;\\n    if (document.documentElement.hasAttribute(\\\"data-turbo-preview\\\")) return;\\n\\n    var createChart = function() { new Chartkick[\\\"LineChart\\\"](\\\"chart-80\\\", [[0,30],[1,0],[2,0],[3,0],[4,0],[5,0],[6,0],[7,0],[8,0],[9,0],[10,0],[11,0],[12,0],[13,0],[14,0],[15,0],[16,0],[17,0],[18,0],[19,0],[20,0],[21,0],[22,0],[23,0],[24,0],[25,0],[26,0],[27,0],[28,0],[29,0],[30,0],[31,0],[32,0],[33,0],[34,0],[35,0],[36,0],[37,0],[38,0],[39,0],[40,0],[41,0],[42,0],[43,0],[44,0],[45,0],[46,0],[47,0],[48,0],[49,0],[50,0],[51,0],[52,0],[53,0],[54,0],[55,0],[56,0],[57,0],[58,0]], {\\\"points\\\":false}); };\\n    if (\\\"Chartkick\\\" in window) {\\n      createChart();\\n    } else {\\n      window.addEventListener(\\\"chartkick:load\\\", createChart, true);\\n    }\\n  })();\\n</script><script>\\n  (function() {\\n    if (document.documentElement.hasAttribute(\\\"data-turbolinks-preview\\\")) return;\\n    if (document.documentElement.hasAttribute(\\\"data-turbo-preview\\\")) return;\\n\\n    var createChart = function() { new Chartkick[\\\"LineChart\\\"](\\\"chart-79\\\", [[0,10],[1,310],[2,610],[3,910],[4,1210],[5,1510],[6,1810],[7,2110],[8,2410],[9,2710],[10,3010],[11,3310],[12,3610],[13,3910],[14,4210],[15,4510],[16,4810],[17,5110],[18,5410],[19,5710],[20,6010],[21,6310],[22,6610],[23,6910],[24,7210],[25,7510],[26,7810],[27,8110],[28,8410],[29,8710],[30,9010],[31,9310],[32,9610],[33,9910],[34,10210],[35,10510],[36,10810],[37,11110],[38,11410],[39,11710],[40,12010],[41,12310],[42,12610],[43,12910],[44,13210],[45,13510],[46,13810],[47,14110],[48,14410],[49,14710],[50,15010],[51,15310],[52,15610],[53,15910],[54,16210],[55,16510],[56,16810],[57,17110],[58,17410],[59,17710]], {\\\"points\\\":false}); };\\n    if (\\\"Chartkick\\\" in window) {\\n      createChart();\\n    } else {\\n      window.addEventListener(\\\"chartkick:load\\\", createChart, true);\\n    }\\n  })();\\n</script>\""
      ]
     },
     "metadata": {},
     "output_type": "display_data"
    },
    {
     "data": {
      "text/html": [
       "\n",
       "\n",
       "<div id=\"app_K521l2LCwf\">\n",
       "\n",
       "<el-container>\n",
       "  <el-main>\n",
       "   \n",
       "    <el-row :gutter=\"24\" type=\"flex\" align=\"middle\" justify=\"center\">\n",
       "    <el-col :span=\"1\" style=\"text-align:center\">\n",
       "      <b></b>\n",
       "    </el-col>\n",
       "    \n",
       "      \n",
       "        <el-col :span=\"11\" style=\"text-align:center\">\n",
       "          <b>用户等级分布</b>\n",
       "          <div id=\"chart-81\" style=\"height: 300px; width: 100%; text-align: center; color: #999; line-height: 300px; font-size: 14px; font-family: 'Lucida Grande', 'Lucida Sans Unicode', Verdana, Arial, Helvetica, sans-serif;\">Loading...</div>\n",
       "\n",
       "\n",
       "        </el-col>\n",
       "      \n",
       "        <el-col :span=\"11\" style=\"text-align:center\">\n",
       "          <b>用户当前活跃度</b>\n",
       "          <div id=\"chart-82\" style=\"height: 300px; width: 100%; text-align: center; color: #999; line-height: 300px; font-size: 14px; font-family: 'Lucida Grande', 'Lucida Sans Unicode', Verdana, Arial, Helvetica, sans-serif;\">Loading...</div>\n",
       "\n",
       "\n",
       "        </el-col>\n",
       "      \n",
       "        <el-col :span=\"11\" style=\"text-align:center\">\n",
       "          <b>用户年龄分布</b>\n",
       "          <div id=\"chart-83\" style=\"height: 300px; width: 100%; text-align: center; color: #999; line-height: 300px; font-size: 14px; font-family: 'Lucida Grande', 'Lucida Sans Unicode', Verdana, Arial, Helvetica, sans-serif;\">Loading...</div>\n",
       "\n",
       "\n",
       "        </el-col>\n",
       "      \n",
       "    </el-row>\n",
       "   \n",
       "  </el-main>\n",
       "</el-container>\n",
       "</div>\n",
       "\n",
       "\n",
       "<script>\n",
       "  Vue.use(VueChartkick.use(Chart))\n",
       "\n",
       "  app = new Vue({\n",
       "    el: '#app_K521l2LCwf',\n",
       "  })\n",
       "</script><script>\n",
       "  (function() {\n",
       "    if (document.documentElement.hasAttribute(\"data-turbolinks-preview\")) return;\n",
       "    if (document.documentElement.hasAttribute(\"data-turbo-preview\")) return;\n",
       "\n",
       "    var createChart = function() { new Chartkick[\"ColumnChart\"](\"chart-83\", [[1,10],[2,10],[3,10],[4,10],[5,10],[6,10],[7,10],[8,10],[9,10],[10,10],[11,10],[12,10],[13,10],[14,10],[15,10],[16,10],[17,10],[18,10],[19,10],[20,10],[21,10],[22,10],[23,10],[24,10],[25,10],[26,10],[27,10],[28,10],[29,10],[30,10],[31,10],[32,10],[33,10],[34,10],[35,10],[36,10],[37,10],[38,10],[39,10],[40,10],[41,10],[42,10],[43,10],[44,10],[45,10],[46,10],[47,10],[48,10],[49,10],[50,10],[51,10],[52,10],[53,10],[54,10],[55,10],[56,10],[57,10],[58,10],[59,10],[60,10],[61,10],[62,10],[63,10],[64,10],[65,10],[66,10],[67,10],[68,10],[69,10],[70,10],[71,10],[72,10],[73,10],[74,10],[75,10],[76,10],[77,10],[78,10],[79,10],[80,10],[81,10],[82,10],[83,10],[84,10],[85,10],[86,10],[87,10],[88,10],[89,10],[90,10],[91,10],[92,10],[93,10],[94,10],[95,10],[96,10],[97,10],[98,10],[99,10],[100,10],[101,10],[102,10],[103,10],[104,10],[105,10],[106,10],[107,10],[108,10],[109,10],[110,10],[111,10],[112,10],[113,10],[114,10],[115,10],[116,10],[117,10],[118,10],[119,10],[120,10],[121,10],[122,10],[123,10],[124,10],[125,10],[126,10],[127,10],[128,10],[129,10],[130,10],[131,10],[132,10],[133,10],[134,10],[135,10],[136,10],[137,10],[138,10],[139,10],[140,10],[141,10],[142,10],[143,10],[144,10],[145,10],[146,10],[147,10],[148,10],[149,10],[150,10],[151,10],[152,10],[153,10],[154,10],[155,10],[156,10],[157,10],[158,10],[159,10],[160,10],[161,10],[162,10],[163,10],[164,10],[165,10],[166,10],[167,10],[168,10],[169,10],[170,10],[171,10],[172,10],[173,10],[174,10],[175,10],[176,10],[177,10],[178,10],[179,10],[180,10],[181,10],[182,10],[183,10],[184,10],[185,10],[186,10],[187,10],[188,10],[189,10],[190,10],[191,10],[192,10],[193,10],[194,10],[195,10],[196,10],[197,10],[198,10],[199,10],[200,10],[201,10],[202,10],[203,10],[204,10],[205,10],[206,10],[207,10],[208,10],[209,10],[210,10],[211,10],[212,10],[213,10],[214,10],[215,10],[216,10],[217,10],[218,10],[219,10],[220,10],[221,10],[222,10],[223,10],[224,10],[225,10],[226,10],[227,10],[228,10],[229,10],[230,10],[231,10],[232,10],[233,10],[234,10],[235,10],[236,10],[237,10],[238,10],[239,10],[240,10],[241,10],[242,10],[243,10],[244,10],[245,10],[246,10],[247,10],[248,10],[249,10],[250,10],[251,10],[252,10],[253,10],[254,10],[255,10],[256,10],[257,10],[258,10],[259,10],[260,10],[261,10],[262,10],[263,10],[264,10],[265,10],[266,10],[267,10],[268,10],[269,10],[270,10],[271,10],[272,10],[273,10],[274,10],[275,10],[276,10],[277,10],[278,10],[279,10],[280,10],[281,10],[282,10],[283,10],[284,10],[285,10],[286,10],[287,10],[288,10],[289,10],[290,10],[291,10],[292,10],[293,10],[294,10],[295,10],[296,10],[297,10],[298,10],[299,10],[300,10],[301,10],[302,10],[303,10],[304,10],[305,10],[306,10],[307,10],[308,10],[309,10],[310,10],[311,10],[312,10],[313,10],[314,10],[315,10],[316,10],[317,10],[318,10],[319,10],[320,10],[321,10],[322,10],[323,10],[324,10],[325,10],[326,10],[327,10],[328,10],[329,10],[330,10],[331,10],[332,10],[333,10],[334,10],[335,10],[336,10],[337,10],[338,10],[339,10],[340,10],[341,10],[342,10],[343,10],[344,10],[345,10],[346,10],[347,10],[348,10],[349,10],[350,10],[351,10],[352,10],[353,10],[354,10],[355,10],[356,10],[357,10],[358,10],[359,10],[360,10],[361,10],[362,10],[363,10],[364,10],[365,10],[366,10],[367,10],[368,10],[369,10],[370,10],[371,10],[372,10],[373,10],[374,10],[375,10],[376,10],[377,10],[378,10],[379,10],[380,10],[381,10],[382,10],[383,10],[384,10],[385,10],[386,10],[387,10],[388,10],[389,10],[390,10],[391,10],[392,10],[393,10],[394,10],[395,10],[396,10],[397,10],[398,10],[399,10],[400,10],[401,10],[402,10],[403,10],[404,10],[405,10],[406,10],[407,10],[408,10],[409,10],[410,10],[411,10],[412,10],[413,10],[414,10],[415,10],[416,10],[417,10],[418,10],[419,10],[420,10],[421,10],[422,10],[423,10],[424,10],[425,10],[426,10],[427,10],[428,10],[429,10],[430,10],[431,10],[432,10],[433,10],[434,10],[435,10],[436,10],[437,10],[438,10],[439,10],[440,10],[441,10],[442,10],[443,10],[444,10],[445,10],[446,10],[447,10],[448,10],[449,10],[450,10],[451,10],[452,10],[453,10],[454,10],[455,10],[456,10],[457,10],[458,10],[459,10],[460,10],[461,10],[462,10],[463,10],[464,10],[465,10],[466,10],[467,10],[468,10],[469,10],[470,10],[471,10],[472,10],[473,10],[474,10],[475,10],[476,10],[477,10],[478,10],[479,10],[480,10],[481,10],[482,10],[483,10],[484,10],[485,10],[486,10],[487,10],[488,10],[489,10],[490,10],[491,10],[492,10],[493,10],[494,10],[495,10],[496,10],[497,10],[498,10],[499,10],[500,10],[501,10],[502,10],[503,10],[504,10],[505,10],[506,10],[507,10],[508,10],[509,10],[510,10],[511,10],[512,10],[513,10],[514,10],[515,10],[516,10],[517,10],[518,10],[519,10],[520,10],[521,10],[522,10],[523,10],[524,10],[525,10],[526,10],[527,10],[528,10],[529,10],[530,10],[531,10],[532,10],[533,10],[534,10],[535,10],[536,10],[537,10],[538,10],[539,10],[540,10],[541,10],[542,10],[543,10],[544,10],[545,10],[546,10],[547,10],[548,10],[549,10],[550,10],[551,10],[552,10],[553,10],[554,10],[555,10],[556,10],[557,10],[558,10],[559,10],[560,10],[561,10],[562,10],[563,10],[564,10],[565,10],[566,10],[567,10],[568,10],[569,10],[570,10],[571,10],[572,10],[573,10],[574,10],[575,10],[576,10],[577,10],[578,10],[579,10],[580,10],[581,10],[582,10],[583,10],[584,10],[585,10],[586,10],[587,10],[588,10],[589,10],[590,10],[591,10],[592,10],[593,10],[594,10],[595,10],[596,10],[597,10],[598,10],[599,10],[600,10],[601,10],[602,10],[603,10],[604,10],[605,10],[606,10],[607,10],[608,10],[609,10],[610,10],[611,10],[612,10],[613,10],[614,10],[615,10],[616,10],[617,10],[618,10],[619,10],[620,10],[621,10],[622,10],[623,10],[624,10],[625,10],[626,10],[627,10],[628,10],[629,10],[630,10],[631,10],[632,10],[633,10],[634,10],[635,10],[636,10],[637,10],[638,10],[639,10],[640,10],[641,10],[642,10],[643,10],[644,10],[645,10],[646,10],[647,10],[648,10],[649,10],[650,10],[651,10],[652,10],[653,10],[654,10],[655,10],[656,10],[657,10],[658,10],[659,10],[660,10],[661,10],[662,10],[663,10],[664,10],[665,10],[666,10],[667,10],[668,10],[669,10],[670,10],[671,10],[672,10],[673,10],[674,10],[675,10],[676,10],[677,10],[678,10],[679,10],[680,10],[681,10],[682,10],[683,10],[684,10],[685,10],[686,10],[687,10],[688,10],[689,10],[690,10],[691,10],[692,10],[693,10],[694,10],[695,10],[696,10],[697,10],[698,10],[699,10],[700,10],[701,10],[702,10],[703,10],[704,10],[705,10],[706,10],[707,10],[708,10],[709,10],[710,10],[711,10],[712,10],[713,10],[714,10],[715,10],[716,10],[717,10],[718,10],[719,10],[720,10],[721,10],[722,10],[723,10],[724,10],[725,10],[726,10],[727,10],[728,10],[729,10],[730,10],[731,10],[732,10],[733,10],[734,10],[735,10],[736,10],[737,10],[738,10],[739,10],[740,10],[741,10],[742,10],[743,10],[744,10],[745,10],[746,10],[747,10],[748,10],[749,10],[750,10],[751,10],[752,10],[753,10],[754,10],[755,10],[756,10],[757,10],[758,10],[759,10],[760,10],[761,10],[762,10],[763,10],[764,10],[765,10],[766,10],[767,10],[768,10],[769,10],[770,10],[771,10],[772,10],[773,10],[774,10],[775,10],[776,10],[777,10],[778,10],[779,10],[780,10],[781,10],[782,10],[783,10],[784,10],[785,10],[786,10],[787,10],[788,10],[789,10],[790,10],[791,10],[792,10],[793,10],[794,10],[795,10],[796,10],[797,10],[798,10],[799,10],[800,10],[801,10],[802,10],[803,10],[804,10],[805,10],[806,10],[807,10],[808,10],[809,10],[810,10],[811,10],[812,10],[813,10],[814,10],[815,10],[816,10],[817,10],[818,10],[819,10],[820,10],[821,10],[822,10],[823,10],[824,10],[825,10],[826,10],[827,10],[828,10],[829,10],[830,10],[831,10],[832,10],[833,10],[834,10],[835,10],[836,10],[837,10],[838,10],[839,10],[840,10],[841,10],[842,10],[843,10],[844,10],[845,10],[846,10],[847,10],[848,10],[849,10],[850,10],[851,10],[852,10],[853,10],[854,10],[855,10],[856,10],[857,10],[858,10],[859,10],[860,10],[861,10],[862,10],[863,10],[864,10],[865,10],[866,10],[867,10],[868,10],[869,10],[870,10],[871,10],[872,10],[873,10],[874,10],[875,10],[876,10],[877,10],[878,10],[879,10],[880,10],[881,10],[882,10],[883,10],[884,10],[885,10],[886,10],[887,10],[888,10],[889,10],[890,10],[891,10],[892,10],[893,10],[894,10],[895,10],[896,10],[897,10],[898,10],[899,10],[900,10],[901,10],[902,10],[903,10],[904,10],[905,10],[906,10],[907,10],[908,10],[909,10],[910,10],[911,10],[912,10],[913,10],[914,10],[915,10],[916,10],[917,10],[918,10],[919,10],[920,10],[921,10],[922,10],[923,10],[924,10],[925,10],[926,10],[927,10],[928,10],[929,10],[930,10],[931,10],[932,10],[933,10],[934,10],[935,10],[936,10],[937,10],[938,10],[939,10],[940,10],[941,10],[942,10],[943,10],[944,10],[945,10],[946,10],[947,10],[948,10],[949,10],[950,10],[951,10],[952,10],[953,10],[954,10],[955,10],[956,10],[957,10],[958,10],[959,10],[960,10],[961,10],[962,10],[963,10],[964,10],[965,10],[966,10],[967,10],[968,10],[969,10],[970,10],[971,10],[972,10],[973,10],[974,10],[975,10],[976,10],[977,10],[978,10],[979,10],[980,10],[981,10],[982,10],[983,10],[984,10],[985,10],[986,10],[987,10],[988,10],[989,10],[990,10],[991,10],[992,10],[993,10],[994,10],[995,10],[996,10],[997,10],[998,10],[999,10],[1000,10],[1001,10],[1002,10],[1003,10],[1004,10],[1005,10],[1006,10],[1007,10],[1008,10],[1009,10],[1010,10],[1011,10],[1012,10],[1013,10],[1014,10],[1015,10],[1016,10],[1017,10],[1018,10],[1019,10],[1020,10],[1021,10],[1022,10],[1023,10],[1024,10],[1025,10],[1026,10],[1027,10],[1028,10],[1029,10],[1030,10],[1031,10],[1032,10],[1033,10],[1034,10],[1035,10],[1036,10],[1037,10],[1038,10],[1039,10],[1040,10],[1041,10],[1042,10],[1043,10],[1044,10],[1045,10],[1046,10],[1047,10],[1048,10],[1049,10],[1050,10],[1051,10],[1052,10],[1053,10],[1054,10],[1055,10],[1056,10],[1057,10],[1058,10],[1059,10],[1060,10],[1061,10],[1062,10],[1063,10],[1064,10],[1065,10],[1066,10],[1067,10],[1068,10],[1069,10],[1070,10],[1071,10],[1072,10],[1073,10],[1074,10],[1075,10],[1076,10],[1077,10],[1078,10],[1079,10],[1080,10],[1081,10],[1082,10],[1083,10],[1084,10],[1085,10],[1086,10],[1087,10],[1088,10],[1089,10],[1090,10],[1091,10],[1092,10],[1093,10],[1094,10],[1095,10],[1096,10],[1097,10],[1098,10],[1099,10],[1100,10],[1101,10],[1102,10],[1103,10],[1104,10],[1105,10],[1106,10],[1107,10],[1108,10],[1109,10],[1110,10],[1111,10],[1112,10],[1113,10],[1114,10],[1115,10],[1116,10],[1117,10],[1118,10],[1119,10],[1120,10],[1121,10],[1122,10],[1123,10],[1124,10],[1125,10],[1126,10],[1127,10],[1128,10],[1129,10],[1130,10],[1131,10],[1132,10],[1133,10],[1134,10],[1135,10],[1136,10],[1137,10],[1138,10],[1139,10],[1140,10],[1141,10],[1142,10],[1143,10],[1144,10],[1145,10],[1146,10],[1147,10],[1148,10],[1149,10],[1150,10],[1151,10],[1152,10],[1153,10],[1154,10],[1155,10],[1156,10],[1157,10],[1158,10],[1159,10],[1160,10],[1161,10],[1162,10],[1163,10],[1164,10],[1165,10],[1166,10],[1167,10],[1168,10],[1169,10],[1170,10],[1171,10],[1172,10],[1173,10],[1174,10],[1175,10],[1176,10],[1177,10],[1178,10],[1179,10],[1180,10],[1181,10],[1182,10],[1183,10],[1184,10],[1185,10],[1186,10],[1187,10],[1188,10],[1189,10],[1190,10],[1191,10],[1192,10],[1193,10],[1194,10],[1195,10],[1196,10],[1197,10],[1198,10],[1199,10],[1200,10],[1201,10],[1202,10],[1203,10],[1204,10],[1205,10],[1206,10],[1207,10],[1208,10],[1209,10],[1210,10],[1211,10],[1212,10],[1213,10],[1214,10],[1215,10],[1216,10],[1217,10],[1218,10],[1219,10],[1220,10],[1221,10],[1222,10],[1223,10],[1224,10],[1225,10],[1226,10],[1227,10],[1228,10],[1229,10],[1230,10],[1231,10],[1232,10],[1233,10],[1234,10],[1235,10],[1236,10],[1237,10],[1238,10],[1239,10],[1240,10],[1241,10],[1242,10],[1243,10],[1244,10],[1245,10],[1246,10],[1247,10],[1248,10],[1249,10],[1250,10],[1251,10],[1252,10],[1253,10],[1254,10],[1255,10],[1256,10],[1257,10],[1258,10],[1259,10],[1260,10],[1261,10],[1262,10],[1263,10],[1264,10],[1265,10],[1266,10],[1267,10],[1268,10],[1269,10],[1270,10],[1271,10],[1272,10],[1273,10],[1274,10],[1275,10],[1276,10],[1277,10],[1278,10],[1279,10],[1280,10],[1281,10],[1282,10],[1283,10],[1284,10],[1285,10],[1286,10],[1287,10],[1288,10],[1289,10],[1290,10],[1291,10],[1292,10],[1293,10],[1294,10],[1295,10],[1296,10],[1297,10],[1298,10],[1299,10],[1300,10],[1301,10],[1302,10],[1303,10],[1304,10],[1305,10],[1306,10],[1307,10],[1308,10],[1309,10],[1310,10],[1311,10],[1312,10],[1313,10],[1314,10],[1315,10],[1316,10],[1317,10],[1318,10],[1319,10],[1320,10],[1321,10],[1322,10],[1323,10],[1324,10],[1325,10],[1326,10],[1327,10],[1328,10],[1329,10],[1330,10],[1331,10],[1332,10],[1333,10],[1334,10],[1335,10],[1336,10],[1337,10],[1338,10],[1339,10],[1340,10],[1341,10],[1342,10],[1343,10],[1344,10],[1345,10],[1346,10],[1347,10],[1348,10],[1349,10],[1350,10],[1351,10],[1352,10],[1353,10],[1354,10],[1355,10],[1356,10],[1357,10],[1358,10],[1359,10],[1360,10],[1361,10],[1362,10],[1363,10],[1364,10],[1365,10],[1366,10],[1367,10],[1368,10],[1369,10],[1370,10],[1371,10],[1372,10],[1373,10],[1374,10],[1375,10],[1376,10],[1377,10],[1378,10],[1379,10],[1380,10],[1381,10],[1382,10],[1383,10],[1384,10],[1385,10],[1386,10],[1387,10],[1388,10],[1389,10],[1390,10],[1391,10],[1392,10],[1393,10],[1394,10],[1395,10],[1396,10],[1397,10],[1398,10],[1399,10],[1400,10],[1401,10],[1402,10],[1403,10],[1404,10],[1405,10],[1406,10],[1407,10],[1408,10],[1409,10],[1410,10],[1411,10],[1412,10],[1413,10],[1414,10],[1415,10],[1416,10],[1417,10],[1418,10],[1419,10],[1420,10],[1421,10],[1422,10],[1423,10],[1424,10],[1425,10],[1426,10],[1427,10],[1428,10],[1429,10],[1430,10],[1431,10],[1432,10],[1433,10],[1434,10],[1435,10],[1436,10],[1437,10],[1438,10],[1439,10],[1440,10],[1441,10],[1442,10],[1443,10],[1444,10],[1445,10],[1446,10],[1447,10],[1448,10],[1449,10],[1450,10],[1451,10],[1452,10],[1453,10],[1454,10],[1455,10],[1456,10],[1457,10],[1458,10],[1459,10],[1460,10],[1461,10],[1462,10],[1463,10],[1464,10],[1465,10],[1466,10],[1467,10],[1468,10],[1469,10],[1470,10],[1471,10],[1472,10],[1473,10],[1474,10],[1475,10],[1476,10],[1477,10],[1478,10],[1479,10],[1480,10],[1481,10],[1482,10],[1483,10],[1484,10],[1485,10],[1486,10],[1487,10],[1488,10],[1489,10],[1490,10],[1491,10],[1492,10],[1493,10],[1494,10],[1495,10],[1496,10],[1497,10],[1498,10],[1499,10],[1500,10],[1501,10],[1502,10],[1503,10],[1504,10],[1505,10],[1506,10],[1507,10],[1508,10],[1509,10],[1510,10],[1511,10],[1512,10],[1513,10],[1514,10],[1515,10],[1516,10],[1517,10],[1518,10],[1519,10],[1520,10],[1521,10],[1522,10],[1523,10],[1524,10],[1525,10],[1526,10],[1527,10],[1528,10],[1529,10],[1530,10],[1531,10],[1532,10],[1533,10],[1534,10],[1535,10],[1536,10],[1537,10],[1538,10],[1539,10],[1540,10],[1541,10],[1542,10],[1543,10],[1544,10],[1545,10],[1546,10],[1547,10],[1548,10],[1549,10],[1550,10],[1551,10],[1552,10],[1553,10],[1554,10],[1555,10],[1556,10],[1557,10],[1558,10],[1559,10],[1560,10],[1561,10],[1562,10],[1563,10],[1564,10],[1565,10],[1566,10],[1567,10],[1568,10],[1569,10],[1570,10],[1571,10],[1572,10],[1573,10],[1574,10],[1575,10],[1576,10],[1577,10],[1578,10],[1579,10],[1580,10],[1581,10],[1582,10],[1583,10],[1584,10],[1585,10],[1586,10],[1587,10],[1588,10],[1589,10],[1590,10],[1591,10],[1592,10],[1593,10],[1594,10],[1595,10],[1596,10],[1597,10],[1598,10],[1599,10],[1600,10],[1601,10],[1602,10],[1603,10],[1604,10],[1605,10],[1606,10],[1607,10],[1608,10],[1609,10],[1610,10],[1611,10],[1612,10],[1613,10],[1614,10],[1615,10],[1616,10],[1617,10],[1618,10],[1619,10],[1620,10],[1621,10],[1622,10],[1623,10],[1624,10],[1625,10],[1626,10],[1627,10],[1628,10],[1629,10],[1630,10],[1631,10],[1632,10],[1633,10],[1634,10],[1635,10],[1636,10],[1637,10],[1638,10],[1639,10],[1640,10],[1641,10],[1642,10],[1643,10],[1644,10],[1645,10],[1646,10],[1647,10],[1648,10],[1649,10],[1650,10],[1651,10],[1652,10],[1653,10],[1654,10],[1655,10],[1656,10],[1657,10],[1658,10],[1659,10],[1660,10],[1661,10],[1662,10],[1663,10],[1664,10],[1665,10],[1666,10],[1667,10],[1668,10],[1669,10],[1670,10],[1671,10],[1672,10],[1673,10],[1674,10],[1675,10],[1676,10],[1677,10],[1678,10],[1679,10],[1680,10],[1681,10],[1682,10],[1683,10],[1684,10],[1685,10],[1686,10],[1687,10],[1688,10],[1689,10],[1690,10],[1691,10],[1692,10],[1693,10],[1694,10],[1695,10],[1696,10],[1697,10],[1698,10],[1699,10],[1700,10],[1701,10],[1702,10],[1703,10],[1704,10],[1705,10],[1706,10],[1707,10],[1708,10],[1709,10],[1710,10],[1711,10],[1712,10],[1713,10],[1714,10],[1715,10],[1716,10],[1717,10],[1718,10],[1719,10],[1720,10],[1721,10],[1722,10],[1723,10],[1724,10],[1725,10],[1726,10],[1727,10],[1728,10],[1729,10],[1730,10],[1731,10],[1732,10],[1733,10],[1734,10],[1735,10],[1736,10],[1737,10],[1738,10],[1739,10],[1740,10],[1741,10],[1742,10],[1743,10],[1744,10],[1745,10],[1746,10],[1747,10],[1748,10],[1749,10],[1750,10],[1751,10],[1752,10],[1753,10],[1754,10],[1755,10],[1756,10],[1757,10],[1758,10],[1759,10],[1760,10],[1761,10],[1762,10],[1763,10],[1764,10],[1765,10],[1766,10],[1767,10],[1768,10],[1769,10],[1770,10],[1771,10],[1772,10],[1773,10],[1774,10],[1775,10],[1776,10],[1777,10],[1778,10],[1779,10],[1780,10],[1781,10],[1782,10],[1783,10],[1784,10],[1785,10],[1786,10],[1787,10],[1788,10],[1789,10],[1790,10],[1791,10],[1792,10],[1793,10],[1794,10],[1795,10],[1796,10],[1797,10],[1798,10],[1799,20]], {}); };\n",
       "    if (\"Chartkick\" in window) {\n",
       "      createChart();\n",
       "    } else {\n",
       "      window.addEventListener(\"chartkick:load\", createChart, true);\n",
       "    }\n",
       "  })();\n",
       "</script><script>\n",
       "  (function() {\n",
       "    if (document.documentElement.hasAttribute(\"data-turbolinks-preview\")) return;\n",
       "    if (document.documentElement.hasAttribute(\"data-turbo-preview\")) return;\n",
       "\n",
       "    var createChart = function() { new Chartkick[\"ColumnChart\"](\"chart-82\", [[0.01,73],[0.02,50],[0.03,28],[0.04,22],[0.05,25],[0.06,19],[0.07,13],[0.08,15],[0.09,16],[0.1,17],[0.11,14],[0.12,8],[0.13,8],[0.14,6],[0.15,6],[0.16,2],[0.17,5],[0.18,9],[0.19,6],[0.2,8],[0.21,8],[0.22,5],[0.23,8],[0.24,5],[0.25,6],[0.26,5],[0.27,9],[0.28,10],[0.29,7],[0.3,5],[0.31,1],[0.32,3],[0.33,4],[0.34,2],[0.35,2],[0.37,4],[0.39,1],[0.4,2],[0.41,1],[0.42,1],[0.43,5],[0.44,2],[0.46,4],[0.47,1],[0.48,5],[0.49,1],[0.5,11],[0.53,2],[0.56,1],[0.6,1],[0.67,2],[0.7,2],[0.74,1],[0.77,3],[0.8,2],[0.83,2],[0.85,1],[0.86,1],[0.89,2],[0.91,2],[0.95,3],[0.97,2],[0.99,1],[1.0,1],[1.49,1],[2.8,1],[2.85,1],[2.97,1]], {}); };\n",
       "    if (\"Chartkick\" in window) {\n",
       "      createChart();\n",
       "    } else {\n",
       "      window.addEventListener(\"chartkick:load\", createChart, true);\n",
       "    }\n",
       "  })();\n",
       "</script><script>\n",
       "  (function() {\n",
       "    if (document.documentElement.hasAttribute(\"data-turbolinks-preview\")) return;\n",
       "    if (document.documentElement.hasAttribute(\"data-turbo-preview\")) return;\n",
       "\n",
       "    var createChart = function() { new Chartkick[\"ColumnChart\"](\"chart-81\", [[0,18000]], {}); };\n",
       "    if (\"Chartkick\" in window) {\n",
       "      createChart();\n",
       "    } else {\n",
       "      window.addEventListener(\"chartkick:load\", createChart, true);\n",
       "    }\n",
       "  })();\n",
       "</script>"
      ],
      "text/plain": [
       "\"\\n\\n<div id=\\\"app_K521l2LCwf\\\">\\n\\n<el-container>\\n  <el-main>\\n   \\n    <el-row :gutter=\\\"24\\\" type=\\\"flex\\\" align=\\\"middle\\\" justify=\\\"center\\\">\\n    <el-col :span=\\\"1\\\" style=\\\"text-align:center\\\">\\n      <b></b>\\n    </el-col>\\n    \\n      \\n        <el-col :span=\\\"11\\\" style=\\\"text-align:center\\\">\\n          <b>用户等级分布</b>\\n          <div id=\\\"chart-81\\\" style=\\\"height: 300px; width: 100%; text-align: center; color: #999; line-height: 300px; font-size: 14px; font-family: 'Lucida Grande', 'Lucida Sans Unicode', Verdana, Arial, Helvetica, sans-serif;\\\">Loading...</div>\\n\\n\\n        </el-col>\\n      \\n        <el-col :span=\\\"11\\\" style=\\\"text-align:center\\\">\\n          <b>用户当前活跃度</b>\\n          <div id=\\\"chart-82\\\" style=\\\"height: 300px; width: 100%; text-align: center; color: #999; line-height: 300px; font-size: 14px; font-family: 'Lucida Grande', 'Lucida Sans Unicode', Verdana, Arial, Helvetica, sans-serif;\\\">Loading...</div>\\n\\n\\n        </el-col>\\n      \\n        <el-col :span=\\\"11\\\" style=\\\"text-align:center\\\">\\n          <b>用户年龄分布</b>\\n          <div id=\\\"chart-83\\\" style=\\\"height: 300px; width: 100%; text-align: center; color: #999; line-height: 300px; font-size: 14px; font-family: 'Lucida Grande', 'Lucida Sans Unicode', Verdana, Arial, Helvetica, sans-serif;\\\">Loading...</div>\\n\\n\\n        </el-col>\\n      \\n    </el-row>\\n   \\n  </el-main>\\n</el-container>\\n</div>\\n\\n\\n<script>\\n  Vue.use(VueChartkick.use(Chart))\\n\\n  app = new Vue({\\n    el: '#app_K521l2LCwf',\\n  })\\n</script><script>\\n  (function() {\\n    if (document.documentElement.hasAttribute(\\\"data-turbolinks-preview\\\")) return;\\n    if (document.documentElement.hasAttribute(\\\"data-turbo-preview\\\")) return;\\n\\n    var createChart = function() { new Chartkick[\\\"ColumnChart\\\"](\\\"chart-83\\\", [[1,10],[2,10],[3,10],[4,10],[5,10],[6,10],[7,10],[8,10],[9,10],[10,10],[11,10],[12,10],[13,10],[14,10],[15,10],[16,10],[17,10],[18,10],[19,10],[20,10],[21,10],[22,10],[23,10],[24,10],[25,10],[26,10],[27,10],[28,10],[29,10],[30,10],[31,10],[32,10],[33,10],[34,10],[35,10],[36,10],[37,10],[38,10],[39,10],[40,10],[41,10],[42,10],[43,10],[44,10],[45,10],[46,10],[47,10],[48,10],[49,10],[50,10],[51,10],[52,10],[53,10],[54,10],[55,10],[56,10],[57,10],[58,10],[59,10],[60,10],[61,10],[62,10],[63,10],[64,10],[65,10],[66,10],[67,10],[68,10],[69,10],[70,10],[71,10],[72,10],[73,10],[74,10],[75,10],[76,10],[77,10],[78,10],[79,10],[80,10],[81,10],[82,10],[83,10],[84,10],[85,10],[86,10],[87,10],[88,10],[89,10],[90,10],[91,10],[92,10],[93,10],[94,10],[95,10],[96,10],[97,10],[98,10],[99,10],[100,10],[101,10],[102,10],[103,10],[104,10],[105,10],[106,10],[107,10],[108,10],[109,10],[110,10],[111,10],[112,10],[113,10],[114,10],[115,10],[116,10],[117,10],[118,10],[119,10],[120,10],[121,10],[122,10],[123,10],[124,10],[125,10],[126,10],[127,10],[128,10],[129,10],[130,10],[131,10],[132,10],[133,10],[134,10],[135,10],[136,10],[137,10],[138,10],[139,10],[140,10],[141,10],[142,10],[143,10],[144,10],[145,10],[146,10],[147,10],[148,10],[149,10],[150,10],[151,10],[152,10],[153,10],[154,10],[155,10],[156,10],[157,10],[158,10],[159,10],[160,10],[161,10],[162,10],[163,10],[164,10],[165,10],[166,10],[167,10],[168,10],[169,10],[170,10],[171,10],[172,10],[173,10],[174,10],[175,10],[176,10],[177,10],[178,10],[179,10],[180,10],[181,10],[182,10],[183,10],[184,10],[185,10],[186,10],[187,10],[188,10],[189,10],[190,10],[191,10],[192,10],[193,10],[194,10],[195,10],[196,10],[197,10],[198,10],[199,10],[200,10],[201,10],[202,10],[203,10],[204,10],[205,10],[206,10],[207,10],[208,10],[209,10],[210,10],[211,10],[212,10],[213,10],[214,10],[215,10],[216,10],[217,10],[218,10],[219,10],[220,10],[221,10],[222,10],[223,10],[224,10],[225,10],[226,10],[227,10],[228,10],[229,10],[230,10],[231,10],[232,10],[233,10],[234,10],[235,10],[236,10],[237,10],[238,10],[239,10],[240,10],[241,10],[242,10],[243,10],[244,10],[245,10],[246,10],[247,10],[248,10],[249,10],[250,10],[251,10],[252,10],[253,10],[254,10],[255,10],[256,10],[257,10],[258,10],[259,10],[260,10],[261,10],[262,10],[263,10],[264,10],[265,10],[266,10],[267,10],[268,10],[269,10],[270,10],[271,10],[272,10],[273,10],[274,10],[275,10],[276,10],[277,10],[278,10],[279,10],[280,10],[281,10],[282,10],[283,10],[284,10],[285,10],[286,10],[287,10],[288,10],[289,10],[290,10],[291,10],[292,10],[293,10],[294,10],[295,10],[296,10],[297,10],[298,10],[299,10],[300,10],[301,10],[302,10],[303,10],[304,10],[305,10],[306,10],[307,10],[308,10],[309,10],[310,10],[311,10],[312,10],[313,10],[314,10],[315,10],[316,10],[317,10],[318,10],[319,10],[320,10],[321,10],[322,10],[323,10],[324,10],[325,10],[326,10],[327,10],[328,10],[329,10],[330,10],[331,10],[332,10],[333,10],[334,10],[335,10],[336,10],[337,10],[338,10],[339,10],[340,10],[341,10],[342,10],[343,10],[344,10],[345,10],[346,10],[347,10],[348,10],[349,10],[350,10],[351,10],[352,10],[353,10],[354,10],[355,10],[356,10],[357,10],[358,10],[359,10],[360,10],[361,10],[362,10],[363,10],[364,10],[365,10],[366,10],[367,10],[368,10],[369,10],[370,10],[371,10],[372,10],[373,10],[374,10],[375,10],[376,10],[377,10],[378,10],[379,10],[380,10],[381,10],[382,10],[383,10],[384,10],[385,10],[386,10],[387,10],[388,10],[389,10],[390,10],[391,10],[392,10],[393,10],[394,10],[395,10],[396,10],[397,10],[398,10],[399,10],[400,10],[401,10],[402,10],[403,10],[404,10],[405,10],[406,10],[407,10],[408,10],[409,10],[410,10],[411,10],[412,10],[413,10],[414,10],[415,10],[416,10],[417,10],[418,10],[419,10],[420,10],[421,10],[422,10],[423,10],[424,10],[425,10],[426,10],[427,10],[428,10],[429,10],[430,10],[431,10],[432,10],[433,10],[434,10],[435,10],[436,10],[437,10],[438,10],[439,10],[440,10],[441,10],[442,10],[443,10],[444,10],[445,10],[446,10],[447,10],[448,10],[449,10],[450,10],[451,10],[452,10],[453,10],[454,10],[455,10],[456,10],[457,10],[458,10],[459,10],[460,10],[461,10],[462,10],[463,10],[464,10],[465,10],[466,10],[467,10],[468,10],[469,10],[470,10],[471,10],[472,10],[473,10],[474,10],[475,10],[476,10],[477,10],[478,10],[479,10],[480,10],[481,10],[482,10],[483,10],[484,10],[485,10],[486,10],[487,10],[488,10],[489,10],[490,10],[491,10],[492,10],[493,10],[494,10],[495,10],[496,10],[497,10],[498,10],[499,10],[500,10],[501,10],[502,10],[503,10],[504,10],[505,10],[506,10],[507,10],[508,10],[509,10],[510,10],[511,10],[512,10],[513,10],[514,10],[515,10],[516,10],[517,10],[518,10],[519,10],[520,10],[521,10],[522,10],[523,10],[524,10],[525,10],[526,10],[527,10],[528,10],[529,10],[530,10],[531,10],[532,10],[533,10],[534,10],[535,10],[536,10],[537,10],[538,10],[539,10],[540,10],[541,10],[542,10],[543,10],[544,10],[545,10],[546,10],[547,10],[548,10],[549,10],[550,10],[551,10],[552,10],[553,10],[554,10],[555,10],[556,10],[557,10],[558,10],[559,10],[560,10],[561,10],[562,10],[563,10],[564,10],[565,10],[566,10],[567,10],[568,10],[569,10],[570,10],[571,10],[572,10],[573,10],[574,10],[575,10],[576,10],[577,10],[578,10],[579,10],[580,10],[581,10],[582,10],[583,10],[584,10],[585,10],[586,10],[587,10],[588,10],[589,10],[590,10],[591,10],[592,10],[593,10],[594,10],[595,10],[596,10],[597,10],[598,10],[599,10],[600,10],[601,10],[602,10],[603,10],[604,10],[605,10],[606,10],[607,10],[608,10],[609,10],[610,10],[611,10],[612,10],[613,10],[614,10],[615,10],[616,10],[617,10],[618,10],[619,10],[620,10],[621,10],[622,10],[623,10],[624,10],[625,10],[626,10],[627,10],[628,10],[629,10],[630,10],[631,10],[632,10],[633,10],[634,10],[635,10],[636,10],[637,10],[638,10],[639,10],[640,10],[641,10],[642,10],[643,10],[644,10],[645,10],[646,10],[647,10],[648,10],[649,10],[650,10],[651,10],[652,10],[653,10],[654,10],[655,10],[656,10],[657,10],[658,10],[659,10],[660,10],[661,10],[662,10],[663,10],[664,10],[665,10],[666,10],[667,10],[668,10],[669,10],[670,10],[671,10],[672,10],[673,10],[674,10],[675,10],[676,10],[677,10],[678,10],[679,10],[680,10],[681,10],[682,10],[683,10],[684,10],[685,10],[686,10],[687,10],[688,10],[689,10],[690,10],[691,10],[692,10],[693,10],[694,10],[695,10],[696,10],[697,10],[698,10],[699,10],[700,10],[701,10],[702,10],[703,10],[704,10],[705,10],[706,10],[707,10],[708,10],[709,10],[710,10],[711,10],[712,10],[713,10],[714,10],[715,10],[716,10],[717,10],[718,10],[719,10],[720,10],[721,10],[722,10],[723,10],[724,10],[725,10],[726,10],[727,10],[728,10],[729,10],[730,10],[731,10],[732,10],[733,10],[734,10],[735,10],[736,10],[737,10],[738,10],[739,10],[740,10],[741,10],[742,10],[743,10],[744,10],[745,10],[746,10],[747,10],[748,10],[749,10],[750,10],[751,10],[752,10],[753,10],[754,10],[755,10],[756,10],[757,10],[758,10],[759,10],[760,10],[761,10],[762,10],[763,10],[764,10],[765,10],[766,10],[767,10],[768,10],[769,10],[770,10],[771,10],[772,10],[773,10],[774,10],[775,10],[776,10],[777,10],[778,10],[779,10],[780,10],[781,10],[782,10],[783,10],[784,10],[785,10],[786,10],[787,10],[788,10],[789,10],[790,10],[791,10],[792,10],[793,10],[794,10],[795,10],[796,10],[797,10],[798,10],[799,10],[800,10],[801,10],[802,10],[803,10],[804,10],[805,10],[806,10],[807,10],[808,10],[809,10],[810,10],[811,10],[812,10],[813,10],[814,10],[815,10],[816,10],[817,10],[818,10],[819,10],[820,10],[821,10],[822,10],[823,10],[824,10],[825,10],[826,10],[827,10],[828,10],[829,10],[830,10],[831,10],[832,10],[833,10],[834,10],[835,10],[836,10],[837,10],[838,10],[839,10],[840,10],[841,10],[842,10],[843,10],[844,10],[845,10],[846,10],[847,10],[848,10],[849,10],[850,10],[851,10],[852,10],[853,10],[854,10],[855,10],[856,10],[857,10],[858,10],[859,10],[860,10],[861,10],[862,10],[863,10],[864,10],[865,10],[866,10],[867,10],[868,10],[869,10],[870,10],[871,10],[872,10],[873,10],[874,10],[875,10],[876,10],[877,10],[878,10],[879,10],[880,10],[881,10],[882,10],[883,10],[884,10],[885,10],[886,10],[887,10],[888,10],[889,10],[890,10],[891,10],[892,10],[893,10],[894,10],[895,10],[896,10],[897,10],[898,10],[899,10],[900,10],[901,10],[902,10],[903,10],[904,10],[905,10],[906,10],[907,10],[908,10],[909,10],[910,10],[911,10],[912,10],[913,10],[914,10],[915,10],[916,10],[917,10],[918,10],[919,10],[920,10],[921,10],[922,10],[923,10],[924,10],[925,10],[926,10],[927,10],[928,10],[929,10],[930,10],[931,10],[932,10],[933,10],[934,10],[935,10],[936,10],[937,10],[938,10],[939,10],[940,10],[941,10],[942,10],[943,10],[944,10],[945,10],[946,10],[947,10],[948,10],[949,10],[950,10],[951,10],[952,10],[953,10],[954,10],[955,10],[956,10],[957,10],[958,10],[959,10],[960,10],[961,10],[962,10],[963,10],[964,10],[965,10],[966,10],[967,10],[968,10],[969,10],[970,10],[971,10],[972,10],[973,10],[974,10],[975,10],[976,10],[977,10],[978,10],[979,10],[980,10],[981,10],[982,10],[983,10],[984,10],[985,10],[986,10],[987,10],[988,10],[989,10],[990,10],[991,10],[992,10],[993,10],[994,10],[995,10],[996,10],[997,10],[998,10],[999,10],[1000,10],[1001,10],[1002,10],[1003,10],[1004,10],[1005,10],[1006,10],[1007,10],[1008,10],[1009,10],[1010,10],[1011,10],[1012,10],[1013,10],[1014,10],[1015,10],[1016,10],[1017,10],[1018,10],[1019,10],[1020,10],[1021,10],[1022,10],[1023,10],[1024,10],[1025,10],[1026,10],[1027,10],[1028,10],[1029,10],[1030,10],[1031,10],[1032,10],[1033,10],[1034,10],[1035,10],[1036,10],[1037,10],[1038,10],[1039,10],[1040,10],[1041,10],[1042,10],[1043,10],[1044,10],[1045,10],[1046,10],[1047,10],[1048,10],[1049,10],[1050,10],[1051,10],[1052,10],[1053,10],[1054,10],[1055,10],[1056,10],[1057,10],[1058,10],[1059,10],[1060,10],[1061,10],[1062,10],[1063,10],[1064,10],[1065,10],[1066,10],[1067,10],[1068,10],[1069,10],[1070,10],[1071,10],[1072,10],[1073,10],[1074,10],[1075,10],[1076,10],[1077,10],[1078,10],[1079,10],[1080,10],[1081,10],[1082,10],[1083,10],[1084,10],[1085,10],[1086,10],[1087,10],[1088,10],[1089,10],[1090,10],[1091,10],[1092,10],[1093,10],[1094,10],[1095,10],[1096,10],[1097,10],[1098,10],[1099,10],[1100,10],[1101,10],[1102,10],[1103,10],[1104,10],[1105,10],[1106,10],[1107,10],[1108,10],[1109,10],[1110,10],[1111,10],[1112,10],[1113,10],[1114,10],[1115,10],[1116,10],[1117,10],[1118,10],[1119,10],[1120,10],[1121,10],[1122,10],[1123,10],[1124,10],[1125,10],[1126,10],[1127,10],[1128,10],[1129,10],[1130,10],[1131,10],[1132,10],[1133,10],[1134,10],[1135,10],[1136,10],[1137,10],[1138,10],[1139,10],[1140,10],[1141,10],[1142,10],[1143,10],[1144,10],[1145,10],[1146,10],[1147,10],[1148,10],[1149,10],[1150,10],[1151,10],[1152,10],[1153,10],[1154,10],[1155,10],[1156,10],[1157,10],[1158,10],[1159,10],[1160,10],[1161,10],[1162,10],[1163,10],[1164,10],[1165,10],[1166,10],[1167,10],[1168,10],[1169,10],[1170,10],[1171,10],[1172,10],[1173,10],[1174,10],[1175,10],[1176,10],[1177,10],[1178,10],[1179,10],[1180,10],[1181,10],[1182,10],[1183,10],[1184,10],[1185,10],[1186,10],[1187,10],[1188,10],[1189,10],[1190,10],[1191,10],[1192,10],[1193,10],[1194,10],[1195,10],[1196,10],[1197,10],[1198,10],[1199,10],[1200,10],[1201,10],[1202,10],[1203,10],[1204,10],[1205,10],[1206,10],[1207,10],[1208,10],[1209,10],[1210,10],[1211,10],[1212,10],[1213,10],[1214,10],[1215,10],[1216,10],[1217,10],[1218,10],[1219,10],[1220,10],[1221,10],[1222,10],[1223,10],[1224,10],[1225,10],[1226,10],[1227,10],[1228,10],[1229,10],[1230,10],[1231,10],[1232,10],[1233,10],[1234,10],[1235,10],[1236,10],[1237,10],[1238,10],[1239,10],[1240,10],[1241,10],[1242,10],[1243,10],[1244,10],[1245,10],[1246,10],[1247,10],[1248,10],[1249,10],[1250,10],[1251,10],[1252,10],[1253,10],[1254,10],[1255,10],[1256,10],[1257,10],[1258,10],[1259,10],[1260,10],[1261,10],[1262,10],[1263,10],[1264,10],[1265,10],[1266,10],[1267,10],[1268,10],[1269,10],[1270,10],[1271,10],[1272,10],[1273,10],[1274,10],[1275,10],[1276,10],[1277,10],[1278,10],[1279,10],[1280,10],[1281,10],[1282,10],[1283,10],[1284,10],[1285,10],[1286,10],[1287,10],[1288,10],[1289,10],[1290,10],[1291,10],[1292,10],[1293,10],[1294,10],[1295,10],[1296,10],[1297,10],[1298,10],[1299,10],[1300,10],[1301,10],[1302,10],[1303,10],[1304,10],[1305,10],[1306,10],[1307,10],[1308,10],[1309,10],[1310,10],[1311,10],[1312,10],[1313,10],[1314,10],[1315,10],[1316,10],[1317,10],[1318,10],[1319,10],[1320,10],[1321,10],[1322,10],[1323,10],[1324,10],[1325,10],[1326,10],[1327,10],[1328,10],[1329,10],[1330,10],[1331,10],[1332,10],[1333,10],[1334,10],[1335,10],[1336,10],[1337,10],[1338,10],[1339,10],[1340,10],[1341,10],[1342,10],[1343,10],[1344,10],[1345,10],[1346,10],[1347,10],[1348,10],[1349,10],[1350,10],[1351,10],[1352,10],[1353,10],[1354,10],[1355,10],[1356,10],[1357,10],[1358,10],[1359,10],[1360,10],[1361,10],[1362,10],[1363,10],[1364,10],[1365,10],[1366,10],[1367,10],[1368,10],[1369,10],[1370,10],[1371,10],[1372,10],[1373,10],[1374,10],[1375,10],[1376,10],[1377,10],[1378,10],[1379,10],[1380,10],[1381,10],[1382,10],[1383,10],[1384,10],[1385,10],[1386,10],[1387,10],[1388,10],[1389,10],[1390,10],[1391,10],[1392,10],[1393,10],[1394,10],[1395,10],[1396,10],[1397,10],[1398,10],[1399,10],[1400,10],[1401,10],[1402,10],[1403,10],[1404,10],[1405,10],[1406,10],[1407,10],[1408,10],[1409,10],[1410,10],[1411,10],[1412,10],[1413,10],[1414,10],[1415,10],[1416,10],[1417,10],[1418,10],[1419,10],[1420,10],[1421,10],[1422,10],[1423,10],[1424,10],[1425,10],[1426,10],[1427,10],[1428,10],[1429,10],[1430,10],[1431,10],[1432,10],[1433,10],[1434,10],[1435,10],[1436,10],[1437,10],[1438,10],[1439,10],[1440,10],[1441,10],[1442,10],[1443,10],[1444,10],[1445,10],[1446,10],[1447,10],[1448,10],[1449,10],[1450,10],[1451,10],[1452,10],[1453,10],[1454,10],[1455,10],[1456,10],[1457,10],[1458,10],[1459,10],[1460,10],[1461,10],[1462,10],[1463,10],[1464,10],[1465,10],[1466,10],[1467,10],[1468,10],[1469,10],[1470,10],[1471,10],[1472,10],[1473,10],[1474,10],[1475,10],[1476,10],[1477,10],[1478,10],[1479,10],[1480,10],[1481,10],[1482,10],[1483,10],[1484,10],[1485,10],[1486,10],[1487,10],[1488,10],[1489,10],[1490,10],[1491,10],[1492,10],[1493,10],[1494,10],[1495,10],[1496,10],[1497,10],[1498,10],[1499,10],[1500,10],[1501,10],[1502,10],[1503,10],[1504,10],[1505,10],[1506,10],[1507,10],[1508,10],[1509,10],[1510,10],[1511,10],[1512,10],[1513,10],[1514,10],[1515,10],[1516,10],[1517,10],[1518,10],[1519,10],[1520,10],[1521,10],[1522,10],[1523,10],[1524,10],[1525,10],[1526,10],[1527,10],[1528,10],[1529,10],[1530,10],[1531,10],[1532,10],[1533,10],[1534,10],[1535,10],[1536,10],[1537,10],[1538,10],[1539,10],[1540,10],[1541,10],[1542,10],[1543,10],[1544,10],[1545,10],[1546,10],[1547,10],[1548,10],[1549,10],[1550,10],[1551,10],[1552,10],[1553,10],[1554,10],[1555,10],[1556,10],[1557,10],[1558,10],[1559,10],[1560,10],[1561,10],[1562,10],[1563,10],[1564,10],[1565,10],[1566,10],[1567,10],[1568,10],[1569,10],[1570,10],[1571,10],[1572,10],[1573,10],[1574,10],[1575,10],[1576,10],[1577,10],[1578,10],[1579,10],[1580,10],[1581,10],[1582,10],[1583,10],[1584,10],[1585,10],[1586,10],[1587,10],[1588,10],[1589,10],[1590,10],[1591,10],[1592,10],[1593,10],[1594,10],[1595,10],[1596,10],[1597,10],[1598,10],[1599,10],[1600,10],[1601,10],[1602,10],[1603,10],[1604,10],[1605,10],[1606,10],[1607,10],[1608,10],[1609,10],[1610,10],[1611,10],[1612,10],[1613,10],[1614,10],[1615,10],[1616,10],[1617,10],[1618,10],[1619,10],[1620,10],[1621,10],[1622,10],[1623,10],[1624,10],[1625,10],[1626,10],[1627,10],[1628,10],[1629,10],[1630,10],[1631,10],[1632,10],[1633,10],[1634,10],[1635,10],[1636,10],[1637,10],[1638,10],[1639,10],[1640,10],[1641,10],[1642,10],[1643,10],[1644,10],[1645,10],[1646,10],[1647,10],[1648,10],[1649,10],[1650,10],[1651,10],[1652,10],[1653,10],[1654,10],[1655,10],[1656,10],[1657,10],[1658,10],[1659,10],[1660,10],[1661,10],[1662,10],[1663,10],[1664,10],[1665,10],[1666,10],[1667,10],[1668,10],[1669,10],[1670,10],[1671,10],[1672,10],[1673,10],[1674,10],[1675,10],[1676,10],[1677,10],[1678,10],[1679,10],[1680,10],[1681,10],[1682,10],[1683,10],[1684,10],[1685,10],[1686,10],[1687,10],[1688,10],[1689,10],[1690,10],[1691,10],[1692,10],[1693,10],[1694,10],[1695,10],[1696,10],[1697,10],[1698,10],[1699,10],[1700,10],[1701,10],[1702,10],[1703,10],[1704,10],[1705,10],[1706,10],[1707,10],[1708,10],[1709,10],[1710,10],[1711,10],[1712,10],[1713,10],[1714,10],[1715,10],[1716,10],[1717,10],[1718,10],[1719,10],[1720,10],[1721,10],[1722,10],[1723,10],[1724,10],[1725,10],[1726,10],[1727,10],[1728,10],[1729,10],[1730,10],[1731,10],[1732,10],[1733,10],[1734,10],[1735,10],[1736,10],[1737,10],[1738,10],[1739,10],[1740,10],[1741,10],[1742,10],[1743,10],[1744,10],[1745,10],[1746,10],[1747,10],[1748,10],[1749,10],[1750,10],[1751,10],[1752,10],[1753,10],[1754,10],[1755,10],[1756,10],[1757,10],[1758,10],[1759,10],[1760,10],[1761,10],[1762,10],[1763,10],[1764,10],[1765,10],[1766,10],[1767,10],[1768,10],[1769,10],[1770,10],[1771,10],[1772,10],[1773,10],[1774,10],[1775,10],[1776,10],[1777,10],[1778,10],[1779,10],[1780,10],[1781,10],[1782,10],[1783,10],[1784,10],[1785,10],[1786,10],[1787,10],[1788,10],[1789,10],[1790,10],[1791,10],[1792,10],[1793,10],[1794,10],[1795,10],[1796,10],[1797,10],[1798,10],[1799,20]], {}); };\\n    if (\\\"Chartkick\\\" in window) {\\n      createChart();\\n    } else {\\n      window.addEventListener(\\\"chartkick:load\\\", createChart, true);\\n    }\\n  })();\\n</script><script>\\n  (function() {\\n    if (document.documentElement.hasAttribute(\\\"data-turbolinks-preview\\\")) return;\\n    if (document.documentElement.hasAttribute(\\\"data-turbo-preview\\\")) return;\\n\\n    var createChart = function() { new Chartkick[\\\"ColumnChart\\\"](\\\"chart-82\\\", [[0.01,73],[0.02,50],[0.03,28],[0.04,22],[0.05,25],[0.06,19],[0.07,13],[0.08,15],[0.09,16],[0.1,17],[0.11,14],[0.12,8],[0.13,8],[0.14,6],[0.15,6],[0.16,2],[0.17,5],[0.18,9],[0.19,6],[0.2,8],[0.21,8],[0.22,5],[0.23,8],[0.24,5],[0.25,6],[0.26,5],[0.27,9],[0.28,10],[0.29,7],[0.3,5],[0.31,1],[0.32,3],[0.33,4],[0.34,2],[0.35,2],[0.37,4],[0.39,1],[0.4,2],[0.41,1],[0.42,1],[0.43,5],[0.44,2],[0.46,4],[0.47,1],[0.48,5],[0.49,1],[0.5,11],[0.53,2],[0.56,1],[0.6,1],[0.67,2],[0.7,2],[0.74,1],[0.77,3],[0.8,2],[0.83,2],[0.85,1],[0.86,1],[0.89,2],[0.91,2],[0.95,3],[0.97,2],[0.99,1],[1.0,1],[1.49,1],[2.8,1],[2.85,1],[2.97,1]], {}); };\\n    if (\\\"Chartkick\\\" in window) {\\n      createChart();\\n    } else {\\n      window.addEventListener(\\\"chartkick:load\\\", createChart, true);\\n    }\\n  })();\\n</script><script>\\n  (function() {\\n    if (document.documentElement.hasAttribute(\\\"data-turbolinks-preview\\\")) return;\\n    if (document.documentElement.hasAttribute(\\\"data-turbo-preview\\\")) return;\\n\\n    var createChart = function() { new Chartkick[\\\"ColumnChart\\\"](\\\"chart-81\\\", [[0,18000]], {}); };\\n    if (\\\"Chartkick\\\" in window) {\\n      createChart();\\n    } else {\\n      window.addEventListener(\\\"chartkick:load\\\", createChart, true);\\n    }\\n  })();\\n</script>\""
      ]
     },
     "metadata": {},
     "output_type": "display_data"
    }
   ],
   "source": [
    "# -- sim --\n",
    "load \"./helper.rb\"\n",
    "\n",
    "world=world_init(world)\n",
    "\n",
    "user_number = []\n",
    "\n",
    "world[:config][:sim_time].times do |month|\n",
    "    world=world_begin_day(world)\n",
    "    \n",
    "        # 每天恒定新增 10 个用户\n",
    "        new_users = 10\n",
    "\n",
    "        new_users.times do |x|\n",
    "            world = world_add_rand_user(world)\n",
    "        end\n",
    "    \n",
    "        user_number.push(world[:entity][:users].size)\n",
    "\n",
    "    world=world_end_day(world)\n",
    "    world=world_next_day(world)\n",
    "end\n",
    "\n",
    "puts_header \"用户数量\",:level=>4\n",
    "delta_chart(user_number.map.with_index {|x,i| [i,x] }.filter {|x| x[0]%30==0}.map {|x| x[0]=x[0]/30; x})\n",
    "\n",
    "\n",
    "chart1_name=\"用户等级分布\"\n",
    "chart1 = column_chart(gen_dist(world[:entity][:users].map do |x| x[:level] end).to_h)\n",
    "\n",
    "chart2_name=\"用户当前活跃度\"\n",
    "chart2 = column_chart(gen_dist(world[:entity][:users].map do |x| x[:active_rate].round(2) end.filter {|x| x>0.001}).to_h)\n",
    "\n",
    "chart3_name=\"用户年龄分布\"\n",
    "chart3 = column_chart(gen_dist(world[:entity][:users].map do |x| x[:age] end).to_h)\n",
    "\n",
    "\n",
    "layout_triple_chart(chart1,chart2,chart3,chart1_name,chart2_name,chart3_name)"
   ]
  },
  {
   "cell_type": "markdown",
   "id": "d080d570-82cd-4913-a9b1-e8b0f1139dce",
   "metadata": {},
   "source": [
    "## 挖矿\n",
    "\n",
    "### 生物鱼挖矿 v.s 机器清道夫挖矿\n",
    "\n",
    "鱼是挖矿的绝对核心主力，在这个过程中，会掉落一些碎片到岩石深处生物鱼去不了的地方，机器清道夫负责捡起来这些小碎片。\n",
    "\n",
    "抽出来的NFT是鱼，每个矿场有若干免费的机器清道夫（也可以没有，项目方来定义）。免费机器清道夫限量抢，每个用户只能抢1条免费的机器清道夫。机器清道夫和账号绑定，不是NFT资产，不能转让。在挖矿时间结束之后，矿场会清理，机器清道夫随着矿场自动消失。机器清道夫不需要排队绑定矿场，抢到之后会自动工作，然后再矿场结束的时候来结算减到的碎片。\n",
    "\n",
    "游戏项目方定义，在duration 天的时间里面开放矿场挖矿，一共有 total_token 的矿石被产出，其中 mining_token 是被鱼挖走, airdrop_tokon是被机器清道夫挖走  (total_token=mining_token+airdrop_tokon)。项目方设定矿场尺寸，最多允许有mining_limit条生物鱼进来挖矿，和最多有airdrop_limit个机器清道夫。\n",
    "\n",
    "那么每天矿场产出 total_token/duration\n",
    "\n",
    "所有鱼大家进入一个候选池等待，开放挖矿的时候，以侯选池鱼的敏捷度为权重挑选鱼进矿场挖矿。如果有鱼提前离开，那么空出的个位置，在侯选池鱼里面敏捷度为权重挑选鱼进矿场挖矿。\n",
    "\n",
    "挖矿的产出，每天total_token/duration，每个小时 total_token/duration/24。按照这个小时里面的所有鱼的力量挖矿贡献 （力量 * 时间）来分配这个小时产出的所有矿产\n"
   ]
  },
  {
   "cell_type": "markdown",
   "id": "d1826d68-663d-466a-8666-cfd5b69e62b8",
   "metadata": {},
   "source": [
    "### 致幻剂加速挖矿\n",
    "加速挖矿，可以投喂鱼致幻剂，这样来激活鱼大脑前庭松果体，松果体短暂预测未来，看到矿在什么地方，然后可以直接撞击掉下矿。这种激活非常短暂，所以需要持续不断喂致幻剂，鱼就会持续在矿场里面直接产出Game Token\n",
    "\n",
    "Mona就是海中稀有的海地热泉喷出来的热液，每个容器的热液就是1Mona，所以Mona是可以无限细分的。所以Mona是有新增(去海地热泉采集，极端危险)，Mona有存储，Mona有销毁（倒掉在海里了）\n",
    "\n",
    "鱼直接喝掉一份Mona，就马上可以获得预知未来的能力一个时间tick\n",
    "\n",
    "项目方定义一个系数，矿石分离度。这一个时间tick的短暂里面，能够产出多少的Game Token。\n",
    "- 有些矿石紧密，鱼喝掉一份Mona，一个tick产出100个token。 Aka: 1Mona->100Token\n",
    "- 有些矿石稀释，鱼喝掉一份Mona，一个tick产出1个 token。Aka: 1Mona->1Token\n",
    "\n",
    "【IDO】项目方允许用户花钱(Mona)来换成Game token。IDO和鱼的能力值没有关系，无论什么鱼，都是一个固定的兑换比例来产出。\n",
    "\n",
    "需要对单鱼/单用户 设置吃致幻剂加速的上限（IDO的单用户份额限制）。"
   ]
  },
  {
   "cell_type": "code",
   "execution_count": 149,
   "id": "93586e58-a5bc-44b6-b0ca-b949397c82c7",
   "metadata": {},
   "outputs": [],
   "source": [
    "# ==模拟==\n",
    "\n",
    "#项目方参数定义\n",
    "game1 = {\n",
    "    :name=>\"GameApple\", \n",
    "    :token=>\"AppleCoin\", \n",
    "    :launch_time=>0,\n",
    "    :duration=>5, \n",
    "    :total_token=>100000, \n",
    "    :mining_token=>90000, \n",
    "    :airdrop_tokon=>10000, \n",
    "    :mining_limit=>5000, \n",
    "    :airdrop_limit=>10000\n",
    "}\n",
    "\n",
    "game2 = {\n",
    "    :name=>\"GameBanana\", \n",
    "    :token=>\"BananaCoin\", \n",
    "    :launch_time=>3,\n",
    "    :duration=>10, \n",
    "    :total_token=>200000, \n",
    "    :mining_token=>100000, \n",
    "    :airdrop_tokon=>100000, \n",
    "    :mining_limit=>8000, \n",
    "    :airdrop_limit=>100000\n",
    "}\n",
    "world=world_init(world)\n",
    "\n",
    "# Step 1 - 10000个用户开盒子, 每个用户开一个盒子\n",
    "users = 10000\n",
    "\n",
    "users.times do |x|\n",
    "    world = world_add_user(world)\n",
    "    user = world_get_last_user(world)\n",
    "    world = world_add_rand_fish(world,user)\n",
    "end\n",
    "\n",
    "world = world_add_game(world,game1)\n",
    "world = world_add_game(world,game2)\n",
    "\n",
    "\n",
    "nil"
   ]
  },
  {
   "cell_type": "code",
   "execution_count": 266,
   "id": "7aa0e6ec-b392-46d9-b7f6-291d3d56efa1",
   "metadata": {},
   "outputs": [],
   "source": [
    "# load './helper.rb'\n",
    "\n",
    "# # Day 1\n",
    "# world = world_prepare_game(world)\n",
    "# world = world_end_month(world)\n",
    "# world_stats(world)\n",
    "# world = world_next_month(world)\n",
    "\n",
    "# # Day 2\n",
    "# world = world_prepare_game(world)\n",
    "# world = world_end_month(world)\n",
    "# world_stats(world)\n",
    "# world = world_next_month(world)\n",
    "\n",
    "# nil\n"
   ]
  },
  {
   "cell_type": "markdown",
   "id": "fc692a67-369c-4f0c-8343-18aab95d52d8",
   "metadata": {},
   "source": [
    "# 世界模拟器"
   ]
  },
  {
   "cell_type": "code",
   "execution_count": null,
   "id": "297ba08e-3d26-468e-a02d-2463f2daab63",
   "metadata": {},
   "outputs": [],
   "source": []
  }
 ],
 "metadata": {
  "kernelspec": {
   "display_name": "Ruby 3.0.0",
   "language": "ruby",
   "name": "ruby"
  },
  "language_info": {
   "file_extension": ".rb",
   "mimetype": "application/x-ruby",
   "name": "ruby",
   "version": "3.0.0"
  }
 },
 "nbformat": 4,
 "nbformat_minor": 5
}
